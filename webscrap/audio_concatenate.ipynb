{
 "cells": [
  {
   "cell_type": "code",
   "execution_count": 4,
   "metadata": {
    "ExecuteTime": {
     "end_time": "2020-12-02T07:28:47.834739Z",
     "start_time": "2020-12-02T07:28:47.832193Z"
    }
   },
   "outputs": [],
   "source": [
    "import pydub\n",
    "from pydub import AudioSegment\n",
    "import os \n",
    "from pydub.playback import play\n",
    "from pydub import AudioSegment\n",
    "os.environ[\"PATH\"] += os.pathsep + '/usr/local/bin'"
   ]
  },
  {
   "cell_type": "code",
   "execution_count": 5,
   "metadata": {
    "ExecuteTime": {
     "end_time": "2020-12-02T08:11:20.005773Z",
     "start_time": "2020-12-02T08:11:20.002291Z"
    }
   },
   "outputs": [],
   "source": [
    "\n",
    "def get_wavs_from_directory(dirpath):\n",
    "    \n",
    "    playlist = []\n",
    "    \n",
    "    for file in os.listdir(dirpath):\n",
    "        if file not in (\".ipynb_checkpoints\"):\n",
    "            print(file)\n",
    "            sound = AudioSegment.from_file(f\"{dirpath}{file}\") # f\"{dirpath}{file}\"\n",
    "        \n",
    "        # check length for 30 seconds in milliseconds\n",
    "            while len(sound) < 30000:\n",
    "                sound = sound * 2\n",
    "        \n",
    "            playlist.append(sound)\n",
    "    \n",
    "    \n",
    "    return playlist"
   ]
  },
  {
   "cell_type": "markdown",
   "metadata": {},
   "source": [
    "# Choose the data path to the raw scraped audio. \n",
    "* Here we will extend each audio track to 30 seconds and store into a new directory."
   ]
  },
  {
   "cell_type": "code",
   "execution_count": 6,
   "metadata": {
    "ExecuteTime": {
     "end_time": "2020-12-02T08:31:21.718172Z",
     "start_time": "2020-12-02T08:31:21.708816Z"
    }
   },
   "outputs": [
    {
     "name": "stdout",
     "output_type": "stream",
     "text": [
      "6405500E.wav\n",
      "64055003.wav\n",
      "64038006.wav\n",
      "64038007.wav\n",
      "6403800A.wav\n",
      "64055002.wav\n",
      "6405500D.wav\n",
      "6405500F.wav\n",
      "64038005.wav\n",
      "64038004.wav\n",
      "6403800B.wav\n",
      "6405500P.wav\n",
      "64055001.wav\n",
      "6405500G.wav\n",
      "64055005.wav\n",
      "6405500C.wav\n",
      "64042009.wav\n",
      "64042008.wav\n",
      "64038001.wav\n",
      "6405500B.wav\n",
      "64055004.wav\n",
      "64055006.wav\n",
      "64038003.wav\n",
      "64038002.wav\n",
      "6405500A.wav\n",
      "64055007.wav\n",
      "64054008.wav\n",
      "64037008.wav\n",
      "64043004.wav\n",
      "64041001.wav\n",
      "64043005.wav\n",
      "64037009.wav\n",
      "64054009.wav\n",
      "6404100D.wav\n",
      "64041002.wav\n",
      "64041003.wav\n",
      "6405400L.wav\n",
      "6405400H.wav\n",
      "6403700H.wav\n",
      "64043002.wav\n",
      "64041007.wav\n",
      "6404100A.wav\n",
      "64041006.wav\n",
      "64043003.wav\n",
      "6405400I.wav\n",
      "6405400K.wav\n",
      "64043001.wav\n",
      "64041004.wav\n",
      "6404100B.wav\n",
      "64056008.wav\n",
      "64056009.wav\n",
      "6404100C.wav\n",
      "64041005.wav\n",
      "6405400J.wav\n",
      "64054001.wav\n",
      "6405400G.wav\n",
      "6403700G.wav\n",
      "64037001.wav\n",
      "64044004.wav\n",
      "64046001.wav\n",
      "64041008.wav\n",
      "64056004.wav\n",
      "6405600B.wav\n",
      "6405600C.wav\n",
      "64056005.wav\n",
      "64041009.wav\n",
      "64044005.wav\n",
      "6403700F.wav\n",
      "6405400F.wav\n",
      "64054002.wav\n",
      "6405400D.wav\n",
      "6403700D.wav\n",
      "64037002.wav\n",
      "64046002.wav\n",
      "64056007.wav\n",
      "6405600A.wav\n",
      "64056006.wav\n",
      "64046003.wav\n",
      "64044006.wav\n",
      "64037003.wav\n",
      "6403700E.wav\n",
      "6405400E.wav\n",
      "64054003.wav\n",
      "6405400A.wav\n",
      "64054007.wav\n",
      "64037007.wav\n",
      "6403700A.wav\n",
      "64044002.wav\n",
      "64046007.wav\n",
      "64056002.wav\n",
      "64056003.wav\n",
      "64046006.wav\n",
      "64044003.wav\n",
      "64037006.wav\n",
      "64054006.wav\n",
      "6405400B.wav\n",
      "64054004.wav\n",
      "64037004.wav\n",
      "6403700B.wav\n",
      "64044001.wav\n",
      "64046004.wav\n",
      "64056001.wav\n",
      "64046005.wav\n",
      "6403700C.wav\n",
      "64037005.wav\n",
      "64054005.wav\n",
      "6405400C.wav\n",
      "64040003.wav\n",
      "6405500L.wav\n",
      "64042006.wav\n",
      "6404200A.wav\n",
      "64042007.wav\n",
      "6405500M.wav\n",
      "64040002.wav\n",
      "64055009.wav\n",
      "6405500O.wav\n",
      "64042005.wav\n",
      "6404200B.wav\n",
      "64042004.wav\n",
      "6405500N.wav\n",
      "64055008.wav\n",
      "64040001.wav\n",
      "64040005.wav\n",
      "6405500J.wav\n",
      "64038009.wav\n",
      "64042001.wav\n",
      "64038008.wav\n",
      "6405500K.wav\n",
      "64040004.wav\n",
      "6405500I.wav\n",
      "64042003.wav\n",
      "64042002.wav\n",
      "6405500H.wav\n"
     ]
    }
   ],
   "source": [
    "dirpath = \"../marine_data/WeddellSeal/\"\n",
    "playlist = get_wavs_from_directory(dirpath)"
   ]
  },
  {
   "cell_type": "code",
   "execution_count": 7,
   "metadata": {
    "ExecuteTime": {
     "end_time": "2020-12-02T08:31:24.856651Z",
     "start_time": "2020-12-02T08:31:24.853008Z"
    }
   },
   "outputs": [
    {
     "data": {
      "text/plain": [
       "133"
      ]
     },
     "execution_count": 7,
     "metadata": {},
     "output_type": "execute_result"
    }
   ],
   "source": [
    "len(playlist)"
   ]
  },
  {
   "cell_type": "code",
   "execution_count": 8,
   "metadata": {
    "ExecuteTime": {
     "end_time": "2020-11-25T08:24:31.872292Z",
     "start_time": "2020-11-25T08:24:31.870217Z"
    }
   },
   "outputs": [],
   "source": [
    "# playlist = playlist*2 # use this to double the size of the audio"
   ]
  },
  {
   "cell_type": "code",
   "execution_count": 9,
   "metadata": {
    "ExecuteTime": {
     "end_time": "2020-12-02T08:13:43.932899Z",
     "start_time": "2020-12-02T08:13:43.929533Z"
    }
   },
   "outputs": [],
   "source": [
    "# make 30 second chuncks for each wav file.\n",
    "from pydub.utils import make_chunks\n",
    "\n",
    "def save_new_audio(playlist, fish, path):\n",
    "    \n",
    "    chunk_len = 30000\n",
    "    \n",
    "    for idx, wav in enumerate(playlist):\n",
    "        audio = make_chunks(wav, chunk_len)\n",
    "        audio[0].export(f\"{path}{fish}{idx}.wav\", format=\"wav\")\n",
    "        \n",
    "    "
   ]
  },
  {
   "cell_type": "markdown",
   "metadata": {},
   "source": [
    "# Choose the path to the training_data"
   ]
  },
  {
   "cell_type": "code",
   "execution_count": 11,
   "metadata": {
    "ExecuteTime": {
     "end_time": "2020-12-02T08:31:40.594588Z",
     "start_time": "2020-12-02T08:31:40.588516Z"
    }
   },
   "outputs": [],
   "source": [
    "# new directory to store lengthen audio\n",
    "path = \"../training_data/WeddellSeal/\"\n",
    "fish = \"new_weddell_seal\" # rename class\n",
    "save_new_audio(playlist, fish, path) # can switch path depending on how you want to store"
   ]
  },
  {
   "cell_type": "markdown",
   "metadata": {},
   "source": [
    "# Part 2:\n",
    "* Now that each class has 30 second audio file of the original audio we will duplicate the audio files and augment this half for each class. These augmented files will be stored back in the appropriate class of the dataset.\n"
   ]
  },
  {
   "cell_type": "code",
   "execution_count": 12,
   "metadata": {
    "ExecuteTime": {
     "end_time": "2020-12-02T08:28:31.604151Z",
     "start_time": "2020-12-02T08:28:31.597900Z"
    }
   },
   "outputs": [],
   "source": [
    "# get path to training data and augment the audio\n",
    "import random \n",
    "from random import choice\n",
    "\n",
    "def get_wavs_from_training(dirpath= \"../\", fish=\"Walrus\"):\n",
    "    \n",
    "    aug_playlist = []\n",
    "    \n",
    "    for file in os.listdir(dirpath):\n",
    "        if file not in (\".ipynb_checkpoints\"):\n",
    "            sound = AudioSegment.from_file(f\"{dirpath}{file}\")\n",
    "            aug_playlist.append(sound)\n",
    "            \n",
    "    for idx, sound in enumerate(aug_playlist):\n",
    "        octaves = random.choice([0.1667, -0.1667]) # randomly choose +/- 2 semitones\n",
    "        dB = random.choice([3, -3]) # randomly choose +/- 3 dB\n",
    "        \n",
    "        new_sample_rate = int(sound.frame_rate * (2.0 ** octaves))\n",
    "        new_sound = sound._spawn(sound.raw_data, overrides={'frame_rate': new_sample_rate})\n",
    "        \n",
    "        # grab the first 15 and last 15 and concat\n",
    "        seconds = 15 * 1000\n",
    "            \n",
    "        first = new_sound[:seconds]\n",
    "        last = new_sound[-seconds+1:] # add the - to get the last 15 sec\n",
    "            \n",
    "        aug_samp = first + last\n",
    "        aug_samp = aug_samp + dB # increase/decrease volume \n",
    "        \n",
    "        # export augmented audio into its appropriate class\n",
    "        aug_samp.export(f\"{dirpath}{fish}_aug_{idx}.wav\", format=\"wav\") # switch path b/t path or dirpath2\n",
    "        print(f\"Saved Augmented file {idx}\")\n",
    "\n",
    "\n"
   ]
  },
  {
   "cell_type": "code",
   "execution_count": 13,
   "metadata": {
    "ExecuteTime": {
     "end_time": "2020-12-02T08:31:46.533726Z",
     "start_time": "2020-12-02T08:31:46.508403Z"
    }
   },
   "outputs": [
    {
     "name": "stdout",
     "output_type": "stream",
     "text": [
      "Saved Augmented file 0\n",
      "Saved Augmented file 1\n",
      "Saved Augmented file 2\n",
      "Saved Augmented file 3\n",
      "Saved Augmented file 4\n",
      "Saved Augmented file 5\n",
      "Saved Augmented file 6\n",
      "Saved Augmented file 7\n",
      "Saved Augmented file 8\n",
      "Saved Augmented file 9\n",
      "Saved Augmented file 10\n",
      "Saved Augmented file 11\n",
      "Saved Augmented file 12\n",
      "Saved Augmented file 13\n",
      "Saved Augmented file 14\n",
      "Saved Augmented file 15\n",
      "Saved Augmented file 16\n",
      "Saved Augmented file 17\n",
      "Saved Augmented file 18\n",
      "Saved Augmented file 19\n",
      "Saved Augmented file 20\n",
      "Saved Augmented file 21\n",
      "Saved Augmented file 22\n",
      "Saved Augmented file 23\n",
      "Saved Augmented file 24\n",
      "Saved Augmented file 25\n",
      "Saved Augmented file 26\n",
      "Saved Augmented file 27\n",
      "Saved Augmented file 28\n",
      "Saved Augmented file 29\n",
      "Saved Augmented file 30\n",
      "Saved Augmented file 31\n",
      "Saved Augmented file 32\n",
      "Saved Augmented file 33\n",
      "Saved Augmented file 34\n",
      "Saved Augmented file 35\n",
      "Saved Augmented file 36\n",
      "Saved Augmented file 37\n",
      "Saved Augmented file 38\n",
      "Saved Augmented file 39\n",
      "Saved Augmented file 40\n",
      "Saved Augmented file 41\n",
      "Saved Augmented file 42\n",
      "Saved Augmented file 43\n",
      "Saved Augmented file 44\n",
      "Saved Augmented file 45\n",
      "Saved Augmented file 46\n",
      "Saved Augmented file 47\n",
      "Saved Augmented file 48\n",
      "Saved Augmented file 49\n",
      "Saved Augmented file 50\n",
      "Saved Augmented file 51\n",
      "Saved Augmented file 52\n",
      "Saved Augmented file 53\n",
      "Saved Augmented file 54\n",
      "Saved Augmented file 55\n",
      "Saved Augmented file 56\n",
      "Saved Augmented file 57\n",
      "Saved Augmented file 58\n",
      "Saved Augmented file 59\n",
      "Saved Augmented file 60\n",
      "Saved Augmented file 61\n",
      "Saved Augmented file 62\n",
      "Saved Augmented file 63\n",
      "Saved Augmented file 64\n",
      "Saved Augmented file 65\n",
      "Saved Augmented file 66\n",
      "Saved Augmented file 67\n",
      "Saved Augmented file 68\n",
      "Saved Augmented file 69\n",
      "Saved Augmented file 70\n",
      "Saved Augmented file 71\n",
      "Saved Augmented file 72\n",
      "Saved Augmented file 73\n",
      "Saved Augmented file 74\n",
      "Saved Augmented file 75\n",
      "Saved Augmented file 76\n",
      "Saved Augmented file 77\n",
      "Saved Augmented file 78\n",
      "Saved Augmented file 79\n",
      "Saved Augmented file 80\n",
      "Saved Augmented file 81\n",
      "Saved Augmented file 82\n",
      "Saved Augmented file 83\n",
      "Saved Augmented file 84\n",
      "Saved Augmented file 85\n",
      "Saved Augmented file 86\n",
      "Saved Augmented file 87\n",
      "Saved Augmented file 88\n",
      "Saved Augmented file 89\n",
      "Saved Augmented file 90\n",
      "Saved Augmented file 91\n",
      "Saved Augmented file 92\n",
      "Saved Augmented file 93\n",
      "Saved Augmented file 94\n",
      "Saved Augmented file 95\n",
      "Saved Augmented file 96\n",
      "Saved Augmented file 97\n",
      "Saved Augmented file 98\n",
      "Saved Augmented file 99\n",
      "Saved Augmented file 100\n",
      "Saved Augmented file 101\n",
      "Saved Augmented file 102\n",
      "Saved Augmented file 103\n",
      "Saved Augmented file 104\n",
      "Saved Augmented file 105\n",
      "Saved Augmented file 106\n",
      "Saved Augmented file 107\n",
      "Saved Augmented file 108\n",
      "Saved Augmented file 109\n",
      "Saved Augmented file 110\n",
      "Saved Augmented file 111\n",
      "Saved Augmented file 112\n",
      "Saved Augmented file 113\n",
      "Saved Augmented file 114\n",
      "Saved Augmented file 115\n",
      "Saved Augmented file 116\n",
      "Saved Augmented file 117\n",
      "Saved Augmented file 118\n",
      "Saved Augmented file 119\n",
      "Saved Augmented file 120\n",
      "Saved Augmented file 121\n",
      "Saved Augmented file 122\n",
      "Saved Augmented file 123\n",
      "Saved Augmented file 124\n",
      "Saved Augmented file 125\n",
      "Saved Augmented file 126\n",
      "Saved Augmented file 127\n",
      "Saved Augmented file 128\n",
      "Saved Augmented file 129\n",
      "Saved Augmented file 130\n",
      "Saved Augmented file 131\n",
      "Saved Augmented file 132\n"
     ]
    }
   ],
   "source": [
    "# store augmented files back into the original training directories\n",
    "get_wavs_from_training(path, fish)"
   ]
  },
  {
   "cell_type": "code",
   "execution_count": null,
   "metadata": {},
   "outputs": [],
   "source": []
  }
 ],
 "metadata": {
  "kernelspec": {
   "display_name": "Python 3.9.6 ('mammal-env': venv)",
   "language": "python",
   "name": "python3"
  },
  "language_info": {
   "codemirror_mode": {
    "name": "ipython",
    "version": 3
   },
   "file_extension": ".py",
   "mimetype": "text/x-python",
   "name": "python",
   "nbconvert_exporter": "python",
   "pygments_lexer": "ipython3",
   "version": "3.9.6"
  },
  "varInspector": {
   "cols": {
    "lenName": 16,
    "lenType": 16,
    "lenVar": 40
   },
   "kernels_config": {
    "python": {
     "delete_cmd_postfix": "",
     "delete_cmd_prefix": "del ",
     "library": "var_list.py",
     "varRefreshCmd": "print(var_dic_list())"
    },
    "r": {
     "delete_cmd_postfix": ") ",
     "delete_cmd_prefix": "rm(",
     "library": "var_list.r",
     "varRefreshCmd": "cat(var_dic_list()) "
    }
   },
   "types_to_exclude": [
    "module",
    "function",
    "builtin_function_or_method",
    "instance",
    "_Feature"
   ],
   "window_display": false
  },
  "vscode": {
   "interpreter": {
    "hash": "493b80abc47aa7b326216acd9add0aacececdb560ee61268a57e4119b1c16a99"
   }
  }
 },
 "nbformat": 4,
 "nbformat_minor": 4
}
