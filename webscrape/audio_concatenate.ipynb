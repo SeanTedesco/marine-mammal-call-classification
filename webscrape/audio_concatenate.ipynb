{
 "cells": [
  {
   "cell_type": "markdown",
   "metadata": {},
   "source": [
    "### Imports"
   ]
  },
  {
   "cell_type": "code",
   "execution_count": 68,
   "metadata": {
    "ExecuteTime": {
     "end_time": "2020-12-02T07:28:47.834739Z",
     "start_time": "2020-12-02T07:28:47.832193Z"
    }
   },
   "outputs": [],
   "source": [
    "import pydub\n",
    "from pydub import AudioSegment\n",
    "import os \n",
    "from pydub.playback import play\n",
    "from pydub import AudioSegment\n",
    "from pydub.utils import make_chunks\n",
    "import random \n",
    "from random import choice\n",
    "os.environ[\"PATH\"] += os.pathsep + '/usr/local/bin'"
   ]
  },
  {
   "cell_type": "markdown",
   "metadata": {},
   "source": [
    "### Path Setup"
   ]
  },
  {
   "cell_type": "code",
   "execution_count": 69,
   "metadata": {},
   "outputs": [],
   "source": [
    "# provide the name of the marine mammal that is desired to be\n",
    "mammal_name = \"HumpbackWhale\"\n",
    "\n",
    "# the path to the raw Watkins Audio Samples \n",
    "path_to_raw_data = f\"../marine_data/{mammal_name}/\"\n",
    "\n",
    "# path to new directory to store lengthened (30s) audio\n",
    "training_data_path = f\"../training_data/{mammal_name}/\"\n"
   ]
  },
  {
   "cell_type": "markdown",
   "metadata": {},
   "source": [
    "### Function Declarations"
   ]
  },
  {
   "cell_type": "code",
   "execution_count": 70,
   "metadata": {
    "ExecuteTime": {
     "end_time": "2020-12-02T08:11:20.005773Z",
     "start_time": "2020-12-02T08:11:20.002291Z"
    }
   },
   "outputs": [],
   "source": [
    "def get_wavs_from_directory(dirpath):\n",
    "    ''' extracts all files in the given directory\n",
    "    '''\n",
    "    \n",
    "    playlist = []\n",
    "    \n",
    "    for file in os.listdir(dirpath):\n",
    "        if file not in (\".ipynb_checkpoints\"):\n",
    "            sound = AudioSegment.from_file(f\"{dirpath}{file}\") # f\"{dirpath}{file}\"\n",
    "        \n",
    "        # check length for 30 seconds in milliseconds\n",
    "            while len(sound) < 30000:\n",
    "                sound = sound * 2\n",
    "        \n",
    "            playlist.append(sound)\n",
    "    \n",
    "    \n",
    "    return playlist"
   ]
  },
  {
   "cell_type": "code",
   "execution_count": 71,
   "metadata": {},
   "outputs": [],
   "source": [
    "def save_new_audio(playlist, fish, path):\n",
    "    '''make 30 second chuncks for each wav file.\n",
    "    '''\n",
    "    \n",
    "    chunk_len = 30000\n",
    "    os.mkdir(training_data_path)\n",
    "    \n",
    "    for idx, wav in enumerate(playlist):\n",
    "        audio = make_chunks(wav, chunk_len)\n",
    "        audio[0].export(f\"{path}{fish}{idx}.wav\", format=\"wav\")"
   ]
  },
  {
   "cell_type": "code",
   "execution_count": 72,
   "metadata": {},
   "outputs": [],
   "source": [
    "def get_wavs_from_training(dirpath= \"../\", fish=\"Walrus\"):\n",
    "    '''get path to training data and augment the audio\n",
    "    '''\n",
    "    \n",
    "    aug_playlist = []\n",
    "    aug_training_path = os.path.join(dirpath, '..', 'aug_training/')\n",
    "    os.makedirs(aug_training_path, exist_ok = True) \n",
    "    print(f'saving files to {aug_training_path}')\n",
    "    \n",
    "    for file in os.listdir(dirpath):\n",
    "        try:\n",
    "            if file not in (\".ipynb_checkpoints\"):\n",
    "                sound = AudioSegment.from_file(f\"{dirpath}{file}\")\n",
    "                aug_playlist.append(sound)\n",
    "        except IsADirectoryError as e:\n",
    "            continue\n",
    "            \n",
    "    for idx, sound in enumerate(aug_playlist):\n",
    "        octaves = random.choice([0.1667, -0.1667]) # randomly choose +/- 2 semitones\n",
    "        dB = random.choice([3, -3]) # randomly choose +/- 3 dB\n",
    "        \n",
    "        new_sample_rate = int(sound.frame_rate * (2.0 ** octaves))\n",
    "        new_sound = sound._spawn(sound.raw_data, overrides={'frame_rate': new_sample_rate})\n",
    "        \n",
    "        # grab the first 15 and last 15 and concatenate\n",
    "        seconds = 15 * 1000\n",
    "            \n",
    "        first = new_sound[:seconds]\n",
    "        last = new_sound[-seconds+1:] # add the - to get the last 15 sec\n",
    "            \n",
    "        aug_samp = first + last\n",
    "        aug_samp = aug_samp + dB # increase/decrease volume \n",
    "        \n",
    "        # export augmented audio into its appropriate class\n",
    "        aug_samp.export(f\"{aug_training_path}{fish}_aug_{idx}.wav\", format=\"wav\") # switch path b/t path or dirpath2\n",
    "\n",
    "    print(f\"saved {len(aug_playlist)} augmented files\")"
   ]
  },
  {
   "cell_type": "markdown",
   "metadata": {},
   "source": [
    "### Generate Training Data"
   ]
  },
  {
   "cell_type": "markdown",
   "metadata": {},
   "source": [
    "1. Extend each audio track to 30 seconds"
   ]
  },
  {
   "cell_type": "code",
   "execution_count": 73,
   "metadata": {
    "ExecuteTime": {
     "end_time": "2020-12-02T08:31:21.718172Z",
     "start_time": "2020-12-02T08:31:21.708816Z"
    }
   },
   "outputs": [
    {
     "name": "stdout",
     "output_type": "stream",
     "text": [
      "process 604 number of audio samples\n"
     ]
    }
   ],
   "source": [
    "playlist = get_wavs_from_directory(path_to_raw_data)\n",
    "playlist_len = len(playlist)\n",
    "print(f'process {playlist_len} number of audio samples')"
   ]
  },
  {
   "cell_type": "markdown",
   "metadata": {},
   "source": [
    "2. Store processed audio samples into a new directory"
   ]
  },
  {
   "cell_type": "code",
   "execution_count": 74,
   "metadata": {
    "ExecuteTime": {
     "end_time": "2020-12-02T08:13:43.932899Z",
     "start_time": "2020-12-02T08:13:43.929533Z"
    }
   },
   "outputs": [],
   "source": [
    "save_new_audio(playlist, mammal_name, training_data_path)"
   ]
  },
  {
   "cell_type": "markdown",
   "metadata": {},
   "source": [
    "### Augment Training Data\n",
    "1. duplicate audio files\n",
    "2. Augment this half for each class\n",
    "3. Save augmented audio back in the appropriate class in the training data set\n"
   ]
  },
  {
   "cell_type": "code",
   "execution_count": 75,
   "metadata": {
    "ExecuteTime": {
     "end_time": "2020-12-02T08:31:46.533726Z",
     "start_time": "2020-12-02T08:31:46.508403Z"
    }
   },
   "outputs": [
    {
     "name": "stdout",
     "output_type": "stream",
     "text": [
      "saving files to ../training_data/HumpbackWhale/aug_training/\n",
      "saved 604 augmented files\n"
     ]
    }
   ],
   "source": [
    "# store augmented files back into the original training directories\n",
    "get_wavs_from_training(training_data_path, mammal_name)"
   ]
  }
 ],
 "metadata": {
  "kernelspec": {
   "display_name": "Python 3.11.0 ('mammal-env': venv)",
   "language": "python",
   "name": "python3"
  },
  "language_info": {
   "codemirror_mode": {
    "name": "ipython",
    "version": 3
   },
   "file_extension": ".py",
   "mimetype": "text/x-python",
   "name": "python",
   "nbconvert_exporter": "python",
   "pygments_lexer": "ipython3",
   "version": "3.9.6"
  },
  "varInspector": {
   "cols": {
    "lenName": 16,
    "lenType": 16,
    "lenVar": 40
   },
   "kernels_config": {
    "python": {
     "delete_cmd_postfix": "",
     "delete_cmd_prefix": "del ",
     "library": "var_list.py",
     "varRefreshCmd": "print(var_dic_list())"
    },
    "r": {
     "delete_cmd_postfix": ") ",
     "delete_cmd_prefix": "rm(",
     "library": "var_list.r",
     "varRefreshCmd": "cat(var_dic_list()) "
    }
   },
   "types_to_exclude": [
    "module",
    "function",
    "builtin_function_or_method",
    "instance",
    "_Feature"
   ],
   "window_display": false
  },
  "vscode": {
   "interpreter": {
    "hash": "34ef32b04849682084fce80155c31b950d6cde80e98fb8c6edf1d39bac8ab09b"
   }
  }
 },
 "nbformat": 4,
 "nbformat_minor": 4
}
