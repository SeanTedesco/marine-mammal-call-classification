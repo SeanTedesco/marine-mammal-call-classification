{
 "cells": [
  {
   "cell_type": "markdown",
   "metadata": {},
   "source": [
    "### Imports"
   ]
  },
  {
   "cell_type": "code",
   "execution_count": 8,
   "metadata": {
    "ExecuteTime": {
     "end_time": "2020-12-02T07:28:47.834739Z",
     "start_time": "2020-12-02T07:28:47.832193Z"
    }
   },
   "outputs": [],
   "source": [
    "import pydub\n",
    "from pydub import AudioSegment\n",
    "import os \n",
    "from pydub.playback import play\n",
    "from pydub import AudioSegment\n",
    "from pydub.utils import make_chunks\n",
    "import random \n",
    "from random import choice\n",
    "os.environ[\"PATH\"] += os.pathsep + '/usr/local/bin'"
   ]
  },
  {
   "cell_type": "markdown",
   "metadata": {},
   "source": [
    "### Path Setup"
   ]
  },
  {
   "cell_type": "code",
   "execution_count": null,
   "metadata": {},
   "outputs": [],
   "source": [
    "# provide the name of the marine mammal that is desired to be\n",
    "mammal_name = \"WeddellSeal\"\n",
    "\n",
    "# the path to the raw Watkins Audio Samples \n",
    "path_to_raw_data = f\"../marine_data/{mammal_name}/\"\n",
    "\n",
    "# path to new directory to store lengthened (30s) audio\n",
    "training_data_path = f\"../training_data/{mammal_name}/\"\n"
   ]
  },
  {
   "cell_type": "markdown",
   "metadata": {},
   "source": [
    "### Function Declarations"
   ]
  },
  {
   "cell_type": "code",
   "execution_count": 5,
   "metadata": {
    "ExecuteTime": {
     "end_time": "2020-12-02T08:11:20.005773Z",
     "start_time": "2020-12-02T08:11:20.002291Z"
    }
   },
   "outputs": [],
   "source": [
    "def get_wavs_from_directory(dirpath):\n",
    "    ''' extracts all files in the given directory\n",
    "    '''\n",
    "    \n",
    "    playlist = []\n",
    "    \n",
    "    for file in os.listdir(dirpath):\n",
    "        if file not in (\".ipynb_checkpoints\"):\n",
    "            sound = AudioSegment.from_file(f\"{dirpath}{file}\") # f\"{dirpath}{file}\"\n",
    "        \n",
    "        # check length for 30 seconds in milliseconds\n",
    "            while len(sound) < 30000:\n",
    "                sound = sound * 2\n",
    "        \n",
    "            playlist.append(sound)\n",
    "    \n",
    "    \n",
    "    return playlist"
   ]
  },
  {
   "cell_type": "code",
   "execution_count": 6,
   "metadata": {},
   "outputs": [],
   "source": [
    "def save_new_audio(playlist, fish, path):\n",
    "    '''make 30 second chuncks for each wav file.\n",
    "    '''\n",
    "    \n",
    "    chunk_len = 30000\n",
    "    \n",
    "    for idx, wav in enumerate(playlist):\n",
    "        audio = make_chunks(wav, chunk_len)\n",
    "        audio[0].export(f\"{path}{fish}{idx}.wav\", format=\"wav\")"
   ]
  },
  {
   "cell_type": "code",
   "execution_count": null,
   "metadata": {},
   "outputs": [],
   "source": [
    "def get_wavs_from_training(dirpath= \"../\", fish=\"Walrus\"):\n",
    "    '''get path to training data and augment the audio\n",
    "    '''\n",
    "    \n",
    "    aug_playlist = []\n",
    "    \n",
    "    for file in os.listdir(dirpath):\n",
    "        if file not in (\".ipynb_checkpoints\"):\n",
    "            sound = AudioSegment.from_file(f\"{dirpath}{file}\")\n",
    "            aug_playlist.append(sound)\n",
    "            \n",
    "    for idx, sound in enumerate(aug_playlist):\n",
    "        octaves = random.choice([0.1667, -0.1667]) # randomly choose +/- 2 semitones\n",
    "        dB = random.choice([3, -3]) # randomly choose +/- 3 dB\n",
    "        \n",
    "        new_sample_rate = int(sound.frame_rate * (2.0 ** octaves))\n",
    "        new_sound = sound._spawn(sound.raw_data, overrides={'frame_rate': new_sample_rate})\n",
    "        \n",
    "        # grab the first 15 and last 15 and concat\n",
    "        seconds = 15 * 1000\n",
    "            \n",
    "        first = new_sound[:seconds]\n",
    "        last = new_sound[-seconds+1:] # add the - to get the last 15 sec\n",
    "            \n",
    "        aug_samp = first + last\n",
    "        aug_samp = aug_samp + dB # increase/decrease volume \n",
    "        \n",
    "        # export augmented audio into its appropriate class\n",
    "        aug_samp.export(f\"{dirpath}{fish}_aug_{idx}.wav\", format=\"wav\") # switch path b/t path or dirpath2\n",
    "        print(f\"Saved Augmented file {idx}\")"
   ]
  },
  {
   "cell_type": "markdown",
   "metadata": {},
   "source": [
    "### Generate Training Data"
   ]
  },
  {
   "cell_type": "markdown",
   "metadata": {},
   "source": [
    "1. Extend each audio track to 30 seconds"
   ]
  },
  {
   "cell_type": "code",
   "execution_count": 7,
   "metadata": {
    "ExecuteTime": {
     "end_time": "2020-12-02T08:31:21.718172Z",
     "start_time": "2020-12-02T08:31:21.708816Z"
    }
   },
   "outputs": [
    {
     "ename": "SyntaxError",
     "evalue": "unmatched ')' (3522512086.py, line 1)",
     "output_type": "error",
     "traceback": [
      "\u001b[0;36m  Cell \u001b[0;32mIn[7], line 1\u001b[0;36m\u001b[0m\n\u001b[0;31m    playlist = get_wavs_from_directory(path_to_raw_data))\u001b[0m\n\u001b[0m                                                        ^\u001b[0m\n\u001b[0;31mSyntaxError\u001b[0m\u001b[0;31m:\u001b[0m unmatched ')'\n"
     ]
    }
   ],
   "source": [
    "playlist = get_wavs_from_directory(path_to_raw_data)\n",
    "playlist_len = len(playlist)\n",
    "print(f'process {playlist_len} number of audio samples')"
   ]
  },
  {
   "cell_type": "markdown",
   "metadata": {},
   "source": [
    "2. Store processed audio samples into a new directory"
   ]
  },
  {
   "cell_type": "code",
   "execution_count": 9,
   "metadata": {
    "ExecuteTime": {
     "end_time": "2020-12-02T08:13:43.932899Z",
     "start_time": "2020-12-02T08:13:43.929533Z"
    }
   },
   "outputs": [],
   "source": [
    "save_new_audio(playlist, mammal_name, training_data_path)"
   ]
  },
  {
   "cell_type": "markdown",
   "metadata": {},
   "source": [
    "### Augment Training Data\n",
    "1. duplicate audio files\n",
    "2. Augment this half for each class\n",
    "3. Save augmented audio back in the appropriate class in the training data set\n"
   ]
  },
  {
   "cell_type": "code",
   "execution_count": 13,
   "metadata": {
    "ExecuteTime": {
     "end_time": "2020-12-02T08:31:46.533726Z",
     "start_time": "2020-12-02T08:31:46.508403Z"
    }
   },
   "outputs": [
    {
     "name": "stdout",
     "output_type": "stream",
     "text": [
      "Saved Augmented file 0\n",
      "Saved Augmented file 1\n",
      "Saved Augmented file 2\n",
      "Saved Augmented file 3\n",
      "Saved Augmented file 4\n",
      "Saved Augmented file 5\n",
      "Saved Augmented file 6\n",
      "Saved Augmented file 7\n",
      "Saved Augmented file 8\n",
      "Saved Augmented file 9\n",
      "Saved Augmented file 10\n",
      "Saved Augmented file 11\n",
      "Saved Augmented file 12\n",
      "Saved Augmented file 13\n",
      "Saved Augmented file 14\n",
      "Saved Augmented file 15\n",
      "Saved Augmented file 16\n",
      "Saved Augmented file 17\n",
      "Saved Augmented file 18\n",
      "Saved Augmented file 19\n",
      "Saved Augmented file 20\n",
      "Saved Augmented file 21\n",
      "Saved Augmented file 22\n",
      "Saved Augmented file 23\n",
      "Saved Augmented file 24\n",
      "Saved Augmented file 25\n",
      "Saved Augmented file 26\n",
      "Saved Augmented file 27\n",
      "Saved Augmented file 28\n",
      "Saved Augmented file 29\n",
      "Saved Augmented file 30\n",
      "Saved Augmented file 31\n",
      "Saved Augmented file 32\n",
      "Saved Augmented file 33\n",
      "Saved Augmented file 34\n",
      "Saved Augmented file 35\n",
      "Saved Augmented file 36\n",
      "Saved Augmented file 37\n",
      "Saved Augmented file 38\n",
      "Saved Augmented file 39\n",
      "Saved Augmented file 40\n",
      "Saved Augmented file 41\n",
      "Saved Augmented file 42\n",
      "Saved Augmented file 43\n",
      "Saved Augmented file 44\n",
      "Saved Augmented file 45\n",
      "Saved Augmented file 46\n",
      "Saved Augmented file 47\n",
      "Saved Augmented file 48\n",
      "Saved Augmented file 49\n",
      "Saved Augmented file 50\n",
      "Saved Augmented file 51\n",
      "Saved Augmented file 52\n",
      "Saved Augmented file 53\n",
      "Saved Augmented file 54\n",
      "Saved Augmented file 55\n",
      "Saved Augmented file 56\n",
      "Saved Augmented file 57\n",
      "Saved Augmented file 58\n",
      "Saved Augmented file 59\n",
      "Saved Augmented file 60\n",
      "Saved Augmented file 61\n",
      "Saved Augmented file 62\n",
      "Saved Augmented file 63\n",
      "Saved Augmented file 64\n",
      "Saved Augmented file 65\n",
      "Saved Augmented file 66\n",
      "Saved Augmented file 67\n",
      "Saved Augmented file 68\n",
      "Saved Augmented file 69\n",
      "Saved Augmented file 70\n",
      "Saved Augmented file 71\n",
      "Saved Augmented file 72\n",
      "Saved Augmented file 73\n",
      "Saved Augmented file 74\n",
      "Saved Augmented file 75\n",
      "Saved Augmented file 76\n",
      "Saved Augmented file 77\n",
      "Saved Augmented file 78\n",
      "Saved Augmented file 79\n",
      "Saved Augmented file 80\n",
      "Saved Augmented file 81\n",
      "Saved Augmented file 82\n",
      "Saved Augmented file 83\n",
      "Saved Augmented file 84\n",
      "Saved Augmented file 85\n",
      "Saved Augmented file 86\n",
      "Saved Augmented file 87\n",
      "Saved Augmented file 88\n",
      "Saved Augmented file 89\n",
      "Saved Augmented file 90\n",
      "Saved Augmented file 91\n",
      "Saved Augmented file 92\n",
      "Saved Augmented file 93\n",
      "Saved Augmented file 94\n",
      "Saved Augmented file 95\n",
      "Saved Augmented file 96\n",
      "Saved Augmented file 97\n",
      "Saved Augmented file 98\n",
      "Saved Augmented file 99\n",
      "Saved Augmented file 100\n",
      "Saved Augmented file 101\n",
      "Saved Augmented file 102\n",
      "Saved Augmented file 103\n",
      "Saved Augmented file 104\n",
      "Saved Augmented file 105\n",
      "Saved Augmented file 106\n",
      "Saved Augmented file 107\n",
      "Saved Augmented file 108\n",
      "Saved Augmented file 109\n",
      "Saved Augmented file 110\n",
      "Saved Augmented file 111\n",
      "Saved Augmented file 112\n",
      "Saved Augmented file 113\n",
      "Saved Augmented file 114\n",
      "Saved Augmented file 115\n",
      "Saved Augmented file 116\n",
      "Saved Augmented file 117\n",
      "Saved Augmented file 118\n",
      "Saved Augmented file 119\n",
      "Saved Augmented file 120\n",
      "Saved Augmented file 121\n",
      "Saved Augmented file 122\n",
      "Saved Augmented file 123\n",
      "Saved Augmented file 124\n",
      "Saved Augmented file 125\n",
      "Saved Augmented file 126\n",
      "Saved Augmented file 127\n",
      "Saved Augmented file 128\n",
      "Saved Augmented file 129\n",
      "Saved Augmented file 130\n",
      "Saved Augmented file 131\n",
      "Saved Augmented file 132\n"
     ]
    }
   ],
   "source": [
    "# store augmented files back into the original training directories\n",
    "get_wavs_from_training(training_data_path, mammal_name)"
   ]
  }
 ],
 "metadata": {
  "kernelspec": {
   "display_name": "Python 3.11.0 ('mammal-env': venv)",
   "language": "python",
   "name": "python3"
  },
  "language_info": {
   "codemirror_mode": {
    "name": "ipython",
    "version": 3
   },
   "file_extension": ".py",
   "mimetype": "text/x-python",
   "name": "python",
   "nbconvert_exporter": "python",
   "pygments_lexer": "ipython3",
   "version": "3.9.6"
  },
  "varInspector": {
   "cols": {
    "lenName": 16,
    "lenType": 16,
    "lenVar": 40
   },
   "kernels_config": {
    "python": {
     "delete_cmd_postfix": "",
     "delete_cmd_prefix": "del ",
     "library": "var_list.py",
     "varRefreshCmd": "print(var_dic_list())"
    },
    "r": {
     "delete_cmd_postfix": ") ",
     "delete_cmd_prefix": "rm(",
     "library": "var_list.r",
     "varRefreshCmd": "cat(var_dic_list()) "
    }
   },
   "types_to_exclude": [
    "module",
    "function",
    "builtin_function_or_method",
    "instance",
    "_Feature"
   ],
   "window_display": false
  },
  "vscode": {
   "interpreter": {
    "hash": "34ef32b04849682084fce80155c31b950d6cde80e98fb8c6edf1d39bac8ab09b"
   }
  }
 },
 "nbformat": 4,
 "nbformat_minor": 4
}
