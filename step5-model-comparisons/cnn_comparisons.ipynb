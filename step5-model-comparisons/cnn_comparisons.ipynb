{
 "cells": [
  {
   "attachments": {},
   "cell_type": "markdown",
   "metadata": {},
   "source": [
    "### User Input"
   ]
  },
  {
   "cell_type": "code",
   "execution_count": 1,
   "metadata": {},
   "outputs": [],
   "source": [
    "# MODEL PARAMETERS\n",
    "model_settings ={\n",
    "    'layers': 7,\n",
    "    'dropout': 0.1,\n",
    "    'padding': 'same',\n",
    "    'n_models_low': 16,\n",
    "    'n_models_high': 16,\n",
    "    'model_skip_rate': 16,\n",
    "    'trial': 4\n",
    "}"
   ]
  },
  {
   "attachments": {},
   "cell_type": "markdown",
   "metadata": {},
   "source": [
    "### Path Setup"
   ]
  },
  {
   "cell_type": "code",
   "execution_count": 2,
   "metadata": {},
   "outputs": [],
   "source": [
    "layer_count = str(model_settings['layers'])\n",
    "count_low = str(model_settings['n_models_low'])\n",
    "count_high = model_settings['n_models_high']\n",
    "count_high_end = str(model_settings['model_skip_rate']*model_settings['n_models_high'])\n",
    "trial_count = str(model_settings['trial'])\n",
    "\n",
    "mfccs_json_path = \"../mfccs_cnn_humpbackwhale_walrus_bowheadwhale_fin_finbackwhale_killerwhale_emptyocean.json\"\n",
    "\n",
    "csv_file_name = f'../model-stats/layers-{layer_count}_filters-1-{count_low}-600-{count_high_end}_n-trail{trial_count}.csv'\n",
    "\n",
    "plot_file_name = f'../images/layers-{layer_count}_filters-1-{count_low}-600-{count_high_end}_n-trail{trial_count}.png'"
   ]
  },
  {
   "attachments": {},
   "cell_type": "markdown",
   "metadata": {},
   "source": [
    "### Imports"
   ]
  },
  {
   "cell_type": "code",
   "execution_count": 3,
   "metadata": {
    "ExecuteTime": {
     "end_time": "2021-02-21T11:03:26.384906Z",
     "start_time": "2021-02-21T11:03:26.331395Z"
    }
   },
   "outputs": [],
   "source": [
    "import tensorflow as tf\n",
    "import tensorflow.keras as keras\n",
    "import matplotlib.pyplot as plt\n",
    "import seaborn as sns\n",
    "import pandas as pd \n",
    "import numpy as np\n",
    "import warnings"
   ]
  },
  {
   "attachments": {},
   "cell_type": "markdown",
   "metadata": {},
   "source": [
    "### Load MFCC Dataset"
   ]
  },
  {
   "cell_type": "code",
   "execution_count": 4,
   "metadata": {},
   "outputs": [
    {
     "name": "stdout",
     "output_type": "stream",
     "text": [
      "mapping the marine mammals: ['BowheadWhale' 'HumpbackWhale' 'KillerWhale' 'Walrus' 'Fin_FinbackWhale'\n",
      " 'EmptyOcean']\n"
     ]
    }
   ],
   "source": [
    "from cnn_comparison_lib import load_cnn_json\n",
    "\n",
    "X, y, L = load_cnn_json(mfccs_json_path)\n",
    "print(f\"mapping the marine mammals: {L}\")"
   ]
  },
  {
   "cell_type": "code",
   "execution_count": 5,
   "metadata": {
    "ExecuteTime": {
     "end_time": "2021-02-21T11:04:04.590848Z",
     "start_time": "2021-02-21T11:04:04.579085Z"
    },
    "scrolled": false
   },
   "outputs": [
    {
     "data": {
      "text/plain": [
       "(array([1, 2, 3, 4, 5, 6]), array([1000, 1000, 1000, 1000, 1000, 1000]))"
      ]
     },
     "execution_count": 5,
     "metadata": {},
     "output_type": "execute_result"
    }
   ],
   "source": [
    "# Check class counts and that labels are numerical order\n",
    "np.unique(y, return_counts=True)"
   ]
  },
  {
   "attachments": {},
   "cell_type": "markdown",
   "metadata": {},
   "source": [
    "### Create Training, Validation, and Test Sets"
   ]
  },
  {
   "cell_type": "code",
   "execution_count": 6,
   "metadata": {
    "ExecuteTime": {
     "end_time": "2021-02-21T11:04:36.659158Z",
     "start_time": "2021-02-21T11:04:36.474703Z"
    }
   },
   "outputs": [],
   "source": [
    "# create train, validation and test sets\n",
    "from cnn_comparison_lib import prepare_datasets\n",
    "\n",
    "X_train, X_validation, X_test, y_train, y_validation, y_test = prepare_datasets(X, y, 0.6, 0.5) # test size, vailidation size\n",
    "input_shape = (X_train.shape[1], X_train.shape[2], X_train.shape[3])"
   ]
  },
  {
   "attachments": {},
   "cell_type": "markdown",
   "metadata": {},
   "source": [
    "### Build the CNN Models"
   ]
  },
  {
   "cell_type": "code",
   "execution_count": 7,
   "metadata": {},
   "outputs": [],
   "source": [
    "from cnn_comparison_lib import create_layered_cnn\n",
    "\n",
    "model_list = []\n",
    "for i in range(model_settings['n_models_low']):\n",
    "    output_shape = i + 1\n",
    "    model = create_layered_cnn(model_settings['layers'], input_shape, output_shape, model_settings)\n",
    "    model_list.append(model)"
   ]
  },
  {
   "cell_type": "code",
   "execution_count": 8,
   "metadata": {},
   "outputs": [],
   "source": [
    "from cnn_comparison_lib import create_layered_cnn\n",
    "\n",
    "for i in range(model_settings['n_models_high']):\n",
    "    output_shape = 600 + (i*10)\n",
    "    model = create_layered_cnn(model_settings['layers'], input_shape, output_shape, model_settings)\n",
    "    model_list.append(model)"
   ]
  },
  {
   "attachments": {},
   "cell_type": "markdown",
   "metadata": {},
   "source": [
    "### Get Trainable Parameter Count"
   ]
  },
  {
   "cell_type": "code",
   "execution_count": 9,
   "metadata": {
    "ExecuteTime": {
     "end_time": "2021-02-21T11:17:02.808898Z",
     "start_time": "2021-02-21T11:17:02.691830Z"
    }
   },
   "outputs": [
    {
     "name": "stdout",
     "output_type": "stream",
     "text": [
      "[108763, 217115, 325575, 434143, 542819, 651603, 760495, 869495, 978603, 1087819, 1197143, 1306575, 1416115, 1525763, 1635519, 1745383, 84354519, 86089819, 87835919, 89592819, 91360519, 93139019, 94928319, 96728419, 98539319, 100361019, 102193519, 104036819, 105890919, 107755819, 109631519, 111518019]\n"
     ]
    }
   ],
   "source": [
    "from cnn_comparison_lib import count_trainable_parameters\n",
    "\n",
    "parameter_count = []\n",
    "for model in model_list:\n",
    "    count = count_trainable_parameters(model)\n",
    "    parameter_count.append(count)\n",
    "\n",
    "print(parameter_count)"
   ]
  },
  {
   "attachments": {},
   "cell_type": "markdown",
   "metadata": {},
   "source": [
    "### Train the Models"
   ]
  },
  {
   "cell_type": "code",
   "execution_count": 10,
   "metadata": {},
   "outputs": [
    {
     "name": "stdout",
     "output_type": "stream",
     "text": [
      "Epoch 1/5\n"
     ]
    },
    {
     "name": "stderr",
     "output_type": "stream",
     "text": [
      "2023-03-06 12:12:23.368914: W tensorflow/tsl/platform/profile_utils/cpu_utils.cc:128] Failed to get CPU frequency: 0 Hz\n"
     ]
    },
    {
     "name": "stdout",
     "output_type": "stream",
     "text": [
      "75/75 [==============================] - 4s 27ms/step - loss: 1.5870 - accuracy: 0.3875 - val_loss: 2.2248 - val_accuracy: 0.1575\n",
      "Epoch 2/5\n",
      "75/75 [==============================] - 2s 24ms/step - loss: 1.2752 - accuracy: 0.5150 - val_loss: 2.7207 - val_accuracy: 0.1575\n",
      "Epoch 3/5\n",
      "75/75 [==============================] - 2s 26ms/step - loss: 1.1799 - accuracy: 0.5583 - val_loss: 2.9537 - val_accuracy: 0.1575\n",
      "Epoch 4/5\n",
      "75/75 [==============================] - 2s 25ms/step - loss: 1.0830 - accuracy: 0.5808 - val_loss: 2.7088 - val_accuracy: 0.1575\n",
      "Epoch 5/5\n",
      "75/75 [==============================] - 2s 25ms/step - loss: 1.0217 - accuracy: 0.6050 - val_loss: 2.1100 - val_accuracy: 0.2008\n",
      "Epoch 1/5\n",
      "75/75 [==============================] - 4s 32ms/step - loss: 1.4797 - accuracy: 0.4775 - val_loss: 2.1478 - val_accuracy: 0.1608\n",
      "Epoch 2/5\n",
      "75/75 [==============================] - 2s 30ms/step - loss: 0.9523 - accuracy: 0.6658 - val_loss: 2.5682 - val_accuracy: 0.1608\n",
      "Epoch 3/5\n",
      "75/75 [==============================] - 2s 30ms/step - loss: 0.8028 - accuracy: 0.7142 - val_loss: 1.6983 - val_accuracy: 0.3133\n",
      "Epoch 4/5\n",
      "75/75 [==============================] - 2s 31ms/step - loss: 0.6904 - accuracy: 0.7475 - val_loss: 1.0005 - val_accuracy: 0.6525\n",
      "Epoch 5/5\n",
      "75/75 [==============================] - 2s 32ms/step - loss: 0.6442 - accuracy: 0.7667 - val_loss: 0.6928 - val_accuracy: 0.7617\n",
      "Epoch 1/5\n",
      "75/75 [==============================] - 4s 37ms/step - loss: 0.9947 - accuracy: 0.6267 - val_loss: 2.0073 - val_accuracy: 0.1942\n",
      "Epoch 2/5\n",
      "75/75 [==============================] - 3s 37ms/step - loss: 0.4927 - accuracy: 0.8275 - val_loss: 1.8536 - val_accuracy: 0.4192\n",
      "Epoch 3/5\n",
      "75/75 [==============================] - 3s 35ms/step - loss: 0.3643 - accuracy: 0.8858 - val_loss: 1.7322 - val_accuracy: 0.4458\n",
      "Epoch 4/5\n",
      "75/75 [==============================] - 3s 36ms/step - loss: 0.3167 - accuracy: 0.8925 - val_loss: 0.9861 - val_accuracy: 0.6733\n",
      "Epoch 5/5\n",
      "75/75 [==============================] - 3s 35ms/step - loss: 0.2543 - accuracy: 0.9050 - val_loss: 0.4943 - val_accuracy: 0.8300\n",
      "Epoch 1/5\n",
      "75/75 [==============================] - 4s 32ms/step - loss: 0.9563 - accuracy: 0.6692 - val_loss: 1.8031 - val_accuracy: 0.2500\n",
      "Epoch 2/5\n",
      "75/75 [==============================] - 2s 31ms/step - loss: 0.6193 - accuracy: 0.7617 - val_loss: 1.5024 - val_accuracy: 0.4158\n",
      "Epoch 3/5\n",
      "75/75 [==============================] - 2s 30ms/step - loss: 0.4456 - accuracy: 0.8383 - val_loss: 0.9799 - val_accuracy: 0.6475\n",
      "Epoch 4/5\n",
      "75/75 [==============================] - 2s 30ms/step - loss: 0.4175 - accuracy: 0.8383 - val_loss: 0.7789 - val_accuracy: 0.7067\n",
      "Epoch 5/5\n",
      "75/75 [==============================] - 2s 30ms/step - loss: 0.3731 - accuracy: 0.8675 - val_loss: 0.5817 - val_accuracy: 0.7925\n",
      "Epoch 1/5\n",
      "75/75 [==============================] - 4s 41ms/step - loss: 0.8250 - accuracy: 0.6842 - val_loss: 1.8214 - val_accuracy: 0.2150\n",
      "Epoch 2/5\n",
      "75/75 [==============================] - 3s 43ms/step - loss: 0.4282 - accuracy: 0.8267 - val_loss: 1.8136 - val_accuracy: 0.3775\n",
      "Epoch 3/5\n",
      "75/75 [==============================] - 3s 40ms/step - loss: 0.3091 - accuracy: 0.8817 - val_loss: 1.1546 - val_accuracy: 0.6292\n",
      "Epoch 4/5\n",
      "75/75 [==============================] - 3s 45ms/step - loss: 0.2502 - accuracy: 0.9125 - val_loss: 0.5979 - val_accuracy: 0.7483\n",
      "Epoch 5/5\n",
      "75/75 [==============================] - 3s 42ms/step - loss: 0.2027 - accuracy: 0.9283 - val_loss: 0.3622 - val_accuracy: 0.8675\n",
      "Epoch 1/5\n",
      "75/75 [==============================] - 5s 46ms/step - loss: 0.7493 - accuracy: 0.7308 - val_loss: 2.3966 - val_accuracy: 0.2800\n",
      "Epoch 2/5\n",
      "75/75 [==============================] - 3s 46ms/step - loss: 0.3829 - accuracy: 0.8675 - val_loss: 2.2322 - val_accuracy: 0.3725\n",
      "Epoch 3/5\n",
      "75/75 [==============================] - 3s 45ms/step - loss: 0.2693 - accuracy: 0.8925 - val_loss: 1.0408 - val_accuracy: 0.7008\n",
      "Epoch 4/5\n",
      "75/75 [==============================] - 4s 50ms/step - loss: 0.2059 - accuracy: 0.9225 - val_loss: 0.4583 - val_accuracy: 0.8325\n",
      "Epoch 5/5\n",
      "75/75 [==============================] - 3s 43ms/step - loss: 0.2302 - accuracy: 0.9200 - val_loss: 0.2859 - val_accuracy: 0.8975\n",
      "Epoch 1/5\n",
      "75/75 [==============================] - 6s 61ms/step - loss: 0.6987 - accuracy: 0.7408 - val_loss: 1.1674 - val_accuracy: 0.5858\n",
      "Epoch 2/5\n",
      "75/75 [==============================] - 4s 48ms/step - loss: 0.3762 - accuracy: 0.8692 - val_loss: 0.7916 - val_accuracy: 0.6625\n",
      "Epoch 3/5\n",
      "75/75 [==============================] - 4s 48ms/step - loss: 0.3112 - accuracy: 0.8933 - val_loss: 0.4883 - val_accuracy: 0.8008\n",
      "Epoch 4/5\n",
      "75/75 [==============================] - 4s 48ms/step - loss: 0.2093 - accuracy: 0.9258 - val_loss: 0.2894 - val_accuracy: 0.8975\n",
      "Epoch 5/5\n",
      "75/75 [==============================] - 4s 48ms/step - loss: 0.1691 - accuracy: 0.9417 - val_loss: 0.2423 - val_accuracy: 0.9000\n",
      "Epoch 1/5\n",
      "75/75 [==============================] - 3s 32ms/step - loss: 0.7721 - accuracy: 0.7192 - val_loss: 1.5372 - val_accuracy: 0.3008\n",
      "Epoch 2/5\n",
      "75/75 [==============================] - 2s 32ms/step - loss: 0.3861 - accuracy: 0.8700 - val_loss: 1.4388 - val_accuracy: 0.3542\n",
      "Epoch 3/5\n",
      "75/75 [==============================] - 2s 30ms/step - loss: 0.2960 - accuracy: 0.8917 - val_loss: 1.4707 - val_accuracy: 0.4775\n",
      "Epoch 4/5\n",
      "75/75 [==============================] - 2s 31ms/step - loss: 0.2315 - accuracy: 0.9250 - val_loss: 0.6968 - val_accuracy: 0.7417\n",
      "Epoch 5/5\n",
      "75/75 [==============================] - 2s 31ms/step - loss: 0.2272 - accuracy: 0.9317 - val_loss: 0.3019 - val_accuracy: 0.9092\n",
      "Epoch 1/5\n",
      "75/75 [==============================] - 4s 41ms/step - loss: 0.6899 - accuracy: 0.7500 - val_loss: 1.9037 - val_accuracy: 0.3267\n",
      "Epoch 2/5\n",
      "75/75 [==============================] - 3s 39ms/step - loss: 0.3035 - accuracy: 0.8817 - val_loss: 1.4137 - val_accuracy: 0.4567\n",
      "Epoch 3/5\n",
      "75/75 [==============================] - 3s 38ms/step - loss: 0.2026 - accuracy: 0.9192 - val_loss: 0.5380 - val_accuracy: 0.8350\n",
      "Epoch 4/5\n",
      "75/75 [==============================] - 3s 42ms/step - loss: 0.1662 - accuracy: 0.9308 - val_loss: 0.4099 - val_accuracy: 0.8758\n",
      "Epoch 5/5\n",
      "75/75 [==============================] - 3s 47ms/step - loss: 0.1465 - accuracy: 0.9400 - val_loss: 0.2813 - val_accuracy: 0.9100\n",
      "Epoch 1/5\n",
      "75/75 [==============================] - 5s 48ms/step - loss: 0.6574 - accuracy: 0.7900 - val_loss: 1.7957 - val_accuracy: 0.3008\n",
      "Epoch 2/5\n",
      "75/75 [==============================] - 3s 43ms/step - loss: 0.2750 - accuracy: 0.9125 - val_loss: 1.5329 - val_accuracy: 0.4675\n",
      "Epoch 3/5\n",
      "75/75 [==============================] - 3s 43ms/step - loss: 0.1879 - accuracy: 0.9300 - val_loss: 1.0985 - val_accuracy: 0.6017\n",
      "Epoch 4/5\n",
      "75/75 [==============================] - 3s 42ms/step - loss: 0.1615 - accuracy: 0.9450 - val_loss: 0.4642 - val_accuracy: 0.8133\n",
      "Epoch 5/5\n",
      "75/75 [==============================] - 4s 48ms/step - loss: 0.1176 - accuracy: 0.9558 - val_loss: 0.2465 - val_accuracy: 0.9108\n",
      "Epoch 1/5\n",
      "75/75 [==============================] - 5s 51ms/step - loss: 0.6514 - accuracy: 0.7825 - val_loss: 1.5125 - val_accuracy: 0.3942\n",
      "Epoch 2/5\n",
      "75/75 [==============================] - 4s 49ms/step - loss: 0.2976 - accuracy: 0.8950 - val_loss: 1.0517 - val_accuracy: 0.5458\n",
      "Epoch 3/5\n",
      "75/75 [==============================] - 4s 49ms/step - loss: 0.2221 - accuracy: 0.9175 - val_loss: 0.6879 - val_accuracy: 0.7075\n",
      "Epoch 4/5\n",
      "75/75 [==============================] - 4s 48ms/step - loss: 0.1447 - accuracy: 0.9533 - val_loss: 0.2645 - val_accuracy: 0.9133\n",
      "Epoch 5/5\n",
      "75/75 [==============================] - 4s 50ms/step - loss: 0.1498 - accuracy: 0.9450 - val_loss: 0.1717 - val_accuracy: 0.9375\n",
      "Epoch 1/5\n",
      "75/75 [==============================] - 5s 54ms/step - loss: 0.7312 - accuracy: 0.7500 - val_loss: 1.9473 - val_accuracy: 0.3108\n",
      "Epoch 2/5\n",
      "75/75 [==============================] - 3s 41ms/step - loss: 0.2929 - accuracy: 0.8975 - val_loss: 1.5317 - val_accuracy: 0.4125\n",
      "Epoch 3/5\n",
      "75/75 [==============================] - 3s 40ms/step - loss: 0.2381 - accuracy: 0.9150 - val_loss: 0.5878 - val_accuracy: 0.7908\n",
      "Epoch 4/5\n",
      "75/75 [==============================] - 3s 40ms/step - loss: 0.1538 - accuracy: 0.9408 - val_loss: 0.3509 - val_accuracy: 0.8642\n",
      "Epoch 5/5\n",
      "75/75 [==============================] - 3s 40ms/step - loss: 0.1173 - accuracy: 0.9567 - val_loss: 0.2031 - val_accuracy: 0.9308\n",
      "Epoch 1/5\n",
      "75/75 [==============================] - 6s 59ms/step - loss: 0.6329 - accuracy: 0.7825 - val_loss: 1.6806 - val_accuracy: 0.3983\n",
      "Epoch 2/5\n",
      "75/75 [==============================] - 5s 60ms/step - loss: 0.2575 - accuracy: 0.9075 - val_loss: 1.3232 - val_accuracy: 0.4667\n",
      "Epoch 3/5\n",
      "75/75 [==============================] - 4s 60ms/step - loss: 0.1678 - accuracy: 0.9358 - val_loss: 0.6201 - val_accuracy: 0.7567\n",
      "Epoch 4/5\n",
      "75/75 [==============================] - 5s 60ms/step - loss: 0.1336 - accuracy: 0.9508 - val_loss: 0.4305 - val_accuracy: 0.8925\n",
      "Epoch 5/5\n",
      "75/75 [==============================] - 5s 61ms/step - loss: 0.1082 - accuracy: 0.9608 - val_loss: 0.1707 - val_accuracy: 0.9517\n",
      "Epoch 1/5\n",
      "75/75 [==============================] - 6s 60ms/step - loss: 0.6063 - accuracy: 0.8000 - val_loss: 3.1234 - val_accuracy: 0.2117\n",
      "Epoch 2/5\n",
      "75/75 [==============================] - 4s 55ms/step - loss: 0.2605 - accuracy: 0.9108 - val_loss: 1.2112 - val_accuracy: 0.5917\n",
      "Epoch 3/5\n",
      "75/75 [==============================] - 4s 56ms/step - loss: 0.1788 - accuracy: 0.9292 - val_loss: 0.5324 - val_accuracy: 0.8500\n",
      "Epoch 4/5\n",
      "75/75 [==============================] - 4s 58ms/step - loss: 0.1479 - accuracy: 0.9475 - val_loss: 0.2831 - val_accuracy: 0.9075\n",
      "Epoch 5/5\n",
      "75/75 [==============================] - 4s 57ms/step - loss: 0.0955 - accuracy: 0.9600 - val_loss: 0.1833 - val_accuracy: 0.9283\n",
      "Epoch 1/5\n",
      "75/75 [==============================] - 6s 66ms/step - loss: 0.6356 - accuracy: 0.7800 - val_loss: 2.3282 - val_accuracy: 0.2083\n",
      "Epoch 2/5\n",
      "75/75 [==============================] - 5s 65ms/step - loss: 0.2205 - accuracy: 0.9233 - val_loss: 2.0023 - val_accuracy: 0.3450\n",
      "Epoch 3/5\n",
      "75/75 [==============================] - 5s 67ms/step - loss: 0.1291 - accuracy: 0.9500 - val_loss: 0.9167 - val_accuracy: 0.6050\n",
      "Epoch 4/5\n",
      "75/75 [==============================] - 5s 68ms/step - loss: 0.1027 - accuracy: 0.9650 - val_loss: 0.3406 - val_accuracy: 0.8942\n",
      "Epoch 5/5\n",
      "75/75 [==============================] - 5s 66ms/step - loss: 0.1159 - accuracy: 0.9558 - val_loss: 0.1951 - val_accuracy: 0.9392\n",
      "Epoch 1/5\n",
      "75/75 [==============================] - 5s 54ms/step - loss: 0.5887 - accuracy: 0.8108 - val_loss: 1.9691 - val_accuracy: 0.2742\n",
      "Epoch 2/5\n",
      "75/75 [==============================] - 4s 53ms/step - loss: 0.2304 - accuracy: 0.9242 - val_loss: 1.6674 - val_accuracy: 0.4883\n",
      "Epoch 3/5\n",
      "75/75 [==============================] - 4s 56ms/step - loss: 0.1470 - accuracy: 0.9458 - val_loss: 1.0269 - val_accuracy: 0.7000\n",
      "Epoch 4/5\n",
      "75/75 [==============================] - 4s 52ms/step - loss: 0.1240 - accuracy: 0.9542 - val_loss: 0.5122 - val_accuracy: 0.8408\n",
      "Epoch 5/5\n",
      "75/75 [==============================] - 4s 55ms/step - loss: 0.0910 - accuracy: 0.9725 - val_loss: 0.1523 - val_accuracy: 0.9525\n",
      "Epoch 1/5\n",
      "75/75 [==============================] - 1225s 16s/step - loss: 3.4967 - accuracy: 0.4092 - val_loss: 36.7834 - val_accuracy: 0.2233\n",
      "Epoch 2/5\n",
      "75/75 [==============================] - 1330s 18s/step - loss: 1.8929 - accuracy: 0.2617 - val_loss: 2.0446 - val_accuracy: 0.1842\n",
      "Epoch 3/5\n",
      "75/75 [==============================] - 1865s 25s/step - loss: 1.8133 - accuracy: 0.2550 - val_loss: 1.7580 - val_accuracy: 0.2542\n",
      "Epoch 4/5\n",
      "75/75 [==============================] - 1186s 16s/step - loss: 1.8207 - accuracy: 0.2525 - val_loss: 1.7226 - val_accuracy: 0.2733\n",
      "Epoch 5/5\n",
      "75/75 [==============================] - 4358s 59s/step - loss: 1.8443 - accuracy: 0.2492 - val_loss: 1.8525 - val_accuracy: 0.1958\n",
      "Epoch 1/5\n",
      "75/75 [==============================] - 3719s 43s/step - loss: 2.8391 - accuracy: 0.5567 - val_loss: 148.2650 - val_accuracy: 0.1842\n",
      "Epoch 2/5\n",
      "75/75 [==============================] - 1312s 18s/step - loss: 2.5974 - accuracy: 0.4400 - val_loss: 26.5854 - val_accuracy: 0.4125\n",
      "Epoch 3/5\n",
      "75/75 [==============================] - 1395s 19s/step - loss: 1.7617 - accuracy: 0.3100 - val_loss: 16.8247 - val_accuracy: 0.3308\n",
      "Epoch 4/5\n",
      "75/75 [==============================] - 2231s 30s/step - loss: 1.7660 - accuracy: 0.2933 - val_loss: 2.1155 - val_accuracy: 0.3500\n",
      "Epoch 5/5\n",
      "75/75 [==============================] - 1210s 16s/step - loss: 1.8900 - accuracy: 0.2175 - val_loss: 1.9773 - val_accuracy: 0.1642\n",
      "Epoch 1/5\n",
      "75/75 [==============================] - 1287s 17s/step - loss: 2.9756 - accuracy: 0.6467 - val_loss: 114.4667 - val_accuracy: 0.3233\n",
      "Epoch 2/5\n",
      "75/75 [==============================] - 4947s 67s/step - loss: 1.1385 - accuracy: 0.6675 - val_loss: 6.5191 - val_accuracy: 0.4567\n",
      "Epoch 3/5\n",
      "75/75 [==============================] - 1399s 19s/step - loss: 1.0274 - accuracy: 0.6792 - val_loss: 0.9777 - val_accuracy: 0.7050\n",
      "Epoch 4/5\n",
      "75/75 [==============================] - 1593s 21s/step - loss: 0.7275 - accuracy: 0.7483 - val_loss: 0.7179 - val_accuracy: 0.7567\n",
      "Epoch 5/5\n",
      "75/75 [==============================] - 1403s 19s/step - loss: 0.8667 - accuracy: 0.6983 - val_loss: 1.8997 - val_accuracy: 0.5950\n",
      "Epoch 1/5\n",
      "75/75 [==============================] - 1734s 23s/step - loss: 5.7276 - accuracy: 0.6358 - val_loss: 403.0913 - val_accuracy: 0.1608\n",
      "Epoch 2/5\n",
      "75/75 [==============================] - 1864s 25s/step - loss: 1.2879 - accuracy: 0.5683 - val_loss: 4.7401 - val_accuracy: 0.5067\n",
      "Epoch 3/5\n",
      "75/75 [==============================] - 1947s 26s/step - loss: 1.4220 - accuracy: 0.5250 - val_loss: 1.6358 - val_accuracy: 0.5342\n",
      "Epoch 4/5\n",
      "75/75 [==============================] - 1874s 25s/step - loss: 1.2628 - accuracy: 0.6083 - val_loss: 2.1537 - val_accuracy: 0.6017\n",
      "Epoch 5/5\n",
      "75/75 [==============================] - 2073s 28s/step - loss: 1.0971 - accuracy: 0.6850 - val_loss: 1.2774 - val_accuracy: 0.5783\n",
      "Epoch 1/5\n",
      "75/75 [==============================] - 1461s 20s/step - loss: 2.7537 - accuracy: 0.6192 - val_loss: 272.1207 - val_accuracy: 0.1617\n",
      "Epoch 2/5\n",
      "75/75 [==============================] - 1608s 22s/step - loss: 1.5982 - accuracy: 0.4550 - val_loss: 1.4329 - val_accuracy: 0.4500\n",
      "Epoch 3/5\n",
      "75/75 [==============================] - 5862s 79s/step - loss: 1.5146 - accuracy: 0.3817 - val_loss: 1.3646 - val_accuracy: 0.4517\n",
      "Epoch 4/5\n",
      "75/75 [==============================] - 1643s 22s/step - loss: 1.6137 - accuracy: 0.3433 - val_loss: 1.6492 - val_accuracy: 0.3317\n",
      "Epoch 5/5\n",
      "75/75 [==============================] - 3034s 41s/step - loss: 1.6365 - accuracy: 0.3367 - val_loss: 1.9679 - val_accuracy: 0.3250\n",
      "Epoch 1/5\n",
      "75/75 [==============================] - 3757s 51s/step - loss: 3.8423 - accuracy: 0.4533 - val_loss: 121.5346 - val_accuracy: 0.3108\n",
      "Epoch 2/5\n",
      "75/75 [==============================] - 1838s 25s/step - loss: 1.8475 - accuracy: 0.2958 - val_loss: 2.6043 - val_accuracy: 0.3392\n",
      "Epoch 3/5\n",
      "75/75 [==============================] - 9316s 126s/step - loss: 1.8331 - accuracy: 0.2533 - val_loss: 1.7096 - val_accuracy: 0.2975\n",
      "Epoch 4/5\n",
      "75/75 [==============================] - 3074s 41s/step - loss: 1.8036 - accuracy: 0.2508 - val_loss: 1.7334 - val_accuracy: 0.2658\n",
      "Epoch 5/5\n",
      "75/75 [==============================] - 1996s 27s/step - loss: 1.9779 - accuracy: 0.2350 - val_loss: 1.7675 - val_accuracy: 0.2550\n",
      "Epoch 1/5\n",
      "75/75 [==============================] - 6543s 88s/step - loss: 4.2583 - accuracy: 0.5642 - val_loss: 43.8852 - val_accuracy: 0.2933\n",
      "Epoch 2/5\n",
      "75/75 [==============================] - 2670s 36s/step - loss: 1.9263 - accuracy: 0.4542 - val_loss: 15.0937 - val_accuracy: 0.5100\n",
      "Epoch 3/5\n",
      "75/75 [==============================] - 2196s 29s/step - loss: 1.5247 - accuracy: 0.4308 - val_loss: 1.7880 - val_accuracy: 0.4417\n",
      "Epoch 4/5\n",
      "75/75 [==============================] - 2338s 31s/step - loss: 1.4654 - accuracy: 0.4217 - val_loss: 1.4112 - val_accuracy: 0.4325\n",
      "Epoch 5/5\n",
      "75/75 [==============================] - 1986s 27s/step - loss: 1.5541 - accuracy: 0.4050 - val_loss: 1.6040 - val_accuracy: 0.3367\n",
      "Epoch 1/5\n",
      "75/75 [==============================] - 10101s 136s/step - loss: 5.7851 - accuracy: 0.6083 - val_loss: 153.2136 - val_accuracy: 0.1717\n",
      "Epoch 2/5\n",
      "75/75 [==============================] - 1459s 20s/step - loss: 1.4109 - accuracy: 0.4367 - val_loss: 2.5408 - val_accuracy: 0.3925\n",
      "Epoch 3/5\n",
      "75/75 [==============================] - 1615s 22s/step - loss: 1.4724 - accuracy: 0.4017 - val_loss: 1.4598 - val_accuracy: 0.4208\n",
      "Epoch 4/5\n",
      "75/75 [==============================] - 1692s 23s/step - loss: 1.8172 - accuracy: 0.3875 - val_loss: 1.4114 - val_accuracy: 0.4308\n",
      "Epoch 5/5\n",
      "75/75 [==============================] - 1909s 26s/step - loss: 1.9300 - accuracy: 0.1992 - val_loss: 1.9324 - val_accuracy: 0.1625\n",
      "Epoch 1/5\n",
      "75/75 [==============================] - 1871s 25s/step - loss: 5.9882 - accuracy: 0.5350 - val_loss: 249.4824 - val_accuracy: 0.3250\n",
      "Epoch 2/5\n",
      "75/75 [==============================] - 1746s 23s/step - loss: 1.6342 - accuracy: 0.4033 - val_loss: 5.6869 - val_accuracy: 0.5508\n",
      "Epoch 3/5\n",
      "75/75 [==============================] - 3635s 49s/step - loss: 1.5169 - accuracy: 0.4192 - val_loss: 1.2973 - val_accuracy: 0.5150\n",
      "Epoch 4/5\n",
      "75/75 [==============================] - 2941s 40s/step - loss: 1.3494 - accuracy: 0.5167 - val_loss: 1.3265 - val_accuracy: 0.5642\n",
      "Epoch 5/5\n",
      "75/75 [==============================] - 1615s 22s/step - loss: 1.4435 - accuracy: 0.5300 - val_loss: 3.5791 - val_accuracy: 0.4500\n",
      "Epoch 1/5\n",
      "75/75 [==============================] - 1745s 23s/step - loss: 4.7777 - accuracy: 0.5433 - val_loss: 629.0873 - val_accuracy: 0.1625\n",
      "Epoch 2/5\n",
      "75/75 [==============================] - 1790s 24s/step - loss: 1.7312 - accuracy: 0.4025 - val_loss: 11.5844 - val_accuracy: 0.4067\n",
      "Epoch 3/5\n",
      "75/75 [==============================] - 1812s 24s/step - loss: 1.5505 - accuracy: 0.3925 - val_loss: 1.5284 - val_accuracy: 0.4417\n",
      "Epoch 4/5\n",
      "75/75 [==============================] - 2322s 31s/step - loss: 1.4451 - accuracy: 0.4300 - val_loss: 1.4060 - val_accuracy: 0.4383\n",
      "Epoch 5/5\n",
      "75/75 [==============================] - 5861s 79s/step - loss: 1.5380 - accuracy: 0.4183 - val_loss: 1.6595 - val_accuracy: 0.3358\n",
      "Epoch 1/5\n",
      "75/75 [==============================] - 2272s 30s/step - loss: 5.7261 - accuracy: 0.6950 - val_loss: 111.0360 - val_accuracy: 0.3942\n",
      "Epoch 2/5\n",
      "75/75 [==============================] - 5140s 69s/step - loss: 1.6242 - accuracy: 0.5783 - val_loss: 3.6874 - val_accuracy: 0.4358\n",
      "Epoch 3/5\n",
      "75/75 [==============================] - 2184s 29s/step - loss: 1.5350 - accuracy: 0.4975 - val_loss: 2.5856 - val_accuracy: 0.4758\n",
      "Epoch 4/5\n",
      "75/75 [==============================] - 5664s 76s/step - loss: 1.6625 - accuracy: 0.4208 - val_loss: 1.6781 - val_accuracy: 0.3275\n",
      "Epoch 5/5\n",
      "75/75 [==============================] - 2227s 30s/step - loss: 1.7478 - accuracy: 0.3300 - val_loss: 1.5957 - val_accuracy: 0.3525\n",
      "Epoch 1/5\n",
      "75/75 [==============================] - 5483s 74s/step - loss: 3.0045 - accuracy: 0.3167 - val_loss: 233.9854 - val_accuracy: 0.0342\n",
      "Epoch 2/5\n",
      "75/75 [==============================] - 2316s 30s/step - loss: 1.8947 - accuracy: 0.2167 - val_loss: 19.2667 - val_accuracy: 0.0700\n",
      "Epoch 3/5\n",
      "75/75 [==============================] - 2724s 36s/step - loss: 1.9453 - accuracy: 0.1758 - val_loss: 1.9346 - val_accuracy: 0.1742\n",
      "Epoch 4/5\n",
      "22/75 [=======>......................] - ETA: 43:51 - loss: 1.9418 - accuracy: 0.1761"
     ]
    }
   ],
   "source": [
    "from cnn_comparison_lib import plot_history\n",
    "\n",
    "model_history = []\n",
    "for model in model_list:\n",
    "    history = model.fit(X_train, y_train, validation_data=(X_validation, y_validation), batch_size=16, epochs=5)\n",
    "    model_history.append(history)"
   ]
  },
  {
   "attachments": {},
   "cell_type": "markdown",
   "metadata": {},
   "source": [
    "### Evaluate the Models"
   ]
  },
  {
   "cell_type": "code",
   "execution_count": null,
   "metadata": {},
   "outputs": [],
   "source": [
    "# evaluate the cnn on the test set\n",
    "model_accuracy = []\n",
    "for model in model_list:\n",
    "    test_error, test_accuracy = model.evaluate(X_test, y_test, verbose=1)\n",
    "    model_accuracy.append(test_accuracy)"
   ]
  },
  {
   "attachments": {},
   "cell_type": "markdown",
   "metadata": {},
   "source": [
    "### Plot the Models"
   ]
  },
  {
   "cell_type": "code",
   "execution_count": null,
   "metadata": {},
   "outputs": [],
   "source": [
    "x = parameter_count\n",
    "y = model_accuracy\n",
    "plt.plot(x, y, 'o', color='black')\n",
    "plt.xlabel(\"Number of Parameters\")\n",
    "plt.ylabel(\"Model Accuracy\")\n",
    "plt.savefig(plot_file_name)"
   ]
  },
  {
   "cell_type": "code",
   "execution_count": null,
   "metadata": {},
   "outputs": [],
   "source": [
    "print(parameter_count)\n",
    "print(model_accuracy)"
   ]
  },
  {
   "attachments": {},
   "cell_type": "markdown",
   "metadata": {},
   "source": [
    "### Save the Models"
   ]
  },
  {
   "cell_type": "code",
   "execution_count": null,
   "metadata": {},
   "outputs": [],
   "source": [
    "\"\"\"saved_models_path = \"../saved_model/layers\" + str(model_settings['layers']) + '/trial' + str(model_settings['trial']) + \"/paramcount\"\n",
    "for n_params, model in zip(parameter_count, model_list):\n",
    "    model_name = saved_models_path + str(n_params) + '.h5'\n",
    "    model.save(model_name)\n",
    "\"\"\""
   ]
  },
  {
   "attachments": {},
   "cell_type": "markdown",
   "metadata": {},
   "source": [
    "### Save the Model Parameters and Accuracy Values"
   ]
  },
  {
   "cell_type": "code",
   "execution_count": null,
   "metadata": {},
   "outputs": [],
   "source": [
    "\"\"\"\n",
    "import csv\n",
    "from itertools import zip_longest\n",
    "\n",
    "list1 = parameter_count\n",
    "list2 = model_accuracy\n",
    "d = [list1, list2]\n",
    "export_data = zip_longest(*d, fillvalue = '')\n",
    "with open(csv_file_name, 'w', encoding=\"ISO-8859-1\", newline='') as myfile:\n",
    "      wr = csv.writer(myfile)\n",
    "      wr.writerow((\"Parameter Count\", \"Baseline Accuracy\"))\n",
    "      wr.writerows(export_data)\n",
    "myfile.close()\n",
    "\"\"\""
   ]
  }
 ],
 "metadata": {
  "kernelspec": {
   "display_name": "mammal-venv",
   "language": "python",
   "name": "python3"
  },
  "language_info": {
   "codemirror_mode": {
    "name": "ipython",
    "version": 3
   },
   "file_extension": ".py",
   "mimetype": "text/x-python",
   "name": "python",
   "nbconvert_exporter": "python",
   "pygments_lexer": "ipython3",
   "version": "3.9.6"
  },
  "varInspector": {
   "cols": {
    "lenName": 16,
    "lenType": 16,
    "lenVar": 40
   },
   "kernels_config": {
    "python": {
     "delete_cmd_postfix": "",
     "delete_cmd_prefix": "del ",
     "library": "var_list.py",
     "varRefreshCmd": "print(var_dic_list())"
    },
    "r": {
     "delete_cmd_postfix": ") ",
     "delete_cmd_prefix": "rm(",
     "library": "var_list.r",
     "varRefreshCmd": "cat(var_dic_list()) "
    }
   },
   "types_to_exclude": [
    "module",
    "function",
    "builtin_function_or_method",
    "instance",
    "_Feature"
   ],
   "window_display": false
  },
  "vscode": {
   "interpreter": {
    "hash": "c97c558dc638cdc67fa37b8cfa9525ef9b501ca9e8390da302e007edd8839b69"
   }
  }
 },
 "nbformat": 4,
 "nbformat_minor": 4
}
