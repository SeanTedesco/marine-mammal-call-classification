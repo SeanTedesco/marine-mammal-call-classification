{
 "cells": [
  {
   "attachments": {},
   "cell_type": "markdown",
   "metadata": {},
   "source": [
    "### User Input"
   ]
  },
  {
   "cell_type": "code",
   "execution_count": 1,
   "metadata": {},
   "outputs": [],
   "source": [
    "\n",
    "mfccs_json_path = \"../mfccs_cnn_humpbackwhale_walrus_killerwhale_bowheadwhale_fin_finbackwhale_emptyocean.json\"\n",
    "\n",
    "accuracy_loss_image = \"/Users/sydne/Documents/marine-mammal-call-classification/acc_loss_metrics_2.png\"\n",
    "\n",
    "confusion_mat_image = \"/Users/sydne/Documents/marine-mammal-call-classification/finalCFcnn.png\""
   ]
  },
  {
   "attachments": {},
   "cell_type": "markdown",
   "metadata": {},
   "source": [
    "### Imports"
   ]
  },
  {
   "cell_type": "code",
   "execution_count": 28,
   "metadata": {},
   "outputs": [
    {
     "ename": "ImportError",
     "evalue": "cannot import name 'save_single_mfcc_for_demo' from 'cnn_comparison_lib' (c:\\Users\\sydne\\OneDrive - Queen's University\\Capstone\\marine-mammal-call-classification\\step5-model-comparisons\\cnn_comparison_lib.py)",
     "output_type": "error",
     "traceback": [
      "\u001b[1;31m---------------------------------------------------------------------------\u001b[0m",
      "\u001b[1;31mImportError\u001b[0m                               Traceback (most recent call last)",
      "Cell \u001b[1;32mIn[28], line 12\u001b[0m\n\u001b[0;32m      9\u001b[0m \u001b[39mimport\u001b[39;00m \u001b[39mglob\u001b[39;00m\n\u001b[0;32m     10\u001b[0m \u001b[39mimport\u001b[39;00m \u001b[39mos\u001b[39;00m\n\u001b[1;32m---> 12\u001b[0m \u001b[39mfrom\u001b[39;00m \u001b[39mcnn_comparison_lib\u001b[39;00m \u001b[39mimport\u001b[39;00m save_single_mfcc_for_demo\n",
      "\u001b[1;31mImportError\u001b[0m: cannot import name 'save_single_mfcc_for_demo' from 'cnn_comparison_lib' (c:\\Users\\sydne\\OneDrive - Queen's University\\Capstone\\marine-mammal-call-classification\\step5-model-comparisons\\cnn_comparison_lib.py)"
     ]
    }
   ],
   "source": [
    "import tensorflow as tf\n",
    "import tensorflow.keras as keras\n",
    "import matplotlib.pyplot as plt\n",
    "import seaborn as sns\n",
    "import pandas as pd \n",
    "import numpy as np\n",
    "import warnings\n",
    "\n",
    "import glob\n",
    "import os\n",
    "\n",
    "from cnn_comparison_lib import save_single_mfcc_for_demo"
   ]
  },
  {
   "cell_type": "markdown",
   "metadata": {},
   "source": []
  },
  {
   "cell_type": "markdown",
   "metadata": {},
   "source": []
  },
  {
   "cell_type": "markdown",
   "metadata": {},
   "source": []
  },
  {
   "attachments": {},
   "cell_type": "markdown",
   "metadata": {},
   "source": [
    "### Load MFCC Dataset"
   ]
  },
  {
   "cell_type": "code",
   "execution_count": 3,
   "metadata": {},
   "outputs": [
    {
     "name": "stdout",
     "output_type": "stream",
     "text": [
      "mapping the marine mammals: ['BowheadWhale' 'EmptyOcean' 'Fin_FinbackWhale' 'HumpbackWhale'\n",
      " 'KillerWhale' 'Walrus']\n"
     ]
    },
    {
     "data": {
      "text/plain": [
       "(array([1, 2, 3, 4, 5, 6]),\n",
       " array([1000, 1000, 1000, 1000, 1000, 1000], dtype=int64))"
      ]
     },
     "execution_count": 3,
     "metadata": {},
     "output_type": "execute_result"
    }
   ],
   "source": [
    "from cnn_comparison_lib import load_cnn_json\n",
    "\n",
    "X, y, L = load_cnn_json(mfccs_json_path)\n",
    "print(f\"mapping the marine mammals: {L}\")\n",
    "# Check class counts and that labels are numerical order\n",
    "np.unique(y, return_counts=True)"
   ]
  },
  {
   "attachments": {},
   "cell_type": "markdown",
   "metadata": {},
   "source": [
    "### Create Training, Validation, and Test Sets"
   ]
  },
  {
   "cell_type": "code",
   "execution_count": 4,
   "metadata": {},
   "outputs": [],
   "source": [
    "# create train, validation and test sets\n",
    "from cnn_comparison_lib import prepare_datasets\n",
    "\n",
    "X_train, X_validation, X_test, y_train, y_validation, y_test = prepare_datasets(X, y, 0.8, 0.3) # test size, vailidation size\n",
    "input_shape = (X_train.shape[1], X_train.shape[2], X_train.shape[3])"
   ]
  },
  {
   "attachments": {},
   "cell_type": "markdown",
   "metadata": {},
   "source": [
    "### Build the 3-Layer Models"
   ]
  },
  {
   "cell_type": "code",
   "execution_count": 5,
   "metadata": {},
   "outputs": [],
   "source": [
    "from cnn_comparison_lib import create_layered_cnn\n",
    "\n",
    "L3_model_list = []\n",
    "for i in range(10):\n",
    "    output_shape = i*100 + 32\n",
    "    model = create_layered_cnn(3, input_shape, output_shape)\n",
    "    L3_model_list.append(model)"
   ]
  },
  {
   "attachments": {},
   "cell_type": "markdown",
   "metadata": {},
   "source": [
    "### Get 3-Layer Trainable Parameter Count"
   ]
  },
  {
   "cell_type": "code",
   "execution_count": 6,
   "metadata": {},
   "outputs": [
    {
     "name": "stdout",
     "output_type": "stream",
     "text": [
      "[261321, 1313521, 2725721, 4497921, 6630121, 9122321, 11974521, 15186721, 18758921, 22691121]\n"
     ]
    }
   ],
   "source": [
    "from cnn_comparison_lib import count_trainable_parameters\n",
    "\n",
    "L3_parameter_count = []\n",
    "for model in L3_model_list:\n",
    "    count = count_trainable_parameters(model)\n",
    "    L3_parameter_count.append(count)\n",
    "\n",
    "print(L3_parameter_count)"
   ]
  },
  {
   "attachments": {},
   "cell_type": "markdown",
   "metadata": {},
   "source": [
    "### Train the 3-Layer Models"
   ]
  },
  {
   "cell_type": "code",
   "execution_count": 7,
   "metadata": {},
   "outputs": [
    {
     "name": "stdout",
     "output_type": "stream",
     "text": [
      "Epoch 1/5\n",
      "53/53 [==============================] - 4s 54ms/step - loss: 1.0879 - accuracy: 0.6667 - val_loss: 1.6399 - val_accuracy: 0.3417\n",
      "Epoch 2/5\n",
      "53/53 [==============================] - 3s 48ms/step - loss: 0.4187 - accuracy: 0.8833 - val_loss: 0.9744 - val_accuracy: 0.7694\n",
      "Epoch 3/5\n",
      "53/53 [==============================] - 3s 49ms/step - loss: 0.2314 - accuracy: 0.9202 - val_loss: 0.4781 - val_accuracy: 0.8583\n",
      "Epoch 4/5\n",
      "53/53 [==============================] - 3s 49ms/step - loss: 0.1642 - accuracy: 0.9548 - val_loss: 0.2082 - val_accuracy: 0.9306\n",
      "Epoch 5/5\n",
      "53/53 [==============================] - 3s 49ms/step - loss: 0.1298 - accuracy: 0.9583 - val_loss: 0.1350 - val_accuracy: 0.9611\n",
      "Epoch 1/5\n",
      "53/53 [==============================] - 11s 186ms/step - loss: 0.5545 - accuracy: 0.8214 - val_loss: 5.0275 - val_accuracy: 0.2750\n",
      "Epoch 2/5\n",
      "53/53 [==============================] - 10s 182ms/step - loss: 0.1376 - accuracy: 0.9536 - val_loss: 1.3611 - val_accuracy: 0.5111\n",
      "Epoch 3/5\n",
      "53/53 [==============================] - 10s 182ms/step - loss: 0.1407 - accuracy: 0.9488 - val_loss: 0.2069 - val_accuracy: 0.9361\n",
      "Epoch 4/5\n",
      "53/53 [==============================] - 10s 182ms/step - loss: 0.0734 - accuracy: 0.9738 - val_loss: 0.0602 - val_accuracy: 0.9833\n",
      "Epoch 5/5\n",
      "53/53 [==============================] - 10s 181ms/step - loss: 0.0332 - accuracy: 0.9905 - val_loss: 0.0612 - val_accuracy: 0.9806\n",
      "Epoch 1/5\n",
      "53/53 [==============================] - 22s 387ms/step - loss: 0.5185 - accuracy: 0.8310 - val_loss: 12.4170 - val_accuracy: 0.1611\n",
      "Epoch 2/5\n",
      "53/53 [==============================] - 20s 380ms/step - loss: 0.1617 - accuracy: 0.9548 - val_loss: 4.0823 - val_accuracy: 0.2694\n",
      "Epoch 3/5\n",
      "53/53 [==============================] - 20s 384ms/step - loss: 0.2428 - accuracy: 0.9310 - val_loss: 0.9618 - val_accuracy: 0.7028\n",
      "Epoch 4/5\n",
      "53/53 [==============================] - 19s 366ms/step - loss: 0.1151 - accuracy: 0.9655 - val_loss: 0.9721 - val_accuracy: 0.8278\n",
      "Epoch 5/5\n",
      "53/53 [==============================] - 14s 270ms/step - loss: 0.2542 - accuracy: 0.9333 - val_loss: 0.0973 - val_accuracy: 0.9639\n",
      "Epoch 1/5\n",
      "53/53 [==============================] - 25s 459ms/step - loss: 0.6587 - accuracy: 0.8345 - val_loss: 9.1160 - val_accuracy: 0.3361\n",
      "Epoch 2/5\n",
      "53/53 [==============================] - 24s 459ms/step - loss: 0.2527 - accuracy: 0.9345 - val_loss: 1.5432 - val_accuracy: 0.5833\n",
      "Epoch 3/5\n",
      "53/53 [==============================] - 24s 455ms/step - loss: 0.2515 - accuracy: 0.9274 - val_loss: 0.6397 - val_accuracy: 0.8333\n",
      "Epoch 4/5\n",
      "53/53 [==============================] - 24s 456ms/step - loss: 0.3146 - accuracy: 0.9345 - val_loss: 0.2492 - val_accuracy: 0.9389\n",
      "Epoch 5/5\n",
      "53/53 [==============================] - 24s 457ms/step - loss: 0.1609 - accuracy: 0.9690 - val_loss: 0.0765 - val_accuracy: 0.9778\n",
      "Epoch 1/5\n",
      "53/53 [==============================] - 38s 694ms/step - loss: 0.7352 - accuracy: 0.8012 - val_loss: 8.6965 - val_accuracy: 0.4472\n",
      "Epoch 2/5\n",
      "53/53 [==============================] - 37s 697ms/step - loss: 0.6625 - accuracy: 0.8905 - val_loss: 3.8884 - val_accuracy: 0.4639\n",
      "Epoch 3/5\n",
      "53/53 [==============================] - 37s 703ms/step - loss: 0.2904 - accuracy: 0.9274 - val_loss: 0.2594 - val_accuracy: 0.9444\n",
      "Epoch 4/5\n",
      "53/53 [==============================] - 37s 704ms/step - loss: 0.4936 - accuracy: 0.9310 - val_loss: 0.4404 - val_accuracy: 0.8944\n",
      "Epoch 5/5\n",
      "53/53 [==============================] - 37s 708ms/step - loss: 0.2738 - accuracy: 0.9440 - val_loss: 0.6543 - val_accuracy: 0.8417\n",
      "Epoch 1/5\n",
      "53/53 [==============================] - 55s 1s/step - loss: 0.8750 - accuracy: 0.8321 - val_loss: 34.3349 - val_accuracy: 0.1667\n",
      "Epoch 2/5\n",
      "53/53 [==============================] - 54s 1s/step - loss: 0.5987 - accuracy: 0.8976 - val_loss: 11.9380 - val_accuracy: 0.3667\n",
      "Epoch 3/5\n",
      "53/53 [==============================] - 54s 1s/step - loss: 0.3509 - accuracy: 0.9333 - val_loss: 1.9508 - val_accuracy: 0.7361\n",
      "Epoch 4/5\n",
      "53/53 [==============================] - 54s 1s/step - loss: 0.5545 - accuracy: 0.9333 - val_loss: 0.4900 - val_accuracy: 0.9250\n",
      "Epoch 5/5\n",
      "53/53 [==============================] - 54s 1s/step - loss: 0.3058 - accuracy: 0.9476 - val_loss: 0.1645 - val_accuracy: 0.9556\n",
      "Epoch 1/5\n",
      "53/53 [==============================] - 73s 1s/step - loss: 1.1066 - accuracy: 0.7917 - val_loss: 38.0167 - val_accuracy: 0.1556\n",
      "Epoch 2/5\n",
      "53/53 [==============================] - 73s 1s/step - loss: 0.6402 - accuracy: 0.8917 - val_loss: 8.6679 - val_accuracy: 0.4611\n",
      "Epoch 3/5\n",
      "53/53 [==============================] - 72s 1s/step - loss: 0.2478 - accuracy: 0.9310 - val_loss: 1.2204 - val_accuracy: 0.8167\n",
      "Epoch 4/5\n",
      "53/53 [==============================] - 72s 1s/step - loss: 0.3870 - accuracy: 0.9190 - val_loss: 0.3518 - val_accuracy: 0.9028\n",
      "Epoch 5/5\n",
      "53/53 [==============================] - 72s 1s/step - loss: 0.5806 - accuracy: 0.9286 - val_loss: 0.7825 - val_accuracy: 0.9111\n",
      "Epoch 1/5\n",
      "53/53 [==============================] - 95s 2s/step - loss: 1.5257 - accuracy: 0.7762 - val_loss: 38.8464 - val_accuracy: 0.1667\n",
      "Epoch 2/5\n",
      "53/53 [==============================] - 94s 2s/step - loss: 0.7350 - accuracy: 0.8917 - val_loss: 20.7891 - val_accuracy: 0.3639\n",
      "Epoch 3/5\n",
      "53/53 [==============================] - 94s 2s/step - loss: 0.3528 - accuracy: 0.9440 - val_loss: 1.5209 - val_accuracy: 0.8278\n",
      "Epoch 4/5\n",
      "53/53 [==============================] - 94s 2s/step - loss: 0.4605 - accuracy: 0.9381 - val_loss: 0.9043 - val_accuracy: 0.8500\n",
      "Epoch 5/5\n",
      "53/53 [==============================] - 95s 2s/step - loss: 0.8768 - accuracy: 0.9000 - val_loss: 0.4202 - val_accuracy: 0.9389\n",
      "Epoch 1/5\n",
      "53/53 [==============================] - 119s 2s/step - loss: 1.8931 - accuracy: 0.7452 - val_loss: 75.9838 - val_accuracy: 0.2639\n",
      "Epoch 2/5\n",
      "53/53 [==============================] - 119s 2s/step - loss: 1.1835 - accuracy: 0.8643 - val_loss: 45.7897 - val_accuracy: 0.2722\n",
      "Epoch 3/5\n",
      "53/53 [==============================] - 118s 2s/step - loss: 0.8461 - accuracy: 0.8988 - val_loss: 4.3022 - val_accuracy: 0.7083\n",
      "Epoch 4/5\n",
      "53/53 [==============================] - 119s 2s/step - loss: 0.3482 - accuracy: 0.9262 - val_loss: 0.2223 - val_accuracy: 0.9417\n",
      "Epoch 5/5\n",
      "53/53 [==============================] - 121s 2s/step - loss: 0.2912 - accuracy: 0.9500 - val_loss: 0.1220 - val_accuracy: 0.9583\n",
      "Epoch 1/5\n",
      "53/53 [==============================] - 144s 3s/step - loss: 1.8920 - accuracy: 0.7762 - val_loss: 75.0164 - val_accuracy: 0.1583\n",
      "Epoch 2/5\n",
      "53/53 [==============================] - 143s 3s/step - loss: 1.4585 - accuracy: 0.8595 - val_loss: 31.6832 - val_accuracy: 0.3750\n",
      "Epoch 3/5\n",
      "53/53 [==============================] - 143s 3s/step - loss: 0.2875 - accuracy: 0.9452 - val_loss: 1.2165 - val_accuracy: 0.8111\n",
      "Epoch 4/5\n",
      "53/53 [==============================] - 143s 3s/step - loss: 0.6880 - accuracy: 0.9167 - val_loss: 2.1750 - val_accuracy: 0.8028\n",
      "Epoch 5/5\n",
      "53/53 [==============================] - 143s 3s/step - loss: 0.5574 - accuracy: 0.9190 - val_loss: 1.3404 - val_accuracy: 0.8000\n"
     ]
    }
   ],
   "source": [
    "from cnn_comparison_lib import plot_history\n",
    "\n",
    "L3_history = []\n",
    "for model in L3_model_list:\n",
    "    history = model.fit(X_train, y_train, validation_data=(X_validation, y_validation), batch_size=16, epochs=5)\n",
    "    L3_history.append(history)"
   ]
  },
  {
   "attachments": {},
   "cell_type": "markdown",
   "metadata": {},
   "source": [
    "### Evaluate the 3-Layer Models"
   ]
  },
  {
   "cell_type": "code",
   "execution_count": 8,
   "metadata": {},
   "outputs": [
    {
     "name": "stdout",
     "output_type": "stream",
     "text": [
      "150/150 [==============================] - 2s 10ms/step - loss: 0.1507 - accuracy: 0.9535\n",
      "150/150 [==============================] - 7s 45ms/step - loss: 0.0585 - accuracy: 0.9842\n",
      "150/150 [==============================] - 15s 100ms/step - loss: 0.0982 - accuracy: 0.9679\n",
      "150/150 [==============================] - 27s 180ms/step - loss: 0.0810 - accuracy: 0.9735\n",
      "150/150 [==============================] - 41s 276ms/step - loss: 0.5433 - accuracy: 0.8737\n",
      "150/150 [==============================] - 61s 408ms/step - loss: 0.1496 - accuracy: 0.9683\n",
      "150/150 [==============================] - 82s 548ms/step - loss: 0.6758 - accuracy: 0.9137\n",
      "150/150 [==============================] - 108s 717ms/step - loss: 0.7337 - accuracy: 0.9344\n",
      "150/150 [==============================] - 133s 888ms/step - loss: 0.1315 - accuracy: 0.9546\n",
      "150/150 [==============================] - 168s 1s/step - loss: 1.2529 - accuracy: 0.7973\n"
     ]
    }
   ],
   "source": [
    "# evaluate the cnn on the test set\n",
    "L3_accuracy = []\n",
    "for model in L3_model_list:\n",
    "    test_error, test_accuracy = model.evaluate(X_test, y_test, verbose=1)\n",
    "    L3_accuracy.append(test_accuracy)"
   ]
  },
  {
   "attachments": {},
   "cell_type": "markdown",
   "metadata": {},
   "source": [
    "### Plot the 3-Layer Models"
   ]
  },
  {
   "cell_type": "code",
   "execution_count": 9,
   "metadata": {},
   "outputs": [
    {
     "data": {
      "text/plain": [
       "Text(0, 0.5, 'Model Accuracy')"
      ]
     },
     "execution_count": 9,
     "metadata": {},
     "output_type": "execute_result"
    },
    {
     "data": {
      "image/png": "[encoded data removed]",
      "text/plain": [
       "<Figure size 640x480 with 1 Axes>"
      ]
     },
     "metadata": {},
     "output_type": "display_data"
    }
   ],
   "source": [
    "x = L3_parameter_count\n",
    "y = L3_accuracy\n",
    "plt.plot(x, y, 'o', color='black')\n",
    "plt.xlabel(\"Number of Parameters\")\n",
    "plt.ylabel(\"Model Accuracy\")"
   ]
  },
  {
   "attachments": {},
   "cell_type": "markdown",
   "metadata": {},
   "source": [
    "### Save the models"
   ]
  },
  {
   "cell_type": "code",
   "execution_count": 10,
   "metadata": {},
   "outputs": [
    {
     "name": "stderr",
     "output_type": "stream",
     "text": [
      "WARNING:absl:Found untraced functions such as _jit_compiled_convolution_op, _jit_compiled_convolution_op, _jit_compiled_convolution_op, _update_step_xla while saving (showing 4 of 4). These functions will not be directly callable after loading.\n"
     ]
    },
    {
     "name": "stdout",
     "output_type": "stream",
     "text": [
      "INFO:tensorflow:Assets written to: syd_saved_models/empty_ocean/cnn_model_6_classes_dropout_01_1\\assets\n"
     ]
    },
    {
     "name": "stderr",
     "output_type": "stream",
     "text": [
      "INFO:tensorflow:Assets written to: syd_saved_models/empty_ocean/cnn_model_6_classes_dropout_01_1\\assets\n",
      "WARNING:absl:Found untraced functions such as _jit_compiled_convolution_op, _jit_compiled_convolution_op, _jit_compiled_convolution_op, _update_step_xla while saving (showing 4 of 4). These functions will not be directly callable after loading.\n"
     ]
    },
    {
     "name": "stdout",
     "output_type": "stream",
     "text": [
      "INFO:tensorflow:Assets written to: syd_saved_models/empty_ocean/cnn_model_6_classes_dropout_01_2\\assets\n"
     ]
    },
    {
     "name": "stderr",
     "output_type": "stream",
     "text": [
      "INFO:tensorflow:Assets written to: syd_saved_models/empty_ocean/cnn_model_6_classes_dropout_01_2\\assets\n",
      "WARNING:absl:Found untraced functions such as _jit_compiled_convolution_op, _jit_compiled_convolution_op, _jit_compiled_convolution_op, _update_step_xla while saving (showing 4 of 4). These functions will not be directly callable after loading.\n"
     ]
    },
    {
     "name": "stdout",
     "output_type": "stream",
     "text": [
      "INFO:tensorflow:Assets written to: syd_saved_models/empty_ocean/cnn_model_6_classes_dropout_01_3\\assets\n"
     ]
    },
    {
     "name": "stderr",
     "output_type": "stream",
     "text": [
      "INFO:tensorflow:Assets written to: syd_saved_models/empty_ocean/cnn_model_6_classes_dropout_01_3\\assets\n",
      "WARNING:absl:Found untraced functions such as _jit_compiled_convolution_op, _jit_compiled_convolution_op, _jit_compiled_convolution_op, _update_step_xla while saving (showing 4 of 4). These functions will not be directly callable after loading.\n"
     ]
    },
    {
     "name": "stdout",
     "output_type": "stream",
     "text": [
      "INFO:tensorflow:Assets written to: syd_saved_models/empty_ocean/cnn_model_6_classes_dropout_01_4\\assets\n"
     ]
    },
    {
     "name": "stderr",
     "output_type": "stream",
     "text": [
      "INFO:tensorflow:Assets written to: syd_saved_models/empty_ocean/cnn_model_6_classes_dropout_01_4\\assets\n",
      "WARNING:absl:Found untraced functions such as _jit_compiled_convolution_op, _jit_compiled_convolution_op, _jit_compiled_convolution_op, _update_step_xla while saving (showing 4 of 4). These functions will not be directly callable after loading.\n"
     ]
    },
    {
     "name": "stdout",
     "output_type": "stream",
     "text": [
      "INFO:tensorflow:Assets written to: syd_saved_models/empty_ocean/cnn_model_6_classes_dropout_01_5\\assets\n"
     ]
    },
    {
     "name": "stderr",
     "output_type": "stream",
     "text": [
      "INFO:tensorflow:Assets written to: syd_saved_models/empty_ocean/cnn_model_6_classes_dropout_01_5\\assets\n",
      "WARNING:absl:Found untraced functions such as _jit_compiled_convolution_op, _jit_compiled_convolution_op, _jit_compiled_convolution_op, _update_step_xla while saving (showing 4 of 4). These functions will not be directly callable after loading.\n"
     ]
    },
    {
     "name": "stdout",
     "output_type": "stream",
     "text": [
      "INFO:tensorflow:Assets written to: syd_saved_models/empty_ocean/cnn_model_6_classes_dropout_01_6\\assets\n"
     ]
    },
    {
     "name": "stderr",
     "output_type": "stream",
     "text": [
      "INFO:tensorflow:Assets written to: syd_saved_models/empty_ocean/cnn_model_6_classes_dropout_01_6\\assets\n",
      "WARNING:absl:Found untraced functions such as _jit_compiled_convolution_op, _jit_compiled_convolution_op, _jit_compiled_convolution_op, _update_step_xla while saving (showing 4 of 4). These functions will not be directly callable after loading.\n"
     ]
    },
    {
     "name": "stdout",
     "output_type": "stream",
     "text": [
      "INFO:tensorflow:Assets written to: syd_saved_models/empty_ocean/cnn_model_6_classes_dropout_01_7\\assets\n"
     ]
    },
    {
     "name": "stderr",
     "output_type": "stream",
     "text": [
      "INFO:tensorflow:Assets written to: syd_saved_models/empty_ocean/cnn_model_6_classes_dropout_01_7\\assets\n",
      "WARNING:absl:Found untraced functions such as _jit_compiled_convolution_op, _jit_compiled_convolution_op, _jit_compiled_convolution_op, _update_step_xla while saving (showing 4 of 4). These functions will not be directly callable after loading.\n"
     ]
    },
    {
     "name": "stdout",
     "output_type": "stream",
     "text": [
      "INFO:tensorflow:Assets written to: syd_saved_models/empty_ocean/cnn_model_6_classes_dropout_01_8\\assets\n"
     ]
    },
    {
     "name": "stderr",
     "output_type": "stream",
     "text": [
      "INFO:tensorflow:Assets written to: syd_saved_models/empty_ocean/cnn_model_6_classes_dropout_01_8\\assets\n",
      "WARNING:absl:Found untraced functions such as _jit_compiled_convolution_op, _jit_compiled_convolution_op, _jit_compiled_convolution_op, _update_step_xla while saving (showing 4 of 4). These functions will not be directly callable after loading.\n"
     ]
    },
    {
     "name": "stdout",
     "output_type": "stream",
     "text": [
      "INFO:tensorflow:Assets written to: syd_saved_models/empty_ocean/cnn_model_6_classes_dropout_01_9\\assets\n"
     ]
    },
    {
     "name": "stderr",
     "output_type": "stream",
     "text": [
      "INFO:tensorflow:Assets written to: syd_saved_models/empty_ocean/cnn_model_6_classes_dropout_01_9\\assets\n",
      "WARNING:absl:Found untraced functions such as _jit_compiled_convolution_op, _jit_compiled_convolution_op, _jit_compiled_convolution_op, _update_step_xla while saving (showing 4 of 4). These functions will not be directly callable after loading.\n"
     ]
    },
    {
     "name": "stdout",
     "output_type": "stream",
     "text": [
      "INFO:tensorflow:Assets written to: syd_saved_models/empty_ocean/cnn_model_6_classes_dropout_01_10\\assets\n"
     ]
    },
    {
     "name": "stderr",
     "output_type": "stream",
     "text": [
      "INFO:tensorflow:Assets written to: syd_saved_models/empty_ocean/cnn_model_6_classes_dropout_01_10\\assets\n"
     ]
    }
   ],
   "source": [
    "count = 1\n",
    "for model in L3_model_list:\n",
    "    model.save(\"syd_saved_models/empty_ocean/cnn_model_6_classes_dropout_01_\"+str(count))\n",
    "    count = count + 1"
   ]
  },
  {
   "cell_type": "code",
   "execution_count": 36,
   "metadata": {},
   "outputs": [
    {
     "ename": "NameError",
     "evalue": "name 'save_single_mfcc_for_demo' is not defined",
     "output_type": "error",
     "traceback": [
      "\u001b[1;31m---------------------------------------------------------------------------\u001b[0m",
      "\u001b[1;31mNameError\u001b[0m                                 Traceback (most recent call last)",
      "Cell \u001b[1;32mIn[36], line 6\u001b[0m\n\u001b[0;32m      3\u001b[0m     \u001b[39mbreak\u001b[39;00m\n\u001b[0;32m      5\u001b[0m audio\u001b[39m=\u001b[39m\u001b[39m\"\u001b[39m\u001b[39m../data_augmented_demo/\u001b[39m\u001b[39m\"\u001b[39m\n\u001b[1;32m----> 6\u001b[0m json_path_with_mfccs \u001b[39m=\u001b[39m save_single_mfcc_for_demo(audio)\n\u001b[0;32m      7\u001b[0m X, y, L \u001b[39m=\u001b[39m load_cnn_json(json_path_with_mfccs)\n\u001b[0;32m      8\u001b[0m test_error, test_accuracy \u001b[39m=\u001b[39m model\u001b[39m.\u001b[39mevaluate(X, y, verbose\u001b[39m=\u001b[39m\u001b[39m1\u001b[39m)\n",
      "\u001b[1;31mNameError\u001b[0m: name 'save_single_mfcc_for_demo' is not defined"
     ]
    }
   ],
   "source": [
    "# trying to test getting the model to predict something (can delete this cell after, it's not needed for the GUI)\n",
    "# This logic is meant for predict() function for gradio\n",
    "\n",
    "for model in L3_model_list:\n",
    "    model_1 = model\n",
    "    break\n",
    "\n",
    "audio_path=\"../data_augmented_demo/\"\n",
    "json_path_with_mfcc = save_single_mfcc_for_demo(audio_path)\n",
    "X, y, L = load_cnn_json(json_path_with_mfcc)\n",
    "test_error, test_accuracy = model.evaluate(X, y, verbose=1)"
   ]
  },
  {
   "cell_type": "code",
   "execution_count": 1,
   "metadata": {},
   "outputs": [
    {
     "name": "stdout",
     "output_type": "stream",
     "text": [
      "Running on local URL:  http://127.0.0.1:7860\n",
      "\n",
      "Could not create share link, please check your internet connection.\n"
     ]
    },
    {
     "data": {
      "text/html": [
       "<div><iframe src=\"http://127.0.0.1:7860/\" width=\"100%\" height=\"500\" allow=\"autoplay; camera; microphone; clipboard-read; clipboard-write;\" frameborder=\"0\" allowfullscreen></iframe></div>"
      ],
      "text/plain": [
       "<IPython.core.display.HTML object>"
      ]
     },
     "metadata": {},
     "output_type": "display_data"
    },
    {
     "data": {
      "text/plain": []
     },
     "execution_count": 1,
     "metadata": {},
     "output_type": "execute_result"
    }
   ],
   "source": [
    "import gradio as gr\n",
    "\n",
    "def predict(audio):\n",
    "    return \"Demo\"\n",
    "\n",
    "demo = gr.Interface(fn=predict, inputs=gr.Audio(value=\"../data_augmented_demo/KillerWhale_aug_0.wav\"), outputs=\"text\")\n",
    "\n",
    "demo.launch(share=True) "
   ]
  }
 ],
 "metadata": {
  "kernelspec": {
   "display_name": "mammal-env",
   "language": "python",
   "name": "python3"
  },
  "language_info": {
   "codemirror_mode": {
    "name": "ipython",
    "version": 3
   },
   "file_extension": ".py",
   "mimetype": "text/x-python",
   "name": "python",
   "nbconvert_exporter": "python",
   "pygments_lexer": "ipython3",
   "version": "3.10.9 (tags/v3.10.9:1dd9be6, Dec  6 2022, 20:01:21) [MSC v.1934 64 bit (AMD64)]"
  },
  "orig_nbformat": 4,
  "vscode": {
   "interpreter": {
    "hash": "682ece296600282b9ffb6158a397c1fb5bda4e206b67ce811f63bad36a940678"
   }
  }
 },
 "nbformat": 4,
 "nbformat_minor": 2
}
