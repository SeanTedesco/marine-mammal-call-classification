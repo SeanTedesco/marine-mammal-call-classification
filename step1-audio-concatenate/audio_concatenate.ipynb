{
 "cells": [
  {
   "cell_type": "markdown",
   "metadata": {},
   "source": [
    "### Imports"
   ]
  },
  {
   "cell_type": "code",
   "execution_count": null,
   "metadata": {
    "ExecuteTime": {
     "end_time": "2020-12-02T07:28:47.834739Z",
     "start_time": "2020-12-02T07:28:47.832193Z"
    }
   },
   "outputs": [],
   "source": [
    "from audio_concatenation_lib import get_wavs_from_directory\n",
    "from audio_concatenation_lib import save_new_audio\n",
    "from audio_concatenation_lib import get_wavs_from_training\n",
    "import os\n",
    "from pydub import playback"
   ]
  },
  {
   "attachments": {},
   "cell_type": "markdown",
   "metadata": {},
   "source": [
    "### User Input"
   ]
  },
  {
   "cell_type": "code",
   "execution_count": null,
   "metadata": {},
   "outputs": [],
   "source": [
    "# provide the name of the marine mammal that is desired to be (USER INPUT)\n",
    "# this must match the exact name of the mammal given in the directory\n",
    "mammal_name = \"Walrus\"\n",
    "\n",
    "# provide the number of audio files to be collected, augmented and saved (USER INPUT)\n",
    "# this is optional and can be left as -1 if all the data is desired\n",
    "mammal_sample_count = 100"
   ]
  },
  {
   "cell_type": "markdown",
   "metadata": {},
   "source": [
    "### Path Setup"
   ]
  },
  {
   "cell_type": "code",
   "execution_count": null,
   "metadata": {},
   "outputs": [],
   "source": [
    "# the path to the raw Watkins Audio Samples \n",
    "path_to_raw_data = f\"../data_marine_raw/{mammal_name}/\"\n",
    "\n",
    "# path to new directory to store lengthened (30s) audio\n",
    "training_data_path = f'../data_training/{mammal_name}/'\n",
    "os.makedirs(training_data_path, exist_ok = True) \n",
    "\n",
    "# path to new directory to store augmented audio\n",
    "augmented_data_path = f'../data_augmented/{mammal_name}/'\n",
    "os.makedirs(augmented_data_path, exist_ok = True) "
   ]
  },
  {
   "cell_type": "markdown",
   "metadata": {},
   "source": [
    "### Generate Training Data"
   ]
  },
  {
   "attachments": {},
   "cell_type": "markdown",
   "metadata": {},
   "source": [
    "1. Extend each audio track to 30 seconds\n",
    "2. Store processed audio samples into a new directory"
   ]
  },
  {
   "cell_type": "code",
   "execution_count": null,
   "metadata": {
    "ExecuteTime": {
     "end_time": "2020-12-02T08:31:21.718172Z",
     "start_time": "2020-12-02T08:31:21.708816Z"
    }
   },
   "outputs": [],
   "source": [
    "playlist = get_wavs_from_directory(path_to_raw_data, mammal_sample_count)\n",
    "save_new_audio(playlist, training_data_path, mammal_name)\n",
    "\n",
    "playlist_len = len(playlist)\n",
    "print(f'processed {playlist_len} number of audio samples')"
   ]
  },
  {
   "cell_type": "markdown",
   "metadata": {},
   "source": [
    "### Augment Training Data\n",
    "1. duplicate audio files\n",
    "2. Augment this half for each class\n",
    "3. Save augmented audio back in the appropriate class in the training data set\n"
   ]
  },
  {
   "cell_type": "code",
   "execution_count": null,
   "metadata": {
    "ExecuteTime": {
     "end_time": "2020-12-02T08:31:46.533726Z",
     "start_time": "2020-12-02T08:31:46.508403Z"
    }
   },
   "outputs": [],
   "source": [
    "# store augmented files back into the original training directories\n",
    "get_wavs_from_training(training_data_path, augmented_data_path, mammal_name)"
   ]
  }
 ],
 "metadata": {
  "kernelspec": {
   "display_name": "Python 3.11.0 ('mammal-env': venv)",
   "language": "python",
   "name": "python3"
  },
  "language_info": {
   "codemirror_mode": {
    "name": "ipython",
    "version": 3
   },
   "file_extension": ".py",
   "mimetype": "text/x-python",
   "name": "python",
   "nbconvert_exporter": "python",
   "pygments_lexer": "ipython3",
   "version": "3.9.6 (default, Oct 18 2022, 12:41:40) \n[Clang 14.0.0 (clang-1400.0.29.202)]"
  },
  "varInspector": {
   "cols": {
    "lenName": 16,
    "lenType": 16,
    "lenVar": 40
   },
   "kernels_config": {
    "python": {
     "delete_cmd_postfix": "",
     "delete_cmd_prefix": "del ",
     "library": "var_list.py",
     "varRefreshCmd": "print(var_dic_list())"
    },
    "r": {
     "delete_cmd_postfix": ") ",
     "delete_cmd_prefix": "rm(",
     "library": "var_list.r",
     "varRefreshCmd": "cat(var_dic_list()) "
    }
   },
   "types_to_exclude": [
    "module",
    "function",
    "builtin_function_or_method",
    "instance",
    "_Feature"
   ],
   "window_display": false
  },
  "vscode": {
   "interpreter": {
    "hash": "34ef32b04849682084fce80155c31b950d6cde80e98fb8c6edf1d39bac8ab09b"
   }
  }
 },
 "nbformat": 4,
 "nbformat_minor": 4
}
