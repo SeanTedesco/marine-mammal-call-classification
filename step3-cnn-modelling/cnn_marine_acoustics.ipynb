{
 "cells": [
  {
   "attachments": {},
   "cell_type": "markdown",
   "metadata": {},
   "source": [
    "### User Input"
   ]
  },
  {
   "cell_type": "code",
   "execution_count": null,
   "metadata": {},
   "outputs": [],
   "source": [
    "mfccs_json_path = \"../mfccs_cnn_humpbackwhale_walrus.json\"\n",
    "\n",
    "accuracy_loss_image = \"/Users/seantedesco/Documents/marine-mammal-call-classification/acc_loss_metrics.png\"\n",
    "\n",
    "confusion_mat_image = \"/Users/seantedesco/Documents/marine-mammal-call-classification/finalCFcnn.png\""
   ]
  },
  {
   "attachments": {},
   "cell_type": "markdown",
   "metadata": {},
   "source": [
    "### Imports"
   ]
  },
  {
   "cell_type": "code",
   "execution_count": null,
   "metadata": {
    "ExecuteTime": {
     "end_time": "2021-02-21T11:03:26.384906Z",
     "start_time": "2021-02-21T11:03:26.331395Z"
    }
   },
   "outputs": [],
   "source": [
    "import tensorflow as tf\n",
    "import tensorflow.keras as keras\n",
    "import matplotlib.pyplot as plt\n",
    "import seaborn as sns\n",
    "import pandas as pd \n",
    "import numpy as np\n",
    "import warnings"
   ]
  },
  {
   "attachments": {},
   "cell_type": "markdown",
   "metadata": {},
   "source": [
    "### Plot Settings"
   ]
  },
  {
   "cell_type": "code",
   "execution_count": null,
   "metadata": {
    "ExecuteTime": {
     "end_time": "2021-02-21T11:03:27.259347Z",
     "start_time": "2021-02-21T11:03:27.236457Z"
    }
   },
   "outputs": [],
   "source": [
    "# color defaults\n",
    "CB91_Blue = '#2CBDFE'\n",
    "CB91_Green = '#47DBCD'\n",
    "CB91_Pink = '#F3A0F2'\n",
    "CB91_Purple = '#9D2EC5'\n",
    "CB91_Violet = '#661D98'\n",
    "CB91_Amber = '#F5B14C'\n",
    "color_list = [CB91_Blue, CB91_Green, CB91_Pink, CB91_Purple, CB91_Violet, CB91_Amber]\n",
    "\n",
    "# matplotlib seettings\n",
    "plt.style.use('ggplot')\n",
    "plt.rcParams['axes.prop_cycle'] = plt.cycler(color=color_list)\n",
    "plt.style.use('ggplot')\n",
    "\n",
    "# seaboarn settings\n",
    "sns.set(style='ticks')\n",
    "sns.set(style='ticks')\n",
    "sns.set_style(\"darkgrid\")\n",
    "\n",
    "# pandas settings\n",
    "pd.options.display.max_columns = 500\n",
    "pd.options.display.max_rows = 500\n",
    "\n",
    "# warning settings\n",
    "warnings.simplefilter(action='ignore', category=FutureWarning)"
   ]
  },
  {
   "attachments": {},
   "cell_type": "markdown",
   "metadata": {},
   "source": [
    "### Load MFCC Dataset"
   ]
  },
  {
   "cell_type": "code",
   "execution_count": null,
   "metadata": {},
   "outputs": [],
   "source": [
    "from cnn_acoustics_lib import load_cnn_json\n",
    "\n",
    "X, y, L = load_cnn_json(mfccs_json_path)\n",
    "print(f\"mapping the marine mammals: {L}\")"
   ]
  },
  {
   "cell_type": "code",
   "execution_count": null,
   "metadata": {
    "ExecuteTime": {
     "end_time": "2021-02-21T11:04:04.590848Z",
     "start_time": "2021-02-21T11:04:04.579085Z"
    },
    "scrolled": false
   },
   "outputs": [],
   "source": [
    "# Check class counts and that labels are numerical order\n",
    "np.unique(y, return_counts=True)"
   ]
  },
  {
   "attachments": {},
   "cell_type": "markdown",
   "metadata": {},
   "source": [
    "### Create Training, Validation, and Test Sets"
   ]
  },
  {
   "cell_type": "code",
   "execution_count": null,
   "metadata": {
    "ExecuteTime": {
     "end_time": "2021-02-21T11:04:36.659158Z",
     "start_time": "2021-02-21T11:04:36.474703Z"
    }
   },
   "outputs": [],
   "source": [
    "# create train, validation and test sets\n",
    "from cnn_acoustics_lib import prepare_datasets\n",
    "\n",
    "X_train, X_validation, X_test, y_train, y_validation, y_test = prepare_datasets(X, y, 0.25, 0.2) # test size, vailidation size"
   ]
  },
  {
   "attachments": {},
   "cell_type": "markdown",
   "metadata": {},
   "source": [
    "### Build the Model"
   ]
  },
  {
   "cell_type": "code",
   "execution_count": null,
   "metadata": {
    "ExecuteTime": {
     "end_time": "2021-02-21T11:17:02.808898Z",
     "start_time": "2021-02-21T11:17:02.691830Z"
    }
   },
   "outputs": [],
   "source": [
    "from cnn_acoustics_lib import build_model\n",
    "\n",
    "input_shape = (X_train.shape[1], X_train.shape[2], X_train.shape[3])\n",
    "model = build_model(input_shape)\n",
    "print(model.summary())"
   ]
  },
  {
   "cell_type": "code",
   "execution_count": null,
   "metadata": {
    "ExecuteTime": {
     "end_time": "2021-02-21T11:17:07.498398Z",
     "start_time": "2021-02-21T11:17:07.484769Z"
    }
   },
   "outputs": [],
   "source": [
    "# compile the network\n",
    "optimizer = keras.optimizers.Adam(learning_rate=0.0001)\n",
    "model.compile(optimizer=optimizer, \n",
    "              loss=\"sparse_categorical_crossentropy\",\n",
    "              metrics=['accuracy'])"
   ]
  },
  {
   "cell_type": "code",
   "execution_count": null,
   "metadata": {
    "ExecuteTime": {
     "end_time": "2021-02-21T11:23:02.482304Z",
     "start_time": "2021-02-21T11:17:42.167975Z"
    },
    "scrolled": false
   },
   "outputs": [],
   "source": [
    "from cnn_acoustics_lib import plot_history\n",
    "\n",
    "# Train the cnn \n",
    "history = model.fit(X_train, y_train, validation_data=(X_validation, y_validation), batch_size=32, epochs=20)\n",
    "\n",
    "# plot accuracy/error for training and validation\n",
    "plot_history(history, accuracy_loss_image)"
   ]
  },
  {
   "cell_type": "code",
   "execution_count": null,
   "metadata": {
    "ExecuteTime": {
     "end_time": "2021-02-21T11:23:17.005801Z",
     "start_time": "2021-02-21T11:23:16.201732Z"
    },
    "scrolled": true
   },
   "outputs": [],
   "source": [
    "# evaluate the cnn on the test set\n",
    "test_error, test_accuracy = model.evaluate(X_test, y_test, verbose=1)\n",
    "print(\"Accuracy on test set is: {}\".format(test_accuracy))"
   ]
  },
  {
   "cell_type": "markdown",
   "metadata": {},
   "source": [
    "# Confusion Matrix"
   ]
  },
  {
   "cell_type": "code",
   "execution_count": null,
   "metadata": {
    "ExecuteTime": {
     "end_time": "2021-02-21T11:25:21.476857Z",
     "start_time": "2021-02-21T11:23:30.671974Z"
    }
   },
   "outputs": [],
   "source": [
    "# iterate each sample of X_test, predict, and store predicted index into a numpy array.\n",
    "ypred_array = np.array([])\n",
    "\n",
    "for i in range(len(X_test)):\n",
    "    X = X_test[i]\n",
    "    X = X[np.newaxis, ...] # to make a 4D\n",
    "    \n",
    "    # prediction\n",
    "    prediction = model.predict(X)\n",
    "    \n",
    "    # extract the index with the max value\n",
    "    predicted_index = np.argmax(prediction, axis=1)\n",
    "    ypred_array = np.append(ypred_array, predicted_index)"
   ]
  },
  {
   "cell_type": "code",
   "execution_count": null,
   "metadata": {
    "ExecuteTime": {
     "end_time": "2021-02-21T11:25:35.000860Z",
     "start_time": "2021-02-21T11:25:33.941756Z"
    }
   },
   "outputs": [],
   "source": [
    "confusion_mtx = tf.math.confusion_matrix(y_test, ypred_array) \n",
    "num_rows = confusion_mtx.get_shape().as_list()[0] #we need these to remove (slice)\n",
    "num_cols = confusion_mtx.get_shape().as_list()[1]\n",
    "confusion_mtx= tf.slice(confusion_mtx, [1,1], [num_rows-1, num_cols-1])\n",
    "# the second argument of the function is offset for beginning the slice, the third argument is the shape of the resulting matrix\n",
    "\n",
    "plt.figure(figsize=(5, 4))\n",
    "sns.heatmap(confusion_mtx, xticklabels=L, yticklabels=L, \n",
    "            annot=True, fmt='g')\n",
    "plt.xlabel('Prediction')\n",
    "plt.ylabel('Label')\n",
    "plt.title(\"Confusion Matrix of CNN\")\n",
    "plt.savefig(confusion_mat_image, bbox_inches='tight')\n",
    "plt.show()"
   ]
  },
  {
   "attachments": {},
   "cell_type": "markdown",
   "metadata": {},
   "source": [
    "### Predict a sample"
   ]
  },
  {
   "cell_type": "code",
   "execution_count": null,
   "metadata": {
    "ExecuteTime": {
     "end_time": "2021-02-21T11:26:34.589103Z",
     "start_time": "2021-02-21T11:26:34.539585Z"
    }
   },
   "outputs": [],
   "source": [
    "from cnn_acoustics_lib import predict\n",
    "# make a prediction on a sample\n",
    "X = X_test[65]\n",
    "y = y_test[65]\n",
    "predict(model, X, y)"
   ]
  },
  {
   "attachments": {},
   "cell_type": "markdown",
   "metadata": {},
   "source": [
    "### Save the model"
   ]
  },
  {
   "cell_type": "code",
   "execution_count": null,
   "metadata": {
    "ExecuteTime": {
     "end_time": "2021-02-21T13:27:17.757211Z",
     "start_time": "2021-02-21T13:27:15.532923Z"
    }
   },
   "outputs": [],
   "source": [
    "# save the entire model\n",
    "model.save('saved_model/FinalCnnModel6_2')"
   ]
  }
 ],
 "metadata": {
  "kernelspec": {
   "display_name": "Python 3.11.0 ('mammal-env': venv)",
   "language": "python",
   "name": "python3"
  },
  "language_info": {
   "codemirror_mode": {
    "name": "ipython",
    "version": 3
   },
   "file_extension": ".py",
   "mimetype": "text/x-python",
   "name": "python",
   "nbconvert_exporter": "python",
   "pygments_lexer": "ipython3",
   "version": "3.9.6"
  },
  "varInspector": {
   "cols": {
    "lenName": 16,
    "lenType": 16,
    "lenVar": 40
   },
   "kernels_config": {
    "python": {
     "delete_cmd_postfix": "",
     "delete_cmd_prefix": "del ",
     "library": "var_list.py",
     "varRefreshCmd": "print(var_dic_list())"
    },
    "r": {
     "delete_cmd_postfix": ") ",
     "delete_cmd_prefix": "rm(",
     "library": "var_list.r",
     "varRefreshCmd": "cat(var_dic_list()) "
    }
   },
   "types_to_exclude": [
    "module",
    "function",
    "builtin_function_or_method",
    "instance",
    "_Feature"
   ],
   "window_display": false
  },
  "vscode": {
   "interpreter": {
    "hash": "34ef32b04849682084fce80155c31b950d6cde80e98fb8c6edf1d39bac8ab09b"
   }
  }
 },
 "nbformat": 4,
 "nbformat_minor": 4
}
