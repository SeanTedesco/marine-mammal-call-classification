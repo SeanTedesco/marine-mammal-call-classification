{
 "cells": [
  {
   "attachments": {},
   "cell_type": "markdown",
   "metadata": {},
   "source": [
    "### User Input"
   ]
  },
  {
   "cell_type": "code",
   "execution_count": null,
   "metadata": {},
   "outputs": [],
   "source": [
    "training_data_path = \"../data_training/\""
   ]
  },
  {
   "attachments": {},
   "cell_type": "markdown",
   "metadata": {},
   "source": [
    "### Imports"
   ]
  },
  {
   "cell_type": "code",
   "execution_count": null,
   "metadata": {},
   "outputs": [],
   "source": [
    "import pandas as pd\n",
    "import numpy as np\n",
    "%matplotlib inline\n",
    "import seaborn as sns\n",
    "import matplotlib.pyplot as plt\n",
    "import warnings\n",
    "import matplotlib.cbook\n",
    "import IPython.display as ipd\n",
    "import os\n",
    "import pathlib \n",
    "import librosa\n",
    "import librosa.display\n",
    "import scipy.io.wavfile as wav\n",
    "import scipy.signal as signal\n",
    "\n",
    "import os \n",
    "import scipy\n",
    "from scipy.io import wavfile\n",
    "from scipy.fftpack import fft\n"
   ]
  },
  {
   "attachments": {},
   "cell_type": "markdown",
   "metadata": {},
   "source": [
    "### Plot Settings"
   ]
  },
  {
   "cell_type": "code",
   "execution_count": null,
   "metadata": {
    "ExecuteTime": {
     "end_time": "2020-12-03T23:33:19.259260Z",
     "start_time": "2020-12-03T23:33:19.244982Z"
    }
   },
   "outputs": [],
   "source": [
    "# color default\n",
    "CB91_Blue = '#2CBDFE'\n",
    "CB91_Green = '#47DBCD'\n",
    "CB91_Pink = '#F3A0F2'\n",
    "CB91_Purple = '#9D2EC5'\n",
    "CB91_Violet = '#661D98'\n",
    "CB91_Amber = '#F5B14C'\n",
    "color_list = [CB91_Blue, CB91_Green, CB91_Pink, CB91_Purple, CB91_Violet, CB91_Amber]\n",
    "\n",
    "# matplotlib settings\n",
    "plt.style.use('ggplot')\n",
    "plt.rcParams['axes.prop_cycle'] = plt.cycler(color=color_list)\n",
    "plt.rcParams.update({'font.size': 22})\n",
    "plt.rcParams['figure.facecolor'] = 'black'\n",
    "plt.rcParams['text.color'] = 'white'\n",
    "\n",
    "# seaborn settings\n",
    "sns.set(style='ticks')\n",
    "\n",
    "# warnings settings\n",
    "warnings.simplefilter(action='ignore', category=FutureWarning)\n",
    "warnings.filterwarnings(\"ignore\",category=matplotlib.MatplotlibDeprecationWarning)\n",
    "\n",
    "# pandas settings\n",
    "pd.options.display.max_columns = 500\n",
    "pd.options.display.max_rows = 500"
   ]
  },
  {
   "attachments": {},
   "cell_type": "markdown",
   "metadata": {},
   "source": [
    "### Generate Images of Signal over Time"
   ]
  },
  {
   "cell_type": "code",
   "execution_count": null,
   "metadata": {},
   "outputs": [],
   "source": [
    "path_to_raw_data = \"../data_augmented\"\n",
    "mammal_names = ['HumpbackWhale', 'Walrus', 'BowheadWhale', 'Fin_FinbackWhale', 'KillerWhale', 'EmptyOcean']\n",
    "\n",
    "for mammal_name in mammal_names:\n",
    "    data_path = path_to_raw_data + \"/\" + mammal_name + \"/\"\n",
    "\n",
    "    print(f\"processing {mammal_name}\")\n",
    "    for i, (dirpath, dirnames, filenames) in enumerate(os.walk(data_path)):\n",
    "\n",
    "        os.makedirs(\"../images/\" + mammal_name + \"/\" + \"time/\", exist_ok=True)\n",
    "        \n",
    "        for wav_file in filenames:\n",
    "            audio_file = os.path.join(dirpath, wav_file)\n",
    "            print(f\"processing file {audio_file}\")\n",
    "            fs, audio_data = wavfile.read(audio_file)\n",
    "            plt.plot(audio_data)\n",
    "            plt.title('Raw Audio Signal in Time',size=16)\n",
    "            plt.xlabel('Time (s)')\n",
    "            plt.ylabel('Amplitude')\n",
    "            figure_name = \"../images/\" + mammal_name + \"/\" + \"time/\" + wav_file[:-4] \n",
    "            plt.savefig(f'{figure_name}.png')\n",
    "            plt.clf()"
   ]
  },
  {
   "attachments": {},
   "cell_type": "markdown",
   "metadata": {},
   "source": [
    "### Generate Images of Signal over Frequency"
   ]
  },
  {
   "cell_type": "code",
   "execution_count": null,
   "metadata": {},
   "outputs": [],
   "source": [
    "path_to_raw_data = \"../data_augmented\"\n",
    "mammal_names = ['HumpbackWhale', 'Walrus', 'BowheadWhale', 'Fin_FinbackWhale', 'KillerWhale', 'EmptyOcean']\n",
    "\n",
    "for mammal_name in mammal_names:\n",
    "    data_path = path_to_raw_data + \"/\" + mammal_name + \"/\"\n",
    "\n",
    "    print(f\"processing {mammal_name}\")\n",
    "    for i, (dirpath, dirnames, filenames) in enumerate(os.walk(data_path)):\n",
    "\n",
    "        os.makedirs(\"../images/\" + mammal_name + \"/\" + \"frequency/\", exist_ok=True)\n",
    "        \n",
    "        for wav_file in filenames:\n",
    "            audio_file = os.path.join(dirpath, wav_file)\n",
    "            print(f\"processing file {audio_file}\")\n",
    "            fs, audio_data = wavfile.read(audio_file)\n",
    "\n",
    "            audio_file_len = len(audio_file) \n",
    "            audio_freq = fft(audio_data)\n",
    "            audio_freq = audio_freq[0:int(np.ceil((audio_file_len+1)/2.0))] # half of the spectrum\n",
    "            freq_magnitude = np.abs(audio_freq) # magnitude\n",
    "            freq_magnitude = freq_magnitude / float(audio_file_len)\n",
    "            # power spectrum\n",
    "            freq_magnitude = freq_magnitude**2\n",
    "            if audio_file_len % 2 > 0: # ffte odd \n",
    "                freq_magnitude[1:len(freq_magnitude)] = freq_magnitude[1:len(freq_magnitude)] * 2\n",
    "            else:# fft even\n",
    "                freq_magnitude[1:len(freq_magnitude) -1] = freq_magnitude[1:len(freq_magnitude) - 1] * 2 \n",
    "\n",
    "            freqAxis = np.arange(0,int(np.ceil((audio_file_len+1)/2.0)), 1.0) * (fs / audio_file_len)\n",
    "            plt.plot(freqAxis/1000.0, 10*np.log10(freq_magnitude)) # power spectrum\n",
    "            plt.title('Audio Signal in Frequency',size=16)\n",
    "            plt.xlabel('Frequency (kHz)')\n",
    "            plt.ylabel('Power Spectrum (dB)')\n",
    "            figure_name = \"../images/\" + mammal_name + \"/\" + \"frequency/\" + wav_file[:-4] \n",
    "            plt.savefig(f'{figure_name}.png')\n",
    "            plt.clf()"
   ]
  },
  {
   "attachments": {},
   "cell_type": "markdown",
   "metadata": {},
   "source": [
    "### Generate Images of Spectrograms"
   ]
  },
  {
   "cell_type": "code",
   "execution_count": null,
   "metadata": {},
   "outputs": [],
   "source": [
    "path_to_raw_data = \"../data_marine_raw\"\n",
    "mammal_names = ['HumpbackWhale', 'Walrus', 'BowheadWhale', 'Fin_FinbackWhale', 'KillerWhale', 'EmptyOcean']\n",
    "columns= len(mammal_names)\n",
    "fig, ax = plt.subplots(2,1,figsize=(22,17))\n",
    "\n",
    "for mammal_name in mammal_names:\n",
    "    data_path = path_to_raw_data + \"/\" + mammal_name + \"/\"\n",
    "    max_frequencies_list = []\n",
    "    print(f\"processing {mammal_name}\")\n",
    "    os.makedirs(\"../images/\" + mammal_name + \"/\" + \"spectrograms/\", exist_ok=True)\n",
    "    for i, (dirpath, dirnames, filenames) in enumerate(os.walk(data_path)):\n",
    "        c = 0\n",
    "\n",
    "        for wav_file in filenames:\n",
    "            audio_file = os.path.join(dirpath, wav_file)\n",
    "            print(f\"processing file {audio_file}\")\n",
    "            rate, data = wavfile.read(audio_file)\n",
    "            f, t, Sxx = signal.spectrogram(data, fs=rate, nperseg=512, nfft=2048)\n",
    "            d = 20*np.log10(Sxx+1e-10)\n",
    "            ax[c].pcolormesh(t,f,d, vmin=-1e1,vmax=d.max())\n",
    "            ax[c].set_title(mammal_name, fontsize=20)\n",
    "            if not c:\n",
    "                ax[c].set_xlabel(\"time\")\n",
    "                ax[c].set_ylabel(\"frequency\")\n",
    "            else: ax[c].axis(\"off\")\n",
    "            \n",
    "            norm_data = (data -data.mean())/data.std()\n",
    "            ax[c+1].plot(norm_data,lw=0.03)\n",
    "            ax[c+1].axis(\"off\") \n",
    "\n",
    "            plt.subplots_adjust(wspace=0.05, hspace=0.1)\n",
    "            figure_name = \"../images/\" + mammal_name + \"/\" + \"spectrograms/\" + wav_file[:-4] \n",
    "            plt.savefig(f'{figure_name}.png')\n",
    "            ax[0].clear()\n",
    "            ax[1].clear()\n",
    "\n"
   ]
  },
  {
   "attachments": {},
   "cell_type": "markdown",
   "metadata": {},
   "source": [
    "### Generate Plots of Highest Audible Frequency for a Mammal Call"
   ]
  },
  {
   "cell_type": "code",
   "execution_count": null,
   "metadata": {},
   "outputs": [],
   "source": [
    "path_to_raw_data = \"../data_augmented\"\n",
    "mammal_names = ['HumpbackWhale', 'Walrus', 'BowheadWhale', 'Fin_FinbackWhale', 'KillerWhale', 'EmptyOcean']\n",
    "max_frequencies_dict = dict()\n",
    "\n",
    "for mammal_name in mammal_names:\n",
    "    data_path = path_to_raw_data + \"/\" + mammal_name + \"/\"\n",
    "    max_frequencies_list = []\n",
    "    print(f\"processing {mammal_name}\")\n",
    "    for i, (dirpath, dirnames, filenames) in enumerate(os.walk(data_path)):\n",
    "\n",
    "        for wav_file in filenames:\n",
    "            audio_file = os.path.join(dirpath, wav_file)\n",
    "            print(f\"processing file {audio_file}\")\n",
    "            fs, audio_data = wavfile.read(audio_file)\n",
    "\n",
    "            l_audio = len(audio_data.shape)\n",
    "            N = audio_data.shape[0]\n",
    "            secs = N / float(fs)\n",
    "            Ts = 1.0/fs \n",
    "            t = np.arange(0, secs, Ts) \n",
    "            FFT = abs(scipy.fft.fft(audio_data))\n",
    "            FFT_side = FFT[range(N//2)] \n",
    "            freqs = scipy.fftpack.fftfreq(audio_data.size, t[1]-t[0])\n",
    "            fft_freqs = np.array(freqs)\n",
    "            freqs_side = freqs[range(N//2)] \n",
    "            fft_freqs_side = np.array(freqs_side)\n",
    "\n",
    "            volume=np.array(abs(FFT_side))\n",
    "            audible=np.where(volume>5)\n",
    "\n",
    "            HighestAudibleFrequency=max(freqs_side[audible])\n",
    "            max_frequencies_list.append(HighestAudibleFrequency)\n",
    "    max_frequencies_dict[mammal_name] = max_frequencies_list\n",
    "\n",
    "for mammal, freqs in max_frequencies_dict.items(): \n",
    "    plt.plot(freqs)\n",
    "    plt.title('Maximum Frequencies in Mammal Call',size=16)\n",
    "    plt.xlabel('Mammal Call Number')\n",
    "    plt.ylabel('Frequency (Hz)')\n",
    "    figure_name = \"../images/\" + mammal + \"/\" + \"max_frequencies\"\n",
    "    plt.savefig(f'{figure_name}.png')\n",
    "    plt.clf()"
   ]
  }
 ],
 "metadata": {
  "kernelspec": {
   "display_name": "mammal-venv",
   "language": "python",
   "name": "python3"
  },
  "language_info": {
   "codemirror_mode": {
    "name": "ipython",
    "version": 3
   },
   "file_extension": ".py",
   "mimetype": "text/x-python",
   "name": "python",
   "nbconvert_exporter": "python",
   "pygments_lexer": "ipython3",
   "version": "3.9.6 (default, Oct 18 2022, 12:41:40) \n[Clang 14.0.0 (clang-1400.0.29.202)]"
  },
  "varInspector": {
   "cols": {
    "lenName": 16,
    "lenType": 16,
    "lenVar": 40
   },
   "kernels_config": {
    "python": {
     "delete_cmd_postfix": "",
     "delete_cmd_prefix": "del ",
     "library": "var_list.py",
     "varRefreshCmd": "print(var_dic_list())"
    },
    "r": {
     "delete_cmd_postfix": ") ",
     "delete_cmd_prefix": "rm(",
     "library": "var_list.r",
     "varRefreshCmd": "cat(var_dic_list()) "
    }
   },
   "types_to_exclude": [
    "module",
    "function",
    "builtin_function_or_method",
    "instance",
    "_Feature"
   ],
   "window_display": false
  },
  "vscode": {
   "interpreter": {
    "hash": "c97c558dc638cdc67fa37b8cfa9525ef9b501ca9e8390da302e007edd8839b69"
   }
  }
 },
 "nbformat": 4,
 "nbformat_minor": 4
}
