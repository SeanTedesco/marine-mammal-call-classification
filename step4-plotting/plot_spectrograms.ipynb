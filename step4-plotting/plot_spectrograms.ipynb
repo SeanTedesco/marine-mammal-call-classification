{
 "cells": [
  {
   "attachments": {},
   "cell_type": "markdown",
   "metadata": {},
   "source": [
    "### User Input"
   ]
  },
  {
   "cell_type": "code",
   "execution_count": 1,
   "metadata": {},
   "outputs": [],
   "source": [
    "training_data_path = \"../data_training/\""
   ]
  },
  {
   "attachments": {},
   "cell_type": "markdown",
   "metadata": {},
   "source": [
    "### Imports"
   ]
  },
  {
   "cell_type": "code",
   "execution_count": 2,
   "metadata": {},
   "outputs": [],
   "source": [
    "import pandas as pd\n",
    "import numpy as np\n",
    "%matplotlib inline\n",
    "import seaborn as sns\n",
    "import matplotlib.pyplot as plt\n",
    "import warnings\n",
    "import matplotlib.cbook\n",
    "import IPython.display as ipd\n",
    "import os\n",
    "import pathlib \n",
    "import librosa\n",
    "import librosa.display\n",
    "import scipy.io.wavfile as wav\n",
    "import scipy.signal as signal"
   ]
  },
  {
   "attachments": {},
   "cell_type": "markdown",
   "metadata": {},
   "source": [
    "### Plot Settings"
   ]
  },
  {
   "cell_type": "code",
   "execution_count": 3,
   "metadata": {
    "ExecuteTime": {
     "end_time": "2020-12-03T23:33:19.259260Z",
     "start_time": "2020-12-03T23:33:19.244982Z"
    }
   },
   "outputs": [
    {
     "name": "stderr",
     "output_type": "stream",
     "text": [
      "/var/folders/58/5z667b6s1gg4bds1bzj3sw580000gn/T/ipykernel_61775/1054233728.py:22: MatplotlibDeprecationWarning: mplDeprecation was deprecated in Matplotlib 3.6 and will be removed two minor releases later. Use matplotlib.MatplotlibDeprecationWarning instead.\n",
      "  warnings.filterwarnings(\"ignore\",category=matplotlib.cbook.mplDeprecation)\n"
     ]
    }
   ],
   "source": [
    "# color default\n",
    "CB91_Blue = '#2CBDFE'\n",
    "CB91_Green = '#47DBCD'\n",
    "CB91_Pink = '#F3A0F2'\n",
    "CB91_Purple = '#9D2EC5'\n",
    "CB91_Violet = '#661D98'\n",
    "CB91_Amber = '#F5B14C'\n",
    "color_list = [CB91_Blue, CB91_Green, CB91_Pink, CB91_Purple, CB91_Violet, CB91_Amber]\n",
    "\n",
    "# matplotlib settings\n",
    "plt.style.use('ggplot')\n",
    "plt.rcParams['axes.prop_cycle'] = plt.cycler(color=color_list)\n",
    "plt.rcParams.update({'font.size': 22})\n",
    "plt.rcParams['figure.facecolor'] = 'black'\n",
    "plt.rcParams['text.color'] = 'white'\n",
    "\n",
    "# seaborn settings\n",
    "sns.set(style='ticks')\n",
    "\n",
    "# warnings settings\n",
    "warnings.simplefilter(action='ignore', category=FutureWarning)\n",
    "warnings.filterwarnings(\"ignore\",category=matplotlib.cbook.mplDeprecation)\n",
    "\n",
    "# pandas settings\n",
    "pd.options.display.max_columns = 500\n",
    "pd.options.display.max_rows = 500"
   ]
  },
  {
   "attachments": {},
   "cell_type": "markdown",
   "metadata": {},
   "source": [
    "### Helper Functions"
   ]
  },
  {
   "cell_type": "code",
   "execution_count": 4,
   "metadata": {
    "ExecuteTime": {
     "end_time": "2020-12-03T23:27:55.671067Z",
     "start_time": "2020-12-03T23:27:55.668144Z"
    }
   },
   "outputs": [],
   "source": [
    "def remove_grid_lines(axs):\n",
    "    \"\"\"Remove the default grid lines from a collection of axies.\"\"\"\n",
    "    for ax in axs.flatten():\n",
    "        ax.grid(False)"
   ]
  },
  {
   "attachments": {},
   "cell_type": "markdown",
   "metadata": {},
   "source": [
    "### Extract Training Audio and Labels"
   ]
  },
  {
   "cell_type": "code",
   "execution_count": 6,
   "metadata": {
    "ExecuteTime": {
     "end_time": "2020-12-03T23:28:00.407510Z",
     "start_time": "2020-12-03T23:27:55.678728Z"
    }
   },
   "outputs": [],
   "source": [
    "# loop through all the animals\n",
    "\n",
    "labels = []\n",
    "audio = []\n",
    "files = []\n",
    "\n",
    "for i, (dirpath, dirnames, filenames) in enumerate(os.walk(training_data_path)):\n",
    "        \n",
    "    # ensure that we're not at the root level\n",
    "    if dirpath is not training_data_path:\n",
    "            \n",
    "        # save the semantic label\n",
    "        dirpath_components = dirpath.split(\"/\") # genre/blues => ['genre', 'blues']\n",
    "        semantic_label = dirpath_components[-1]\n",
    "        if semantic_label not in ('.ipynb_checkpoints'):\n",
    "            labels.append(semantic_label)\n",
    "            \n",
    "            \n",
    "        # process files for a specific genre\n",
    "        for f in filenames:\n",
    "            files.append(f)\n",
    "                \n",
    "            # load the audio file\n",
    "            file_path = os.path.join(dirpath, f)\n",
    "            sig, sr = librosa.load(file_path, sr=22050)\n",
    "            audio.append(sig)"
   ]
  },
  {
   "attachments": {},
   "cell_type": "markdown",
   "metadata": {},
   "source": [
    "### Inspect Labels and Audio"
   ]
  },
  {
   "cell_type": "code",
   "execution_count": null,
   "metadata": {
    "ExecuteTime": {
     "end_time": "2020-12-03T23:28:00.417488Z",
     "start_time": "2020-12-03T23:28:00.411656Z"
    },
    "scrolled": true
   },
   "outputs": [],
   "source": [
    "labels"
   ]
  },
  {
   "cell_type": "code",
   "execution_count": null,
   "metadata": {
    "ExecuteTime": {
     "end_time": "2020-12-03T23:28:00.462726Z",
     "start_time": "2020-12-03T23:28:00.429877Z"
    }
   },
   "outputs": [],
   "source": [
    "ipd.Audio(audio[6], rate=22050)"
   ]
  },
  {
   "cell_type": "code",
   "execution_count": null,
   "metadata": {
    "ExecuteTime": {
     "end_time": "2020-12-03T23:28:00.470808Z",
     "start_time": "2020-12-03T23:28:00.465961Z"
    }
   },
   "outputs": [],
   "source": [
    "n_samples = audio[6].shape[0]\n",
    "print(f\"Audio Clip has {n_samples} samples\")"
   ]
  },
  {
   "cell_type": "code",
   "execution_count": 5,
   "metadata": {
    "ExecuteTime": {
     "end_time": "2020-12-03T23:28:00.478744Z",
     "start_time": "2020-12-03T23:28:00.473789Z"
    },
    "scrolled": true
   },
   "outputs": [
    {
     "ename": "NameError",
     "evalue": "name 'files' is not defined",
     "output_type": "error",
     "traceback": [
      "\u001b[0;31m---------------------------------------------------------------------------\u001b[0m",
      "\u001b[0;31mNameError\u001b[0m                                 Traceback (most recent call last)",
      "Cell \u001b[0;32mIn[5], line 1\u001b[0m\n\u001b[0;32m----> 1\u001b[0m files\n",
      "\u001b[0;31mNameError\u001b[0m: name 'files' is not defined"
     ]
    }
   ],
   "source": [
    "files"
   ]
  },
  {
   "attachments": {},
   "cell_type": "markdown",
   "metadata": {},
   "source": [
    "### Plot Spectrograms "
   ]
  },
  {
   "cell_type": "code",
   "execution_count": null,
   "metadata": {
    "ExecuteTime": {
     "end_time": "2020-12-04T00:22:35.153535Z",
     "start_time": "2020-12-04T00:22:19.328773Z"
    },
    "scrolled": false
   },
   "outputs": [],
   "source": [
    "\n",
    "columns= len(labels)\n",
    "fig, ax = plt.subplots(int(np.ceil(len(files)/columns))*2,columns,figsize=(22,17))\n",
    "fig.suptitle(\"Frequency Spectrum & Oscillogram\", x=0.5, y=0.91, fontsize=16)\n",
    "\n",
    "for idx, file in enumerate(files):\n",
    "    r,c = idx//columns*2, idx%columns\n",
    "    rate, data = wav.read(path_name + \"{}\".format(file))\n",
    "    f, t, Sxx = signal.spectrogram(data, fs=rate, nperseg=512, nfft=2048)\n",
    "    d = 20*np.log10(Sxx+1e-10)\n",
    "    ax[r,c].pcolormesh(t,f,d, vmin=-1e1,vmax=d.max())\n",
    "    ax[r,c].set_title(file, fontsize=20);\n",
    "    if not c and not r:\n",
    "        ax[r,c].set_xlabel(\"time\")\n",
    "        ax[r,c].set_ylabel(\"frequency\");\n",
    "        ax[r,c].set_xticks([])\n",
    "        ax[r,c].set_frame_on(False)\n",
    "        ax[r,c].set_yticks([])\n",
    "    else: ax[r,c].axis(\"off\")\n",
    "    \n",
    "    norm_data = (data -data.mean())/data.std()\n",
    "    ax[r+1,c].plot(norm_data,lw=0.03)\n",
    "    ax[r+1,c].axis(\"off\") \n",
    "\n",
    "plt.subplots_adjust(wspace=0.05, hspace=0.1)\n",
    "#plt.savefig(\"../images/Spectro_Oscilo2.png\", bbox_inches='tight')"
   ]
  }
 ],
 "metadata": {
  "kernelspec": {
   "display_name": "Python 3.9.6 ('mammal-env': venv)",
   "language": "python",
   "name": "python3"
  },
  "language_info": {
   "codemirror_mode": {
    "name": "ipython",
    "version": 3
   },
   "file_extension": ".py",
   "mimetype": "text/x-python",
   "name": "python",
   "nbconvert_exporter": "python",
   "pygments_lexer": "ipython3",
   "version": "3.9.6"
  },
  "varInspector": {
   "cols": {
    "lenName": 16,
    "lenType": 16,
    "lenVar": 40
   },
   "kernels_config": {
    "python": {
     "delete_cmd_postfix": "",
     "delete_cmd_prefix": "del ",
     "library": "var_list.py",
     "varRefreshCmd": "print(var_dic_list())"
    },
    "r": {
     "delete_cmd_postfix": ") ",
     "delete_cmd_prefix": "rm(",
     "library": "var_list.r",
     "varRefreshCmd": "cat(var_dic_list()) "
    }
   },
   "types_to_exclude": [
    "module",
    "function",
    "builtin_function_or_method",
    "instance",
    "_Feature"
   ],
   "window_display": false
  },
  "vscode": {
   "interpreter": {
    "hash": "34ef32b04849682084fce80155c31b950d6cde80e98fb8c6edf1d39bac8ab09b"
   }
  }
 },
 "nbformat": 4,
 "nbformat_minor": 4
}
