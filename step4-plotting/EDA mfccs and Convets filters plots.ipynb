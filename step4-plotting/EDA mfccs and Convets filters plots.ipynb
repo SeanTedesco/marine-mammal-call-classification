{
 "cells": [
  {
   "cell_type": "code",
   "execution_count": null,
   "metadata": {
    "ExecuteTime": {
     "end_time": "2020-12-04T22:27:40.472325Z",
     "start_time": "2020-12-04T22:27:39.112363Z"
    }
   },
   "outputs": [],
   "source": [
    "import pandas as pd\n",
    "import numpy as np\n",
    "%matplotlib inline\n",
    "import seaborn as sns\n",
    "import matplotlib.pyplot as plt\n",
    "plt.style.use('ggplot')\n",
    "sns.set(style='ticks')\n",
    "# pandas defaults\n",
    "import warnings\n",
    "warnings.simplefilter(action='ignore', category=FutureWarning)\n",
    "pd.options.display.max_columns = 500\n",
    "pd.options.display.max_rows = 500\n",
    "# color default\n",
    "CB91_Blue = '#2CBDFE'\n",
    "CB91_Green = '#47DBCD'\n",
    "CB91_Pink = '#F3A0F2'\n",
    "CB91_Purple = '#9D2EC5'\n",
    "CB91_Violet = '#661D98'\n",
    "CB91_Amber = '#F5B14C'\n",
    "color_list = [CB91_Blue, CB91_Green, CB91_Pink, CB91_Purple, CB91_Violet, CB91_Amber]\n",
    "plt.rcParams['axes.prop_cycle'] = plt.cycler(color=color_list)"
   ]
  },
  {
   "cell_type": "code",
   "execution_count": null,
   "metadata": {
    "ExecuteTime": {
     "end_time": "2020-12-04T22:27:40.478212Z",
     "start_time": "2020-12-04T22:27:40.475362Z"
    }
   },
   "outputs": [],
   "source": [
    "import IPython.display as ipd\n",
    "import os\n",
    "import pathlib "
   ]
  },
  {
   "cell_type": "code",
   "execution_count": null,
   "metadata": {
    "ExecuteTime": {
     "end_time": "2020-12-04T22:27:41.806797Z",
     "start_time": "2020-12-04T22:27:40.480052Z"
    }
   },
   "outputs": [],
   "source": [
    "import librosa\n",
    "import librosa.display"
   ]
  },
  {
   "cell_type": "code",
   "execution_count": null,
   "metadata": {
    "ExecuteTime": {
     "end_time": "2020-12-04T22:27:41.811279Z",
     "start_time": "2020-12-04T22:27:41.808081Z"
    }
   },
   "outputs": [],
   "source": [
    "def remove_grid_lines(axs):\n",
    "    \"\"\"Remove the default grid lines from a collection of axies.\"\"\"\n",
    "    for ax in axs.flatten():\n",
    "        ax.grid(False)"
   ]
  },
  {
   "cell_type": "code",
   "execution_count": null,
   "metadata": {
    "ExecuteTime": {
     "end_time": "2020-12-04T22:27:41.815129Z",
     "start_time": "2020-12-04T22:27:41.812955Z"
    }
   },
   "outputs": [],
   "source": [
    "# load an audio file\n",
    "audio_file = \"audio/test_sounds/HB_and_Sperm/humpback whale1-Copy1.wav\""
   ]
  },
  {
   "cell_type": "code",
   "execution_count": null,
   "metadata": {
    "ExecuteTime": {
     "end_time": "2020-12-04T22:27:41.819364Z",
     "start_time": "2020-12-04T22:27:41.816733Z"
    }
   },
   "outputs": [],
   "source": [
    "# ipd.Audio(audio_file)"
   ]
  },
  {
   "cell_type": "code",
   "execution_count": null,
   "metadata": {
    "ExecuteTime": {
     "end_time": "2020-12-04T22:27:41.826506Z",
     "start_time": "2020-12-04T22:27:41.824590Z"
    }
   },
   "outputs": [],
   "source": [
    "# audio[0].shape"
   ]
  },
  {
   "cell_type": "code",
   "execution_count": null,
   "metadata": {
    "ExecuteTime": {
     "end_time": "2020-12-04T22:27:42.027243Z",
     "start_time": "2020-12-04T22:27:41.829661Z"
    }
   },
   "outputs": [],
   "source": [
    "# extract MFCCs\n",
    "mfccs = librosa.feature.mfcc(signal, n_mfcc=13, sr=sr)"
   ]
  },
  {
   "cell_type": "code",
   "execution_count": null,
   "metadata": {
    "ExecuteTime": {
     "end_time": "2020-12-04T22:27:42.034225Z",
     "start_time": "2020-12-04T22:27:39.101Z"
    }
   },
   "outputs": [],
   "source": [
    "mfccs.shape"
   ]
  },
  {
   "cell_type": "code",
   "execution_count": null,
   "metadata": {
    "ExecuteTime": {
     "end_time": "2020-12-04T22:27:58.607494Z",
     "start_time": "2020-12-04T22:27:58.592935Z"
    }
   },
   "outputs": [],
   "source": [
    "# Visualize MFCCs\n",
    "plt.figure(figsize=(6,6))\n",
    "\n",
    "\n",
    "librosa.display.specshow(mfccs,\n",
    "                        x_axis=\"time\",\n",
    "                        sr=sr)\n",
    "plt.title('Extracing (MFCCs) Humpback Whale')\n",
    "plt.colorbar(format=\"%+2f\")\n",
    "plt.savefig(\"images/extractMFCCsHumpback3.png\", bbox_inches='tight')\n",
    "plt.show();"
   ]
  },
  {
   "cell_type": "code",
   "execution_count": null,
   "metadata": {
    "ExecuteTime": {
     "end_time": "2020-12-04T22:27:42.036288Z",
     "start_time": "2020-12-04T22:27:39.104Z"
    }
   },
   "outputs": [],
   "source": [
    "# Calculate delta and delta2 MFCCs\n",
    "delta_mfccs = librosa.feature.delta(mfccs)\n",
    "delta2_mfccs = librosa.feature.delta(mfccs, order=2)"
   ]
  },
  {
   "cell_type": "code",
   "execution_count": null,
   "metadata": {
    "ExecuteTime": {
     "end_time": "2020-12-04T22:27:42.037754Z",
     "start_time": "2020-12-04T22:27:39.106Z"
    }
   },
   "outputs": [],
   "source": [
    "delta_mfccs.shape"
   ]
  },
  {
   "cell_type": "code",
   "execution_count": null,
   "metadata": {
    "ExecuteTime": {
     "end_time": "2020-12-04T22:27:42.039252Z",
     "start_time": "2020-12-04T22:27:39.108Z"
    }
   },
   "outputs": [],
   "source": [
    "# Visualize MFCCs delta\n",
    "plt.figure(figsize=(25,10))\n",
    "librosa.display.specshow(delta_mfccs,\n",
    "                        x_axis=\"time\",\n",
    "                        sr=sr)\n",
    "\n",
    "plt.colorbar(format=\"%+2f\")\n",
    "plt.show();"
   ]
  },
  {
   "cell_type": "code",
   "execution_count": null,
   "metadata": {
    "ExecuteTime": {
     "end_time": "2020-12-04T22:27:42.040788Z",
     "start_time": "2020-12-04T22:27:39.110Z"
    }
   },
   "outputs": [],
   "source": [
    "# Visualize MFCCs delta2\n",
    "plt.figure(figsize=(25,10))\n",
    "librosa.display.specshow(delta2_mfccs,\n",
    "                        x_axis=\"time\",\n",
    "                        sr=sr)\n",
    "\n",
    "plt.colorbar(format=\"%+2f\")\n",
    "plt.show();"
   ]
  },
  {
   "cell_type": "code",
   "execution_count": null,
   "metadata": {
    "ExecuteTime": {
     "end_time": "2020-12-04T22:27:42.042028Z",
     "start_time": "2020-12-04T22:27:39.112Z"
    }
   },
   "outputs": [],
   "source": [
    "comprehensive_mfccs = np.concatenate((mfccs, delta_mfccs, delta2_mfccs))"
   ]
  },
  {
   "cell_type": "code",
   "execution_count": null,
   "metadata": {
    "ExecuteTime": {
     "end_time": "2020-12-04T22:27:42.043217Z",
     "start_time": "2020-12-04T22:27:39.114Z"
    }
   },
   "outputs": [],
   "source": [
    "comprehensive_mfccs.shape"
   ]
  },
  {
   "cell_type": "code",
   "execution_count": null,
   "metadata": {
    "ExecuteTime": {
     "end_time": "2020-12-04T22:28:16.718959Z",
     "start_time": "2020-12-04T22:28:16.707659Z"
    }
   },
   "outputs": [],
   "source": [
    "with open(\"plotmfcc.json\", \"r\") as fp:\n",
    "    data = json.load(fp)\n",
    "    X = data['mfcc']"
   ]
  },
  {
   "cell_type": "code",
   "execution_count": null,
   "metadata": {
    "ExecuteTime": {
     "end_time": "2020-12-04T22:28:25.760501Z",
     "start_time": "2020-12-04T22:28:25.754431Z"
    }
   },
   "outputs": [],
   "source": [
    "mfccstest = np.array(X)\n",
    "\n",
    "mfccstest.T[0].shape"
   ]
  },
  {
   "cell_type": "markdown",
   "metadata": {},
   "source": [
    "# Plot one of 10 mfccs from file"
   ]
  },
  {
   "cell_type": "code",
   "execution_count": null,
   "metadata": {
    "ExecuteTime": {
     "end_time": "2020-12-04T22:28:25.776228Z",
     "start_time": "2020-12-04T22:28:25.763328Z"
    },
    "scrolled": false
   },
   "outputs": [],
   "source": [
    "# Visualize MFCCs\n",
    "plt.figure(figsize=(25,10))\n",
    "librosa.display.specshow(mfccstest[3].T,\n",
    "                        x_axis=\"time\",\n",
    "                        sr=sr)\n",
    "\n",
    "plt.colorbar(format=\"%+2f\")\n",
    "plt.show();"
   ]
  },
  {
   "cell_type": "markdown",
   "metadata": {},
   "source": [
    "# Plot the Extracted MFCCs , the 10 segments on one fig"
   ]
  },
  {
   "cell_type": "code",
   "execution_count": null,
   "metadata": {
    "ExecuteTime": {
     "end_time": "2020-12-04T22:28:25.779025Z",
     "start_time": "2020-12-04T22:28:25.755Z"
    },
    "scrolled": false
   },
   "outputs": [],
   "source": [
    "nrow = 2; ncol = 5;\n",
    "fig, axs = plt.subplots(nrows=nrow, ncols=ncol, figsize=(17,8))\n",
    "fig.subplots_adjust(hspace=0.5)\n",
    "fig.suptitle('Extracing Mel-frequency cepstral coefficients (MFCCs) Humpback Whale')\n",
    "\n",
    "for i, ax in enumerate(axs.flatten()):\n",
    "    img = librosa.display.specshow(mfccstest[i].T,\n",
    "                        x_axis=\"time\",\n",
    "                        sr=sr, ax=ax)\n",
    "    \n",
    "    ax.set(title=f\"MFCC Segment_{i}\", xlabel='Time', ylabel='Coefs')\n",
    "\n",
    "fig.subplots_adjust(right=0.8)\n",
    "cbar_ax = fig.add_axes([0.85, 0.15, 0.05, 0.7])\n",
    "fig.colorbar(img, cax=cbar_ax, format=\"%+2f\")\n",
    "plt.savefig(\"images/extractMFCCsHumpback3.png\", bbox_inches='tight')\n",
    "plt.show();\n"
   ]
  },
  {
   "cell_type": "markdown",
   "metadata": {},
   "source": [
    "# import model and plot filters"
   ]
  },
  {
   "cell_type": "code",
   "execution_count": null,
   "metadata": {
    "ExecuteTime": {
     "end_time": "2020-12-04T22:28:43.652103Z",
     "start_time": "2020-12-04T22:28:43.648086Z"
    }
   },
   "outputs": [],
   "source": [
    "import os\n",
    "import tensorflow as tf\n",
    "from tensorflow import keras\n",
    "import json \n",
    "print(tf.version.VERSION)"
   ]
  },
  {
   "cell_type": "code",
   "execution_count": null,
   "metadata": {
    "ExecuteTime": {
     "end_time": "2020-12-04T22:28:44.619670Z",
     "start_time": "2020-12-04T22:28:43.655043Z"
    }
   },
   "outputs": [],
   "source": [
    "# import saved model\n",
    "cnn_model = tf.keras.models.load_model('saved_model/cnn models/mfccModel6_w_dropout/')"
   ]
  },
  {
   "cell_type": "code",
   "execution_count": null,
   "metadata": {
    "ExecuteTime": {
     "end_time": "2020-12-04T22:28:44.627919Z",
     "start_time": "2020-12-04T22:28:44.621806Z"
    }
   },
   "outputs": [],
   "source": [
    "# Get the weights from the Convet model\n",
    "weights1_np = cnn_model.get_weights()[0]"
   ]
  },
  {
   "cell_type": "code",
   "execution_count": null,
   "metadata": {
    "ExecuteTime": {
     "end_time": "2020-12-04T22:28:44.634929Z",
     "start_time": "2020-12-04T22:28:44.630854Z"
    }
   },
   "outputs": [],
   "source": [
    "weights1_np.shape"
   ]
  },
  {
   "cell_type": "code",
   "execution_count": null,
   "metadata": {
    "ExecuteTime": {
     "end_time": "2020-12-04T22:28:46.706234Z",
     "start_time": "2020-12-04T22:28:44.637560Z"
    }
   },
   "outputs": [],
   "source": [
    "# Plot the Convets 1st 32 filters from model\n",
    "fig, axs = plt.subplots(4, 8, figsize=(12, 10))\n",
    "fig.subplots_adjust(hspace=0.5)\n",
    "\n",
    "for i, ax in enumerate(axs.flatten()):\n",
    "    filter = weights1_np[:, :, 0, i]\n",
    "    ax.imshow(filter, cmap=plt.cm.gray_r, interpolation=\"nearest\")\n",
    "remove_grid_lines(axs)"
   ]
  },
  {
   "cell_type": "code",
   "execution_count": null,
   "metadata": {
    "ExecuteTime": {
     "end_time": "2020-12-04T22:29:09.602223Z",
     "start_time": "2020-12-04T22:29:07.895511Z"
    }
   },
   "outputs": [],
   "source": [
    "# Plot the 32 ConVnet 1st layer filter on one sample mfcc\n",
    "# You can also plot with all segments by  test = mfccstest.T and changing the reshape to 10,130,13,1\n",
    "test = mfccstest.T\n",
    "zero_tensor = tf.constant(test.reshape(10,130,13,1))\n",
    "zero_activations = tf.nn.conv2d(\n",
    "    zero_tensor, weights1_np, strides=[1,1,1,1], padding='SAME'\n",
    ")\n",
    "# or keras.activations.relu(zero_activations)\n",
    "zero_activations_relu = np.maximum(zero_activations,0) \n",
    "# plot\n",
    "fig, axs = plt.subplots(4, 8, figsize=(24, 12))\n",
    "fig.subplots_adjust(hspace=0.5)\n",
    "\n",
    "for i, ax in enumerate(axs.flatten()):\n",
    "    librosa.display.specshow(zero_activations_relu[0,:,:,i],\n",
    "                        x_axis=\"time\",\n",
    "                        sr=22050, ax=ax)\n",
    "    \n",
    "remove_grid_lines(axs)"
   ]
  },
  {
   "cell_type": "code",
   "execution_count": null,
   "metadata": {},
   "outputs": [],
   "source": []
  }
 ],
 "metadata": {
  "kernelspec": {
   "display_name": "mammal-env",
   "language": "python",
   "name": "python3"
  },
  "language_info": {
   "codemirror_mode": {
    "name": "ipython",
    "version": 3
   },
   "file_extension": ".py",
   "mimetype": "text/x-python",
   "name": "python",
   "nbconvert_exporter": "python",
   "pygments_lexer": "ipython3",
   "version": "3.9.6 (default, Oct 18 2022, 12:41:40) \n[Clang 14.0.0 (clang-1400.0.29.202)]"
  },
  "varInspector": {
   "cols": {
    "lenName": 16,
    "lenType": 16,
    "lenVar": 40
   },
   "kernels_config": {
    "python": {
     "delete_cmd_postfix": "",
     "delete_cmd_prefix": "del ",
     "library": "var_list.py",
     "varRefreshCmd": "print(var_dic_list())"
    },
    "r": {
     "delete_cmd_postfix": ") ",
     "delete_cmd_prefix": "rm(",
     "library": "var_list.r",
     "varRefreshCmd": "cat(var_dic_list()) "
    }
   },
   "types_to_exclude": [
    "module",
    "function",
    "builtin_function_or_method",
    "instance",
    "_Feature"
   ],
   "window_display": false
  },
  "vscode": {
   "interpreter": {
    "hash": "34ef32b04849682084fce80155c31b950d6cde80e98fb8c6edf1d39bac8ab09b"
   }
  }
 },
 "nbformat": 4,
 "nbformat_minor": 4
}
