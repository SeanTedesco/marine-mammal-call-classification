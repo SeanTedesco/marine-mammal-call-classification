{
 "cells": [
  {
   "cell_type": "code",
   "execution_count": 6,
   "metadata": {
    "ExecuteTime": {
     "end_time": "2021-02-21T11:03:26.384906Z",
     "start_time": "2021-02-21T11:03:26.331395Z"
    }
   },
   "outputs": [],
   "source": [
    "import json\n",
    "import numpy as np\n",
    "import tensorflow as tf\n",
    "import tensorflow.keras as keras\n",
    "%matplotlib inline\n",
    "import matplotlib.pyplot as plt\n",
    "from sklearn.model_selection import train_test_split\n",
    "import seaborn as sns\n",
    "import pandas as pd "
   ]
  },
  {
   "cell_type": "code",
   "execution_count": 7,
   "metadata": {
    "ExecuteTime": {
     "end_time": "2021-02-21T11:03:27.259347Z",
     "start_time": "2021-02-21T11:03:27.236457Z"
    }
   },
   "outputs": [],
   "source": [
    "plt.style.use('ggplot')\n",
    "sns.set(style='ticks')\n",
    "# pandas defaults\n",
    "import warnings\n",
    "warnings.simplefilter(action='ignore', category=FutureWarning)\n",
    "pd.options.display.max_columns = 500\n",
    "pd.options.display.max_rows = 500\n",
    "# color default\n",
    "CB91_Blue = '#2CBDFE'\n",
    "CB91_Green = '#47DBCD'\n",
    "CB91_Pink = '#F3A0F2'\n",
    "CB91_Purple = '#9D2EC5'\n",
    "CB91_Violet = '#661D98'\n",
    "CB91_Amber = '#F5B14C'\n",
    "color_list = [CB91_Blue, CB91_Green, CB91_Pink, CB91_Purple, CB91_Violet, CB91_Amber]\n",
    "plt.rcParams['axes.prop_cycle'] = plt.cycler(color=color_list)"
   ]
  },
  {
   "cell_type": "code",
   "execution_count": 8,
   "metadata": {
    "ExecuteTime": {
     "end_time": "2021-02-21T11:03:27.849527Z",
     "start_time": "2021-02-21T11:03:27.842324Z"
    }
   },
   "outputs": [],
   "source": [
    "import seaborn as sns\n",
    "plt.style.use('ggplot')\n",
    "sns.set(style='ticks')\n",
    "sns.set_style(\"darkgrid\")"
   ]
  },
  {
   "cell_type": "markdown",
   "metadata": {},
   "source": [
    "# Load-in Enhanced dataset"
   ]
  },
  {
   "cell_type": "code",
   "execution_count": 9,
   "metadata": {
    "ExecuteTime": {
     "end_time": "2021-02-21T11:03:47.878583Z",
     "start_time": "2021-02-21T11:03:30.214250Z"
    }
   },
   "outputs": [],
   "source": [
    "# import dataset json file after preprocess mfccs\n",
    "with open(\"MFCCs_data.json\", \"r\") as fp:\n",
    "    data = json.load(fp)\n",
    "\n",
    "    # convert list into numpy arrays\n",
    "    X = np.array(data['mfcc'])\n",
    "    y = np.array(data['labels'])"
   ]
  },
  {
   "cell_type": "code",
   "execution_count": 10,
   "metadata": {
    "ExecuteTime": {
     "end_time": "2021-02-21T11:03:51.403310Z",
     "start_time": "2021-02-21T11:03:51.394798Z"
    },
    "scrolled": true
   },
   "outputs": [
    {
     "data": {
      "text/plain": [
       "['killer_whale',\n",
       " 'short_finned_pilot_whale',\n",
       " 'FKW_enhanced',\n",
       " 'humpback',\n",
       " 'sperm_whale',\n",
       " 'white_side_dolphine',\n",
       " 'bowhead_enhanced',\n",
       " 'risso_dolphin',\n",
       " 'north_right_whale']"
      ]
     },
     "execution_count": 10,
     "metadata": {},
     "output_type": "execute_result"
    }
   ],
   "source": [
    "# Double check labels from data file\n",
    "data['mapping']"
   ]
  },
  {
   "cell_type": "code",
   "execution_count": 11,
   "metadata": {
    "ExecuteTime": {
     "end_time": "2021-02-21T11:04:04.590848Z",
     "start_time": "2021-02-21T11:04:04.579085Z"
    },
    "scrolled": false
   },
   "outputs": [
    {
     "data": {
      "text/plain": [
       "(array([0, 1, 2, 3, 4, 5, 6, 7, 8]),\n",
       " array([2399, 1400, 1260, 1900, 2100, 1670, 1350, 1520, 1100]))"
      ]
     },
     "execution_count": 11,
     "metadata": {},
     "output_type": "execute_result"
    }
   ],
   "source": [
    "# Check class counts and that labels are numerical order\n",
    "np.unique(y, return_counts=True)"
   ]
  },
  {
   "cell_type": "code",
   "execution_count": 12,
   "metadata": {
    "ExecuteTime": {
     "end_time": "2021-02-21T11:04:32.823939Z",
     "start_time": "2021-02-21T11:04:32.813447Z"
    }
   },
   "outputs": [],
   "source": [
    "def prepare_datasets(X, y2, test_size, validation_size):\n",
    "    \n",
    "    # load in the data\n",
    "#     X, y = load_data(DATASET_PATH)\n",
    "    \n",
    "    # create the train/test split\n",
    "    X_train, X_test, y_train, y_test = train_test_split(X, y2, test_size=test_size)\n",
    "    \n",
    "    # create the train/validation split\n",
    "    X_train, X_validation, y_train, y_validation = train_test_split(X_train, y_train, test_size=validation_size)\n",
    "    \n",
    "    # Tensorflow for CNN expect a 3D array -> (130, 13, 1) audio grayscale images\n",
    "    X_train = X_train[..., np.newaxis] # 4d array -> (num of samples, 130, 13, 1)\n",
    "    X_validation = X_validation[..., np.newaxis] \n",
    "    X_test = X_test[..., np.newaxis] \n",
    "    \n",
    "    return X_train, X_validation, X_test, y_train, y_validation, y_test"
   ]
  },
  {
   "cell_type": "code",
   "execution_count": 13,
   "metadata": {
    "ExecuteTime": {
     "end_time": "2021-02-21T11:04:36.659158Z",
     "start_time": "2021-02-21T11:04:36.474703Z"
    }
   },
   "outputs": [],
   "source": [
    "# create train, validation and test sets\n",
    "\n",
    "X_train, X_validation, X_test, y_train, y_validation, y_test = prepare_datasets(X, y, 0.25, 0.2) # test size, vailidation size"
   ]
  },
  {
   "cell_type": "markdown",
   "metadata": {},
   "source": [
    "# Build the model"
   ]
  },
  {
   "cell_type": "code",
   "execution_count": 25,
   "metadata": {
    "ExecuteTime": {
     "end_time": "2021-02-21T11:16:58.621825Z",
     "start_time": "2021-02-21T11:16:58.614547Z"
    }
   },
   "outputs": [],
   "source": [
    "\n",
    "def plot_history(history):\n",
    "    \"\"\"Plots accuracy/loss for training/validation set as a function of the epochs\n",
    "        :param history: Training history of model\n",
    "        :return:\n",
    "    \"\"\"\n",
    "\n",
    "    fig, axs = plt.subplots(2)\n",
    "\n",
    "    # create accuracy sublpot\n",
    "    axs[0].plot(history.history[\"accuracy\"], label=\"train accuracy\")\n",
    "    axs[0].plot(history.history[\"val_accuracy\"], label=\"test accuracy\")\n",
    "    axs[0].set_ylabel(\"Accuracy\")\n",
    "    axs[0].legend(loc=\"lower right\")\n",
    "    axs[0].set_title(\"Accuracy eval\")\n",
    "\n",
    "    # create error sublpot\n",
    "    axs[1].plot(history.history[\"loss\"], label=\"train error\")\n",
    "    axs[1].plot(history.history[\"val_loss\"], label=\"test error\")\n",
    "    axs[1].set_ylabel(\"Error\")\n",
    "    axs[1].set_xlabel(\"Epoch\")\n",
    "    axs[1].legend(loc=\"upper right\")\n",
    "    axs[1].set_title(\"Error eval\")\n",
    "    \n",
    "    # Save image\n",
    "    fig.subplots_adjust(hspace=0.5)\n",
    "    plt.savefig('/Users/javonnii/dolby_io/acc_loss_metrics.png', bbox_inches='tight')\n",
    "    plt.show()"
   ]
  },
  {
   "cell_type": "code",
   "execution_count": 26,
   "metadata": {
    "ExecuteTime": {
     "end_time": "2021-02-21T11:17:00.367874Z",
     "start_time": "2021-02-21T11:17:00.357325Z"
    }
   },
   "outputs": [],
   "source": [
    "def build_model(input_shape):\n",
    "    \n",
    "    # Instantiate model\n",
    "    model = keras.Sequential()\n",
    "    \n",
    "    # 1st conv layer\n",
    "    model.add(keras.layers.Conv2D(32, (3, 3), activation='relu', input_shape=input_shape))\n",
    "    model.add(keras.layers.MaxPool2D((3, 3), strides=(2,2), padding='same'))\n",
    "    model.add(keras.layers.BatchNormalization()) # normalizes the activation at the layer, speeds up training\n",
    "              \n",
    "    # 2nd conv layer\n",
    "    model.add(keras.layers.Conv2D(32, (3, 3), activation='relu', input_shape=input_shape))\n",
    "    model.add(keras.layers.MaxPool2D((3, 3), strides=(2,2), padding='same'))\n",
    "    model.add(keras.layers.BatchNormalization())\n",
    "                  \n",
    "              \n",
    "    # 3rd conv layer\n",
    "    model.add(keras.layers.Conv2D(32, (2, 2), activation='relu', input_shape=input_shape))\n",
    "    model.add(keras.layers.MaxPool2D((2, 2), strides=(2,2), padding='same'))\n",
    "    model.add(keras.layers.BatchNormalization())\n",
    "              \n",
    "    # flatten output and feed it into dense layer\n",
    "    model.add(keras.layers.Flatten()) # flatten conv output\n",
    "    model.add(keras.layers.Dense(64, activation='relu'))\n",
    "    model.add(keras.layers.Dropout(0.3)) # randomly drops neurons\n",
    "            \n",
    "    # output layer that uses softmax\n",
    "    model.add(keras.layers.Dense(9, activation='softmax')) # number of neurons of the classifications we want to predict\n",
    "    \n",
    "    print(model.summary())\n",
    "    \n",
    "    return model"
   ]
  },
  {
   "cell_type": "code",
   "execution_count": 27,
   "metadata": {
    "ExecuteTime": {
     "end_time": "2021-02-21T11:17:02.808898Z",
     "start_time": "2021-02-21T11:17:02.691830Z"
    }
   },
   "outputs": [
    {
     "name": "stdout",
     "output_type": "stream",
     "text": [
      "Model: \"sequential_2\"\n",
      "_________________________________________________________________\n",
      "Layer (type)                 Output Shape              Param #   \n",
      "=================================================================\n",
      "conv2d_6 (Conv2D)            (None, 128, 11, 32)       320       \n",
      "_________________________________________________________________\n",
      "max_pooling2d_6 (MaxPooling2 (None, 64, 6, 32)         0         \n",
      "_________________________________________________________________\n",
      "batch_normalization_6 (Batch (None, 64, 6, 32)         128       \n",
      "_________________________________________________________________\n",
      "conv2d_7 (Conv2D)            (None, 62, 4, 32)         9248      \n",
      "_________________________________________________________________\n",
      "max_pooling2d_7 (MaxPooling2 (None, 31, 2, 32)         0         \n",
      "_________________________________________________________________\n",
      "batch_normalization_7 (Batch (None, 31, 2, 32)         128       \n",
      "_________________________________________________________________\n",
      "conv2d_8 (Conv2D)            (None, 30, 1, 32)         4128      \n",
      "_________________________________________________________________\n",
      "max_pooling2d_8 (MaxPooling2 (None, 15, 1, 32)         0         \n",
      "_________________________________________________________________\n",
      "batch_normalization_8 (Batch (None, 15, 1, 32)         128       \n",
      "_________________________________________________________________\n",
      "flatten_2 (Flatten)          (None, 480)               0         \n",
      "_________________________________________________________________\n",
      "dense_4 (Dense)              (None, 64)                30784     \n",
      "_________________________________________________________________\n",
      "dropout_2 (Dropout)          (None, 64)                0         \n",
      "_________________________________________________________________\n",
      "dense_5 (Dense)              (None, 9)                 585       \n",
      "=================================================================\n",
      "Total params: 45,449\n",
      "Trainable params: 45,257\n",
      "Non-trainable params: 192\n",
      "_________________________________________________________________\n",
      "None\n"
     ]
    }
   ],
   "source": [
    "# build the cnn net\n",
    "input_shape = (X_train.shape[1], X_train.shape[2], X_train.shape[3])\n",
    "model = build_model(input_shape)"
   ]
  },
  {
   "cell_type": "code",
   "execution_count": 28,
   "metadata": {
    "ExecuteTime": {
     "end_time": "2021-02-21T11:17:07.498398Z",
     "start_time": "2021-02-21T11:17:07.484769Z"
    }
   },
   "outputs": [],
   "source": [
    "# compile the network\n",
    "optimizer = keras.optimizers.Adam(learning_rate=0.0001)\n",
    "model.compile(optimizer=optimizer, \n",
    "              loss=\"sparse_categorical_crossentropy\",\n",
    "              metrics=['accuracy'])"
   ]
  },
  {
   "cell_type": "code",
   "execution_count": 29,
   "metadata": {
    "ExecuteTime": {
     "end_time": "2021-02-21T11:23:02.482304Z",
     "start_time": "2021-02-21T11:17:42.167975Z"
    },
    "scrolled": false
   },
   "outputs": [
    {
     "name": "stdout",
     "output_type": "stream",
     "text": [
      "Epoch 1/40\n",
      "276/276 [==============================] - 8s 29ms/step - loss: 1.8471 - accuracy: 0.3677 - val_loss: 1.2025 - val_accuracy: 0.5995\n",
      "Epoch 2/40\n",
      "276/276 [==============================] - 8s 28ms/step - loss: 1.1953 - accuracy: 0.5829 - val_loss: 0.8390 - val_accuracy: 0.7134\n",
      "Epoch 3/40\n",
      "276/276 [==============================] - 8s 28ms/step - loss: 0.9709 - accuracy: 0.6628 - val_loss: 0.6683 - val_accuracy: 0.7810\n",
      "Epoch 4/40\n",
      "276/276 [==============================] - 8s 28ms/step - loss: 0.8134 - accuracy: 0.7217 - val_loss: 0.5619 - val_accuracy: 0.8186\n",
      "Epoch 5/40\n",
      "276/276 [==============================] - 8s 28ms/step - loss: 0.7037 - accuracy: 0.7537 - val_loss: 0.4844 - val_accuracy: 0.8444\n",
      "Epoch 6/40\n",
      "276/276 [==============================] - 8s 28ms/step - loss: 0.6285 - accuracy: 0.7855 - val_loss: 0.4542 - val_accuracy: 0.8535\n",
      "Epoch 7/40\n",
      "276/276 [==============================] - 8s 28ms/step - loss: 0.5613 - accuracy: 0.8106 - val_loss: 0.3791 - val_accuracy: 0.8780\n",
      "Epoch 8/40\n",
      "276/276 [==============================] - 8s 28ms/step - loss: 0.5124 - accuracy: 0.8315 - val_loss: 0.3416 - val_accuracy: 0.8857\n",
      "Epoch 9/40\n",
      "276/276 [==============================] - 8s 28ms/step - loss: 0.4613 - accuracy: 0.8444 - val_loss: 0.3096 - val_accuracy: 0.8948\n",
      "Epoch 10/40\n",
      "276/276 [==============================] - 8s 29ms/step - loss: 0.4235 - accuracy: 0.8614 - val_loss: 0.2878 - val_accuracy: 0.9107\n",
      "Epoch 11/40\n",
      "276/276 [==============================] - 8s 29ms/step - loss: 0.3939 - accuracy: 0.8697 - val_loss: 0.2899 - val_accuracy: 0.9039\n",
      "Epoch 12/40\n",
      "276/276 [==============================] - 8s 29ms/step - loss: 0.3671 - accuracy: 0.8784 - val_loss: 0.2410 - val_accuracy: 0.9179\n",
      "Epoch 13/40\n",
      "276/276 [==============================] - 8s 29ms/step - loss: 0.3430 - accuracy: 0.8840 - val_loss: 0.2268 - val_accuracy: 0.9261\n",
      "Epoch 14/40\n",
      "276/276 [==============================] - 8s 29ms/step - loss: 0.3148 - accuracy: 0.8951 - val_loss: 0.2209 - val_accuracy: 0.9238\n",
      "Epoch 15/40\n",
      "276/276 [==============================] - 8s 29ms/step - loss: 0.3035 - accuracy: 0.8964 - val_loss: 0.1928 - val_accuracy: 0.9379\n",
      "Epoch 16/40\n",
      "276/276 [==============================] - 8s 29ms/step - loss: 0.2822 - accuracy: 0.9084 - val_loss: 0.1813 - val_accuracy: 0.9370\n",
      "Epoch 17/40\n",
      "276/276 [==============================] - 8s 29ms/step - loss: 0.2571 - accuracy: 0.9130 - val_loss: 0.1646 - val_accuracy: 0.9510\n",
      "Epoch 18/40\n",
      "276/276 [==============================] - 8s 29ms/step - loss: 0.2382 - accuracy: 0.9218 - val_loss: 0.1592 - val_accuracy: 0.9524\n",
      "Epoch 19/40\n",
      "276/276 [==============================] - 8s 29ms/step - loss: 0.2438 - accuracy: 0.9202 - val_loss: 0.1500 - val_accuracy: 0.9506\n",
      "Epoch 20/40\n",
      "276/276 [==============================] - 8s 29ms/step - loss: 0.2171 - accuracy: 0.9280 - val_loss: 0.1495 - val_accuracy: 0.9528\n",
      "Epoch 21/40\n",
      "276/276 [==============================] - 8s 29ms/step - loss: 0.2036 - accuracy: 0.9316 - val_loss: 0.1324 - val_accuracy: 0.9587\n",
      "Epoch 22/40\n",
      "276/276 [==============================] - 8s 29ms/step - loss: 0.2042 - accuracy: 0.9307 - val_loss: 0.1408 - val_accuracy: 0.9510\n",
      "Epoch 23/40\n",
      "276/276 [==============================] - 8s 29ms/step - loss: 0.1867 - accuracy: 0.9385 - val_loss: 0.1219 - val_accuracy: 0.9605\n",
      "Epoch 24/40\n",
      "276/276 [==============================] - 8s 29ms/step - loss: 0.1793 - accuracy: 0.9405 - val_loss: 0.1187 - val_accuracy: 0.9587\n",
      "Epoch 25/40\n",
      "276/276 [==============================] - 8s 29ms/step - loss: 0.1702 - accuracy: 0.9430 - val_loss: 0.1195 - val_accuracy: 0.9615\n",
      "Epoch 26/40\n",
      "276/276 [==============================] - 8s 29ms/step - loss: 0.1578 - accuracy: 0.9478 - val_loss: 0.1125 - val_accuracy: 0.9610\n",
      "Epoch 27/40\n",
      "276/276 [==============================] - 8s 29ms/step - loss: 0.1516 - accuracy: 0.9498 - val_loss: 0.1155 - val_accuracy: 0.9615\n",
      "Epoch 28/40\n",
      "276/276 [==============================] - 8s 29ms/step - loss: 0.1514 - accuracy: 0.9531 - val_loss: 0.1203 - val_accuracy: 0.9628\n",
      "Epoch 29/40\n",
      "276/276 [==============================] - 8s 29ms/step - loss: 0.1483 - accuracy: 0.9521 - val_loss: 0.0956 - val_accuracy: 0.9687\n",
      "Epoch 30/40\n",
      "276/276 [==============================] - 8s 29ms/step - loss: 0.1408 - accuracy: 0.9544 - val_loss: 0.0983 - val_accuracy: 0.9655\n",
      "Epoch 31/40\n",
      "276/276 [==============================] - 8s 29ms/step - loss: 0.1322 - accuracy: 0.9562 - val_loss: 0.1146 - val_accuracy: 0.9610\n",
      "Epoch 32/40\n",
      "276/276 [==============================] - 8s 29ms/step - loss: 0.1270 - accuracy: 0.9579 - val_loss: 0.0855 - val_accuracy: 0.9705\n",
      "Epoch 33/40\n",
      "276/276 [==============================] - 8s 29ms/step - loss: 0.1193 - accuracy: 0.9578 - val_loss: 0.0846 - val_accuracy: 0.9723\n",
      "Epoch 34/40\n",
      "276/276 [==============================] - 8s 29ms/step - loss: 0.1237 - accuracy: 0.9583 - val_loss: 0.0932 - val_accuracy: 0.9714\n",
      "Epoch 35/40\n",
      "276/276 [==============================] - 8s 29ms/step - loss: 0.1173 - accuracy: 0.9613 - val_loss: 0.0920 - val_accuracy: 0.9701\n",
      "Epoch 36/40\n",
      "276/276 [==============================] - 8s 29ms/step - loss: 0.1145 - accuracy: 0.9621 - val_loss: 0.0796 - val_accuracy: 0.9741\n",
      "Epoch 37/40\n",
      "276/276 [==============================] - 8s 29ms/step - loss: 0.1137 - accuracy: 0.9613 - val_loss: 0.0912 - val_accuracy: 0.9714\n",
      "Epoch 38/40\n",
      "276/276 [==============================] - 8s 29ms/step - loss: 0.1011 - accuracy: 0.9662 - val_loss: 0.0745 - val_accuracy: 0.9741\n",
      "Epoch 39/40\n",
      "276/276 [==============================] - 8s 29ms/step - loss: 0.1035 - accuracy: 0.9661 - val_loss: 0.0750 - val_accuracy: 0.9737\n",
      "Epoch 40/40\n",
      "276/276 [==============================] - 8s 29ms/step - loss: 0.1015 - accuracy: 0.9660 - val_loss: 0.0786 - val_accuracy: 0.9746\n"
     ]
    },
    {
     "data": {
      "image/png": "[encoded data removed]",
      "text/plain": [
       "<Figure size 432x288 with 2 Axes>"
      ]
     },
     "metadata": {},
     "output_type": "display_data"
    }
   ],
   "source": [
    "# Train the cnn \n",
    "history = model.fit(X_train, y_train, validation_data=(X_validation, y_validation), batch_size=32, epochs=40)\n",
    "\n",
    "# plot accuracy/error for training and validation\n",
    "plot_history(history)"
   ]
  },
  {
   "cell_type": "code",
   "execution_count": 30,
   "metadata": {
    "ExecuteTime": {
     "end_time": "2021-02-21T11:23:17.005801Z",
     "start_time": "2021-02-21T11:23:16.201732Z"
    },
    "scrolled": true
   },
   "outputs": [
    {
     "name": "stdout",
     "output_type": "stream",
     "text": [
      "115/115 [==============================] - 1s 6ms/step - loss: 0.0740 - accuracy: 0.9755\n",
      "Accuracy on test set is: 0.9755101799964905\n"
     ]
    }
   ],
   "source": [
    "# evaluate the cnn on the test set\n",
    "\n",
    "test_error, test_accuracy = model.evaluate(X_test, y_test, verbose=1)\n",
    "print(\"Accuracy on test set is: {}\".format(test_accuracy))"
   ]
  },
  {
   "cell_type": "markdown",
   "metadata": {},
   "source": [
    "# Confusion Matrix"
   ]
  },
  {
   "cell_type": "code",
   "execution_count": 31,
   "metadata": {
    "ExecuteTime": {
     "end_time": "2021-02-21T11:25:21.476857Z",
     "start_time": "2021-02-21T11:23:30.671974Z"
    }
   },
   "outputs": [
    {
     "name": "stdout",
     "output_type": "stream",
     "text": [
      "[4. 3. 5. ... 3. 7. 4.]\n"
     ]
    }
   ],
   "source": [
    "# iterate each sample of X_test, predict, and store predicted index into a numpy array.\n",
    "\n",
    "ypred_array = np.array([])\n",
    "\n",
    "for i in range(len(X_test)):\n",
    "    X = X_test[i]\n",
    "    X = X[np.newaxis, ...] # to make a 4D\n",
    "    \n",
    "    # prediction\n",
    "    prediction = model.predict(X)\n",
    "    \n",
    "    # extract the index with the max value\n",
    "    predicted_index = np.argmax(prediction, axis=1)\n",
    "    ypred_array = np.append(ypred_array, predicted_index)\n",
    "\n",
    "print(ypred_array)"
   ]
  },
  {
   "cell_type": "code",
   "execution_count": 32,
   "metadata": {
    "ExecuteTime": {
     "end_time": "2021-02-21T11:25:35.000860Z",
     "start_time": "2021-02-21T11:25:33.941756Z"
    }
   },
   "outputs": [
    {
     "data": {
      "image/png": "[encoded data removed]",
      "text/plain": [
       "<Figure size 720x576 with 2 Axes>"
      ]
     },
     "metadata": {},
     "output_type": "display_data"
    }
   ],
   "source": [
    "confusion_mtx = tf.math.confusion_matrix(y_test, ypred_array) \n",
    "plt.figure(figsize=(10, 8))\n",
    "sns.heatmap(confusion_mtx, xticklabels=data['mapping'], yticklabels=data['mapping'], \n",
    "            annot=True, fmt='g')\n",
    "plt.xlabel('Prediction')\n",
    "plt.ylabel('Label')\n",
    "plt.title(\"Confusion Matrix of CNN\")\n",
    "plt.savefig('/Users/javonnii/dolby_io/finalCFcnn.png', bbox_inches='tight')\n",
    "plt.show();"
   ]
  },
  {
   "cell_type": "markdown",
   "metadata": {},
   "source": [
    "# Predict a sample"
   ]
  },
  {
   "cell_type": "code",
   "execution_count": 33,
   "metadata": {
    "ExecuteTime": {
     "end_time": "2021-02-21T11:26:33.109441Z",
     "start_time": "2021-02-21T11:26:33.106029Z"
    }
   },
   "outputs": [],
   "source": [
    "def predict(model, X, y):\n",
    "    X = X[np.newaxis, ...] # to put make a 4D\n",
    "    \n",
    "    # prediction = [ [0.1, 0.2, ...] ] result of the softmax\n",
    "    prediction = model.predict(X) # X -> (130, 13, 1) but expect 4D i.e num samples (1, 130, 13, 1)\n",
    "    \n",
    "    # extract the index with the max value\n",
    "    predicted_index = np.argmax(prediction, axis=1) # [idx] \n",
    "    print(\"Expected index: {}, Predicted index: {}\".format(y, predicted_index))\n",
    "#     print(X.shape)\n",
    "    "
   ]
  },
  {
   "cell_type": "code",
   "execution_count": 34,
   "metadata": {
    "ExecuteTime": {
     "end_time": "2021-02-21T11:26:34.589103Z",
     "start_time": "2021-02-21T11:26:34.539585Z"
    }
   },
   "outputs": [
    {
     "name": "stdout",
     "output_type": "stream",
     "text": [
      "Expected index: 0, Predicted index: [0]\n"
     ]
    }
   ],
   "source": [
    "# make a prediction on a sample\n",
    "X = X_test[65]\n",
    "y = y_test[65]\n",
    "\n",
    "predict(model, X, y)"
   ]
  },
  {
   "cell_type": "markdown",
   "metadata": {},
   "source": [
    "# Save the model"
   ]
  },
  {
   "cell_type": "code",
   "execution_count": 35,
   "metadata": {
    "ExecuteTime": {
     "end_time": "2021-02-21T11:27:01.719959Z",
     "start_time": "2021-02-21T11:27:01.533251Z"
    }
   },
   "outputs": [],
   "source": [
    "# make a directory for saved models\n",
    "# ! mkdir -p saved_model"
   ]
  },
  {
   "cell_type": "code",
   "execution_count": 38,
   "metadata": {
    "ExecuteTime": {
     "end_time": "2021-02-21T13:27:17.757211Z",
     "start_time": "2021-02-21T13:27:15.532923Z"
    }
   },
   "outputs": [
    {
     "name": "stdout",
     "output_type": "stream",
     "text": [
      "INFO:tensorflow:Assets written to: saved_model/FinalCnnModel6/assets\n"
     ]
    }
   ],
   "source": [
    "# save the entire model\n",
    "model.save('saved_model/FinalCnnModel6')"
   ]
  },
  {
   "cell_type": "code",
   "execution_count": null,
   "metadata": {},
   "outputs": [],
   "source": []
  }
 ],
 "metadata": {
  "kernelspec": {
   "display_name": "Python 3.11.0 64-bit",
   "language": "python",
   "name": "python3"
  },
  "language_info": {
   "codemirror_mode": {
    "name": "ipython",
    "version": 3
   },
   "file_extension": ".py",
   "mimetype": "text/x-python",
   "name": "python",
   "nbconvert_exporter": "python",
   "pygments_lexer": "ipython3",
   "version": "3.11.0"
  },
  "varInspector": {
   "cols": {
    "lenName": 16,
    "lenType": 16,
    "lenVar": 40
   },
   "kernels_config": {
    "python": {
     "delete_cmd_postfix": "",
     "delete_cmd_prefix": "del ",
     "library": "var_list.py",
     "varRefreshCmd": "print(var_dic_list())"
    },
    "r": {
     "delete_cmd_postfix": ") ",
     "delete_cmd_prefix": "rm(",
     "library": "var_list.r",
     "varRefreshCmd": "cat(var_dic_list()) "
    }
   },
   "types_to_exclude": [
    "module",
    "function",
    "builtin_function_or_method",
    "instance",
    "_Feature"
   ],
   "window_display": false
  },
  "vscode": {
   "interpreter": {
    "hash": "aee8b7b246df8f9039afb4144a1f6fd8d2ca17a180786b69acc140d282b71a49"
   }
  }
 },
 "nbformat": 4,
 "nbformat_minor": 4
}
