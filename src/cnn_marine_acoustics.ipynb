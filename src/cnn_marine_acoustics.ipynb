{
 "cells": [
  {
   "cell_type": "code",
   "execution_count": 4,
   "metadata": {
    "ExecuteTime": {
     "end_time": "2021-02-21T11:03:26.384906Z",
     "start_time": "2021-02-21T11:03:26.331395Z"
    }
   },
   "outputs": [],
   "source": [
    "import json\n",
    "import numpy as np\n",
    "import tensorflow as tf\n",
    "import tensorflow.keras as keras\n",
    "%matplotlib inline\n",
    "import matplotlib.pyplot as plt\n",
    "from sklearn.model_selection import train_test_split\n",
    "import seaborn as sns\n",
    "import pandas as pd "
   ]
  },
  {
   "cell_type": "code",
   "execution_count": 5,
   "metadata": {
    "ExecuteTime": {
     "end_time": "2021-02-21T11:03:27.259347Z",
     "start_time": "2021-02-21T11:03:27.236457Z"
    }
   },
   "outputs": [],
   "source": [
    "plt.style.use('ggplot')\n",
    "sns.set(style='ticks')\n",
    "# pandas defaults\n",
    "import warnings\n",
    "warnings.simplefilter(action='ignore', category=FutureWarning)\n",
    "pd.options.display.max_columns = 500\n",
    "pd.options.display.max_rows = 500\n",
    "# color default\n",
    "CB91_Blue = '#2CBDFE'\n",
    "CB91_Green = '#47DBCD'\n",
    "CB91_Pink = '#F3A0F2'\n",
    "CB91_Purple = '#9D2EC5'\n",
    "CB91_Violet = '#661D98'\n",
    "CB91_Amber = '#F5B14C'\n",
    "color_list = [CB91_Blue, CB91_Green, CB91_Pink, CB91_Purple, CB91_Violet, CB91_Amber]\n",
    "plt.rcParams['axes.prop_cycle'] = plt.cycler(color=color_list)"
   ]
  },
  {
   "cell_type": "code",
   "execution_count": 6,
   "metadata": {
    "ExecuteTime": {
     "end_time": "2021-02-21T11:03:27.849527Z",
     "start_time": "2021-02-21T11:03:27.842324Z"
    }
   },
   "outputs": [],
   "source": [
    "import seaborn as sns\n",
    "plt.style.use('ggplot')\n",
    "sns.set(style='ticks')\n",
    "sns.set_style(\"darkgrid\")"
   ]
  },
  {
   "cell_type": "markdown",
   "metadata": {},
   "source": [
    "# Load-in Enhanced dataset"
   ]
  },
  {
   "cell_type": "code",
   "execution_count": 9,
   "metadata": {
    "ExecuteTime": {
     "end_time": "2021-02-21T11:03:47.878583Z",
     "start_time": "2021-02-21T11:03:30.214250Z"
    }
   },
   "outputs": [],
   "source": [
    "# import dataset json file after preprocess mfccs\n",
    "with open(\"/Users/seantedesco/Documents/marine-mammal-call-classification/MFCCs_data.json\", \"r\") as fp:\n",
    "    data = json.load(fp)\n",
    "\n",
    "    # convert list into numpy arrays\n",
    "    X = np.array(data['mfcc'])\n",
    "    y = np.array(data['labels'])"
   ]
  },
  {
   "cell_type": "code",
   "execution_count": 10,
   "metadata": {
    "ExecuteTime": {
     "end_time": "2021-02-21T11:03:51.403310Z",
     "start_time": "2021-02-21T11:03:51.394798Z"
    },
    "scrolled": true
   },
   "outputs": [
    {
     "data": {
      "text/plain": [
       "['WeddellSeal', 'Walrus']"
      ]
     },
     "execution_count": 10,
     "metadata": {},
     "output_type": "execute_result"
    }
   ],
   "source": [
    "# Double check labels from data file\n",
    "data['mapping']"
   ]
  },
  {
   "cell_type": "code",
   "execution_count": 11,
   "metadata": {
    "ExecuteTime": {
     "end_time": "2021-02-21T11:04:04.590848Z",
     "start_time": "2021-02-21T11:04:04.579085Z"
    },
    "scrolled": false
   },
   "outputs": [
    {
     "data": {
      "text/plain": [
       "(array([1, 2]), array([2660, 5460]))"
      ]
     },
     "execution_count": 11,
     "metadata": {},
     "output_type": "execute_result"
    }
   ],
   "source": [
    "# Check class counts and that labels are numerical order\n",
    "np.unique(y, return_counts=True)"
   ]
  },
  {
   "cell_type": "code",
   "execution_count": 12,
   "metadata": {
    "ExecuteTime": {
     "end_time": "2021-02-21T11:04:32.823939Z",
     "start_time": "2021-02-21T11:04:32.813447Z"
    }
   },
   "outputs": [],
   "source": [
    "def prepare_datasets(X, y2, test_size, validation_size):\n",
    "    \n",
    "    # load in the data\n",
    "#     X, y = load_data(DATASET_PATH)\n",
    "    \n",
    "    # create the train/test split\n",
    "    X_train, X_test, y_train, y_test = train_test_split(X, y2, test_size=test_size)\n",
    "    \n",
    "    # create the train/validation split\n",
    "    X_train, X_validation, y_train, y_validation = train_test_split(X_train, y_train, test_size=validation_size)\n",
    "    \n",
    "    # Tensorflow for CNN expect a 3D array -> (130, 13, 1) audio grayscale images\n",
    "    X_train = X_train[..., np.newaxis] # 4d array -> (num of samples, 130, 13, 1)\n",
    "    X_validation = X_validation[..., np.newaxis] \n",
    "    X_test = X_test[..., np.newaxis] \n",
    "    \n",
    "    return X_train, X_validation, X_test, y_train, y_validation, y_test"
   ]
  },
  {
   "cell_type": "code",
   "execution_count": 13,
   "metadata": {
    "ExecuteTime": {
     "end_time": "2021-02-21T11:04:36.659158Z",
     "start_time": "2021-02-21T11:04:36.474703Z"
    }
   },
   "outputs": [],
   "source": [
    "# create train, validation and test sets\n",
    "\n",
    "X_train, X_validation, X_test, y_train, y_validation, y_test = prepare_datasets(X, y, 0.25, 0.2) # test size, vailidation size"
   ]
  },
  {
   "cell_type": "markdown",
   "metadata": {},
   "source": [
    "# Build the model"
   ]
  },
  {
   "cell_type": "code",
   "execution_count": 14,
   "metadata": {
    "ExecuteTime": {
     "end_time": "2021-02-21T11:16:58.621825Z",
     "start_time": "2021-02-21T11:16:58.614547Z"
    }
   },
   "outputs": [],
   "source": [
    "\n",
    "def plot_history(history):\n",
    "    \"\"\"Plots accuracy/loss for training/validation set as a function of the epochs\n",
    "        :param history: Training history of model\n",
    "        :return:\n",
    "    \"\"\"\n",
    "\n",
    "    fig, axs = plt.subplots(2)\n",
    "\n",
    "    # create accuracy sublpot\n",
    "    axs[0].plot(history.history[\"accuracy\"], label=\"train accuracy\")\n",
    "    axs[0].plot(history.history[\"val_accuracy\"], label=\"test accuracy\")\n",
    "    axs[0].set_ylabel(\"Accuracy\")\n",
    "    axs[0].legend(loc=\"lower right\")\n",
    "    axs[0].set_title(\"Accuracy eval\")\n",
    "\n",
    "    # create error sublpot\n",
    "    axs[1].plot(history.history[\"loss\"], label=\"train error\")\n",
    "    axs[1].plot(history.history[\"val_loss\"], label=\"test error\")\n",
    "    axs[1].set_ylabel(\"Error\")\n",
    "    axs[1].set_xlabel(\"Epoch\")\n",
    "    axs[1].legend(loc=\"upper right\")\n",
    "    axs[1].set_title(\"Error eval\")\n",
    "    \n",
    "    # Save image\n",
    "    fig.subplots_adjust(hspace=0.5)\n",
    "    plt.savefig('/Users/seantedesco/Documents/marine-mammal-call-classification/acc_loss_metrics.png', bbox_inches='tight')\n",
    "    plt.show()"
   ]
  },
  {
   "cell_type": "code",
   "execution_count": 15,
   "metadata": {
    "ExecuteTime": {
     "end_time": "2021-02-21T11:17:00.367874Z",
     "start_time": "2021-02-21T11:17:00.357325Z"
    }
   },
   "outputs": [],
   "source": [
    "def build_model(input_shape):\n",
    "    \n",
    "    # Instantiate model\n",
    "    model = keras.Sequential()\n",
    "    \n",
    "    # 1st conv layer\n",
    "    model.add(keras.layers.Conv2D(32, (3, 3), activation='relu', input_shape=input_shape))\n",
    "    model.add(keras.layers.MaxPool2D((3, 3), strides=(2,2), padding='same'))\n",
    "    model.add(keras.layers.BatchNormalization()) # normalizes the activation at the layer, speeds up training\n",
    "              \n",
    "    # 2nd conv layer\n",
    "    model.add(keras.layers.Conv2D(32, (3, 3), activation='relu', input_shape=input_shape))\n",
    "    model.add(keras.layers.MaxPool2D((3, 3), strides=(2,2), padding='same'))\n",
    "    model.add(keras.layers.BatchNormalization())\n",
    "                  \n",
    "              \n",
    "    # 3rd conv layer\n",
    "    model.add(keras.layers.Conv2D(32, (2, 2), activation='relu', input_shape=input_shape))\n",
    "    model.add(keras.layers.MaxPool2D((2, 2), strides=(2,2), padding='same'))\n",
    "    model.add(keras.layers.BatchNormalization())\n",
    "              \n",
    "    # flatten output and feed it into dense layer\n",
    "    model.add(keras.layers.Flatten()) # flatten conv output\n",
    "    model.add(keras.layers.Dense(64, activation='relu'))\n",
    "    model.add(keras.layers.Dropout(0.3)) # randomly drops neurons\n",
    "            \n",
    "    # output layer that uses softmax\n",
    "    model.add(keras.layers.Dense(9, activation='softmax')) # number of neurons of the classifications we want to predict\n",
    "    \n",
    "    print(model.summary())\n",
    "    \n",
    "    return model"
   ]
  },
  {
   "cell_type": "code",
   "execution_count": 16,
   "metadata": {
    "ExecuteTime": {
     "end_time": "2021-02-21T11:17:02.808898Z",
     "start_time": "2021-02-21T11:17:02.691830Z"
    }
   },
   "outputs": [
    {
     "name": "stdout",
     "output_type": "stream",
     "text": [
      "Model: \"sequential\"\n",
      "_________________________________________________________________\n",
      " Layer (type)                Output Shape              Param #   \n",
      "=================================================================\n",
      " conv2d (Conv2D)             (None, 128, 11, 32)       320       \n",
      "                                                                 \n",
      " max_pooling2d (MaxPooling2D  (None, 64, 6, 32)        0         \n",
      " )                                                               \n",
      "                                                                 \n",
      " batch_normalization (BatchN  (None, 64, 6, 32)        128       \n",
      " ormalization)                                                   \n",
      "                                                                 \n",
      " conv2d_1 (Conv2D)           (None, 62, 4, 32)         9248      \n",
      "                                                                 \n",
      " max_pooling2d_1 (MaxPooling  (None, 31, 2, 32)        0         \n",
      " 2D)                                                             \n",
      "                                                                 \n",
      " batch_normalization_1 (Batc  (None, 31, 2, 32)        128       \n",
      " hNormalization)                                                 \n",
      "                                                                 \n",
      " conv2d_2 (Conv2D)           (None, 30, 1, 32)         4128      \n",
      "                                                                 \n",
      " max_pooling2d_2 (MaxPooling  (None, 15, 1, 32)        0         \n",
      " 2D)                                                             \n",
      "                                                                 \n",
      " batch_normalization_2 (Batc  (None, 15, 1, 32)        128       \n",
      " hNormalization)                                                 \n",
      "                                                                 \n",
      " flatten (Flatten)           (None, 480)               0         \n",
      "                                                                 \n",
      " dense (Dense)               (None, 64)                30784     \n",
      "                                                                 \n",
      " dropout (Dropout)           (None, 64)                0         \n",
      "                                                                 \n",
      " dense_1 (Dense)             (None, 9)                 585       \n",
      "                                                                 \n",
      "=================================================================\n",
      "Total params: 45,449\n",
      "Trainable params: 45,257\n",
      "Non-trainable params: 192\n",
      "_________________________________________________________________\n",
      "None\n"
     ]
    }
   ],
   "source": [
    "# build the cnn net\n",
    "input_shape = (X_train.shape[1], X_train.shape[2], X_train.shape[3])\n",
    "model = build_model(input_shape)"
   ]
  },
  {
   "cell_type": "code",
   "execution_count": 17,
   "metadata": {
    "ExecuteTime": {
     "end_time": "2021-02-21T11:17:07.498398Z",
     "start_time": "2021-02-21T11:17:07.484769Z"
    }
   },
   "outputs": [],
   "source": [
    "# compile the network\n",
    "optimizer = keras.optimizers.Adam(learning_rate=0.0001)\n",
    "model.compile(optimizer=optimizer, \n",
    "              loss=\"sparse_categorical_crossentropy\",\n",
    "              metrics=['accuracy'])"
   ]
  },
  {
   "cell_type": "code",
   "execution_count": 18,
   "metadata": {
    "ExecuteTime": {
     "end_time": "2021-02-21T11:23:02.482304Z",
     "start_time": "2021-02-21T11:17:42.167975Z"
    },
    "scrolled": false
   },
   "outputs": [
    {
     "name": "stdout",
     "output_type": "stream",
     "text": [
      "Epoch 1/40\n"
     ]
    },
    {
     "name": "stderr",
     "output_type": "stream",
     "text": [
      "2022-11-28 20:21:18.298111: W tensorflow/core/platform/profile_utils/cpu_utils.cc:128] Failed to get CPU frequency: 0 Hz\n"
     ]
    },
    {
     "name": "stdout",
     "output_type": "stream",
     "text": [
      "153/153 [==============================] - 3s 12ms/step - loss: 1.2945 - accuracy: 0.6275 - val_loss: 0.5486 - val_accuracy: 0.9204\n",
      "Epoch 2/40\n",
      "153/153 [==============================] - 2s 10ms/step - loss: 0.3219 - accuracy: 0.9236 - val_loss: 0.1759 - val_accuracy: 0.9655\n",
      "Epoch 3/40\n",
      "153/153 [==============================] - 2s 10ms/step - loss: 0.1876 - accuracy: 0.9542 - val_loss: 0.1129 - val_accuracy: 0.9770\n",
      "Epoch 4/40\n",
      "153/153 [==============================] - 2s 10ms/step - loss: 0.1446 - accuracy: 0.9643 - val_loss: 0.0800 - val_accuracy: 0.9828\n",
      "Epoch 5/40\n",
      "153/153 [==============================] - 2s 11ms/step - loss: 0.1023 - accuracy: 0.9729 - val_loss: 0.0452 - val_accuracy: 0.9860\n",
      "Epoch 6/40\n",
      "153/153 [==============================] - 2s 11ms/step - loss: 0.0800 - accuracy: 0.9760 - val_loss: 0.0311 - val_accuracy: 0.9877\n",
      "Epoch 7/40\n",
      "153/153 [==============================] - 2s 11ms/step - loss: 0.0725 - accuracy: 0.9805 - val_loss: 0.0213 - val_accuracy: 0.9910\n",
      "Epoch 8/40\n",
      "153/153 [==============================] - 2s 11ms/step - loss: 0.0640 - accuracy: 0.9840 - val_loss: 0.0148 - val_accuracy: 0.9967\n",
      "Epoch 9/40\n",
      "153/153 [==============================] - 2s 11ms/step - loss: 0.0422 - accuracy: 0.9877 - val_loss: 0.0134 - val_accuracy: 0.9959\n",
      "Epoch 10/40\n",
      "153/153 [==============================] - 2s 11ms/step - loss: 0.0441 - accuracy: 0.9852 - val_loss: 0.0342 - val_accuracy: 0.9844\n",
      "Epoch 11/40\n",
      "153/153 [==============================] - 2s 11ms/step - loss: 0.0361 - accuracy: 0.9904 - val_loss: 0.0076 - val_accuracy: 0.9984\n",
      "Epoch 12/40\n",
      "153/153 [==============================] - 2s 11ms/step - loss: 0.0332 - accuracy: 0.9899 - val_loss: 0.0118 - val_accuracy: 0.9951\n",
      "Epoch 13/40\n",
      "153/153 [==============================] - 2s 11ms/step - loss: 0.0287 - accuracy: 0.9916 - val_loss: 0.0085 - val_accuracy: 0.9992\n",
      "Epoch 14/40\n",
      "153/153 [==============================] - 2s 11ms/step - loss: 0.0240 - accuracy: 0.9932 - val_loss: 0.0093 - val_accuracy: 0.9967\n",
      "Epoch 15/40\n",
      "153/153 [==============================] - 2s 11ms/step - loss: 0.0215 - accuracy: 0.9940 - val_loss: 0.0127 - val_accuracy: 0.9951\n",
      "Epoch 16/40\n",
      "153/153 [==============================] - 2s 11ms/step - loss: 0.0202 - accuracy: 0.9947 - val_loss: 0.0031 - val_accuracy: 1.0000\n",
      "Epoch 17/40\n",
      "153/153 [==============================] - 2s 11ms/step - loss: 0.0255 - accuracy: 0.9922 - val_loss: 0.0046 - val_accuracy: 0.9992\n",
      "Epoch 18/40\n",
      "153/153 [==============================] - 2s 11ms/step - loss: 0.0198 - accuracy: 0.9953 - val_loss: 0.0018 - val_accuracy: 1.0000\n",
      "Epoch 19/40\n",
      "153/153 [==============================] - 2s 11ms/step - loss: 0.0151 - accuracy: 0.9955 - val_loss: 0.0037 - val_accuracy: 0.9992\n",
      "Epoch 20/40\n",
      "153/153 [==============================] - 2s 11ms/step - loss: 0.0129 - accuracy: 0.9963 - val_loss: 0.0018 - val_accuracy: 1.0000\n",
      "Epoch 21/40\n",
      "153/153 [==============================] - 2s 11ms/step - loss: 0.0110 - accuracy: 0.9967 - val_loss: 0.0024 - val_accuracy: 0.9992\n",
      "Epoch 22/40\n",
      "153/153 [==============================] - 2s 11ms/step - loss: 0.0122 - accuracy: 0.9973 - val_loss: 0.0027 - val_accuracy: 1.0000\n",
      "Epoch 23/40\n",
      "153/153 [==============================] - 2s 11ms/step - loss: 0.0121 - accuracy: 0.9959 - val_loss: 0.0055 - val_accuracy: 0.9967\n",
      "Epoch 24/40\n",
      "153/153 [==============================] - 2s 12ms/step - loss: 0.0108 - accuracy: 0.9963 - val_loss: 0.0047 - val_accuracy: 0.9984\n",
      "Epoch 25/40\n",
      "153/153 [==============================] - 2s 11ms/step - loss: 0.0125 - accuracy: 0.9967 - val_loss: 0.0040 - val_accuracy: 0.9992\n",
      "Epoch 26/40\n",
      "153/153 [==============================] - 2s 11ms/step - loss: 0.0089 - accuracy: 0.9971 - val_loss: 9.0402e-04 - val_accuracy: 1.0000\n",
      "Epoch 27/40\n",
      "153/153 [==============================] - 2s 11ms/step - loss: 0.0070 - accuracy: 0.9977 - val_loss: 0.0062 - val_accuracy: 0.9967\n",
      "Epoch 28/40\n",
      "153/153 [==============================] - 2s 11ms/step - loss: 0.0105 - accuracy: 0.9969 - val_loss: 0.0024 - val_accuracy: 1.0000\n",
      "Epoch 29/40\n",
      "153/153 [==============================] - 2s 11ms/step - loss: 0.0077 - accuracy: 0.9973 - val_loss: 0.0019 - val_accuracy: 0.9992\n",
      "Epoch 30/40\n",
      "153/153 [==============================] - 2s 10ms/step - loss: 0.0064 - accuracy: 0.9984 - val_loss: 0.0032 - val_accuracy: 0.9984\n",
      "Epoch 31/40\n",
      "153/153 [==============================] - 2s 11ms/step - loss: 0.0054 - accuracy: 0.9982 - val_loss: 0.0011 - val_accuracy: 1.0000\n",
      "Epoch 32/40\n",
      "153/153 [==============================] - 2s 10ms/step - loss: 0.0099 - accuracy: 0.9979 - val_loss: 0.0254 - val_accuracy: 0.9934\n",
      "Epoch 33/40\n",
      "153/153 [==============================] - 2s 11ms/step - loss: 0.0151 - accuracy: 0.9957 - val_loss: 9.8156e-04 - val_accuracy: 1.0000\n",
      "Epoch 34/40\n",
      "153/153 [==============================] - 2s 10ms/step - loss: 0.0103 - accuracy: 0.9967 - val_loss: 0.0208 - val_accuracy: 0.9926\n",
      "Epoch 35/40\n",
      "153/153 [==============================] - 2s 11ms/step - loss: 0.0090 - accuracy: 0.9973 - val_loss: 0.0029 - val_accuracy: 0.9984\n",
      "Epoch 36/40\n",
      "153/153 [==============================] - 2s 11ms/step - loss: 0.0121 - accuracy: 0.9973 - val_loss: 4.0683e-04 - val_accuracy: 1.0000\n",
      "Epoch 37/40\n",
      "153/153 [==============================] - 2s 10ms/step - loss: 0.0047 - accuracy: 0.9992 - val_loss: 4.0104e-04 - val_accuracy: 1.0000\n",
      "Epoch 38/40\n",
      "153/153 [==============================] - 2s 10ms/step - loss: 0.0030 - accuracy: 0.9994 - val_loss: 0.0013 - val_accuracy: 1.0000\n",
      "Epoch 39/40\n",
      "153/153 [==============================] - 2s 10ms/step - loss: 0.0050 - accuracy: 0.9988 - val_loss: 9.5559e-04 - val_accuracy: 1.0000\n",
      "Epoch 40/40\n",
      "153/153 [==============================] - 2s 10ms/step - loss: 0.0076 - accuracy: 0.9975 - val_loss: 0.0020 - val_accuracy: 0.9992\n"
     ]
    },
    {
     "ename": "FileNotFoundError",
     "evalue": "[Errno 2] No such file or directory: '/Users/javonnii/dolby_io/acc_loss_metrics.png'",
     "output_type": "error",
     "traceback": [
      "\u001b[0;31m---------------------------------------------------------------------------\u001b[0m",
      "\u001b[0;31mFileNotFoundError\u001b[0m                         Traceback (most recent call last)",
      "Cell \u001b[0;32mIn[18], line 5\u001b[0m\n\u001b[1;32m      2\u001b[0m history \u001b[39m=\u001b[39m model\u001b[39m.\u001b[39mfit(X_train, y_train, validation_data\u001b[39m=\u001b[39m(X_validation, y_validation), batch_size\u001b[39m=\u001b[39m\u001b[39m32\u001b[39m, epochs\u001b[39m=\u001b[39m\u001b[39m40\u001b[39m)\n\u001b[1;32m      4\u001b[0m \u001b[39m# plot accuracy/error for training and validation\u001b[39;00m\n\u001b[0;32m----> 5\u001b[0m plot_history(history)\n",
      "Cell \u001b[0;32mIn[14], line 26\u001b[0m, in \u001b[0;36mplot_history\u001b[0;34m(history)\u001b[0m\n\u001b[1;32m     24\u001b[0m \u001b[39m# Save image\u001b[39;00m\n\u001b[1;32m     25\u001b[0m fig\u001b[39m.\u001b[39msubplots_adjust(hspace\u001b[39m=\u001b[39m\u001b[39m0.5\u001b[39m)\n\u001b[0;32m---> 26\u001b[0m plt\u001b[39m.\u001b[39;49msavefig(\u001b[39m'\u001b[39;49m\u001b[39m/Users/javonnii/dolby_io/acc_loss_metrics.png\u001b[39;49m\u001b[39m'\u001b[39;49m, bbox_inches\u001b[39m=\u001b[39;49m\u001b[39m'\u001b[39;49m\u001b[39mtight\u001b[39;49m\u001b[39m'\u001b[39;49m)\n\u001b[1;32m     27\u001b[0m plt\u001b[39m.\u001b[39mshow()\n",
      "File \u001b[0;32m~/Documents/marine-mammal-call-classification/mammal-env/lib/python3.9/site-packages/matplotlib/pyplot.py:954\u001b[0m, in \u001b[0;36msavefig\u001b[0;34m(*args, **kwargs)\u001b[0m\n\u001b[1;32m    951\u001b[0m \u001b[39m@_copy_docstring_and_deprecators\u001b[39m(Figure\u001b[39m.\u001b[39msavefig)\n\u001b[1;32m    952\u001b[0m \u001b[39mdef\u001b[39;00m \u001b[39msavefig\u001b[39m(\u001b[39m*\u001b[39margs, \u001b[39m*\u001b[39m\u001b[39m*\u001b[39mkwargs):\n\u001b[1;32m    953\u001b[0m     fig \u001b[39m=\u001b[39m gcf()\n\u001b[0;32m--> 954\u001b[0m     res \u001b[39m=\u001b[39m fig\u001b[39m.\u001b[39;49msavefig(\u001b[39m*\u001b[39;49margs, \u001b[39m*\u001b[39;49m\u001b[39m*\u001b[39;49mkwargs)\n\u001b[1;32m    955\u001b[0m     fig\u001b[39m.\u001b[39mcanvas\u001b[39m.\u001b[39mdraw_idle()  \u001b[39m# Need this if 'transparent=True', to reset colors.\u001b[39;00m\n\u001b[1;32m    956\u001b[0m     \u001b[39mreturn\u001b[39;00m res\n",
      "File \u001b[0;32m~/Documents/marine-mammal-call-classification/mammal-env/lib/python3.9/site-packages/matplotlib/figure.py:3274\u001b[0m, in \u001b[0;36mFigure.savefig\u001b[0;34m(self, fname, transparent, **kwargs)\u001b[0m\n\u001b[1;32m   3270\u001b[0m     \u001b[39mfor\u001b[39;00m ax \u001b[39min\u001b[39;00m \u001b[39mself\u001b[39m\u001b[39m.\u001b[39maxes:\n\u001b[1;32m   3271\u001b[0m         stack\u001b[39m.\u001b[39menter_context(\n\u001b[1;32m   3272\u001b[0m             ax\u001b[39m.\u001b[39mpatch\u001b[39m.\u001b[39m_cm_set(facecolor\u001b[39m=\u001b[39m\u001b[39m'\u001b[39m\u001b[39mnone\u001b[39m\u001b[39m'\u001b[39m, edgecolor\u001b[39m=\u001b[39m\u001b[39m'\u001b[39m\u001b[39mnone\u001b[39m\u001b[39m'\u001b[39m))\n\u001b[0;32m-> 3274\u001b[0m \u001b[39mself\u001b[39;49m\u001b[39m.\u001b[39;49mcanvas\u001b[39m.\u001b[39;49mprint_figure(fname, \u001b[39m*\u001b[39;49m\u001b[39m*\u001b[39;49mkwargs)\n",
      "File \u001b[0;32m~/Documents/marine-mammal-call-classification/mammal-env/lib/python3.9/site-packages/matplotlib/backend_bases.py:2338\u001b[0m, in \u001b[0;36mFigureCanvasBase.print_figure\u001b[0;34m(self, filename, dpi, facecolor, edgecolor, orientation, format, bbox_inches, pad_inches, bbox_extra_artists, backend, **kwargs)\u001b[0m\n\u001b[1;32m   2334\u001b[0m \u001b[39mtry\u001b[39;00m:\n\u001b[1;32m   2335\u001b[0m     \u001b[39m# _get_renderer may change the figure dpi (as vector formats\u001b[39;00m\n\u001b[1;32m   2336\u001b[0m     \u001b[39m# force the figure dpi to 72), so we need to set it again here.\u001b[39;00m\n\u001b[1;32m   2337\u001b[0m     \u001b[39mwith\u001b[39;00m cbook\u001b[39m.\u001b[39m_setattr_cm(\u001b[39mself\u001b[39m\u001b[39m.\u001b[39mfigure, dpi\u001b[39m=\u001b[39mdpi):\n\u001b[0;32m-> 2338\u001b[0m         result \u001b[39m=\u001b[39m print_method(\n\u001b[1;32m   2339\u001b[0m             filename,\n\u001b[1;32m   2340\u001b[0m             facecolor\u001b[39m=\u001b[39;49mfacecolor,\n\u001b[1;32m   2341\u001b[0m             edgecolor\u001b[39m=\u001b[39;49medgecolor,\n\u001b[1;32m   2342\u001b[0m             orientation\u001b[39m=\u001b[39;49morientation,\n\u001b[1;32m   2343\u001b[0m             bbox_inches_restore\u001b[39m=\u001b[39;49m_bbox_inches_restore,\n\u001b[1;32m   2344\u001b[0m             \u001b[39m*\u001b[39;49m\u001b[39m*\u001b[39;49mkwargs)\n\u001b[1;32m   2345\u001b[0m \u001b[39mfinally\u001b[39;00m:\n\u001b[1;32m   2346\u001b[0m     \u001b[39mif\u001b[39;00m bbox_inches \u001b[39mand\u001b[39;00m restore_bbox:\n",
      "File \u001b[0;32m~/Documents/marine-mammal-call-classification/mammal-env/lib/python3.9/site-packages/matplotlib/backend_bases.py:2204\u001b[0m, in \u001b[0;36mFigureCanvasBase._switch_canvas_and_return_print_method.<locals>.<lambda>\u001b[0;34m(*args, **kwargs)\u001b[0m\n\u001b[1;32m   2200\u001b[0m     optional_kws \u001b[39m=\u001b[39m {  \u001b[39m# Passed by print_figure for other renderers.\u001b[39;00m\n\u001b[1;32m   2201\u001b[0m         \u001b[39m\"\u001b[39m\u001b[39mdpi\u001b[39m\u001b[39m\"\u001b[39m, \u001b[39m\"\u001b[39m\u001b[39mfacecolor\u001b[39m\u001b[39m\"\u001b[39m, \u001b[39m\"\u001b[39m\u001b[39medgecolor\u001b[39m\u001b[39m\"\u001b[39m, \u001b[39m\"\u001b[39m\u001b[39morientation\u001b[39m\u001b[39m\"\u001b[39m,\n\u001b[1;32m   2202\u001b[0m         \u001b[39m\"\u001b[39m\u001b[39mbbox_inches_restore\u001b[39m\u001b[39m\"\u001b[39m}\n\u001b[1;32m   2203\u001b[0m     skip \u001b[39m=\u001b[39m optional_kws \u001b[39m-\u001b[39m {\u001b[39m*\u001b[39minspect\u001b[39m.\u001b[39msignature(meth)\u001b[39m.\u001b[39mparameters}\n\u001b[0;32m-> 2204\u001b[0m     print_method \u001b[39m=\u001b[39m functools\u001b[39m.\u001b[39mwraps(meth)(\u001b[39mlambda\u001b[39;00m \u001b[39m*\u001b[39margs, \u001b[39m*\u001b[39m\u001b[39m*\u001b[39mkwargs: meth(\n\u001b[1;32m   2205\u001b[0m         \u001b[39m*\u001b[39;49margs, \u001b[39m*\u001b[39;49m\u001b[39m*\u001b[39;49m{k: v \u001b[39mfor\u001b[39;49;00m k, v \u001b[39min\u001b[39;49;00m kwargs\u001b[39m.\u001b[39;49mitems() \u001b[39mif\u001b[39;49;00m k \u001b[39mnot\u001b[39;49;00m \u001b[39min\u001b[39;49;00m skip}))\n\u001b[1;32m   2206\u001b[0m \u001b[39melse\u001b[39;00m:  \u001b[39m# Let third-parties do as they see fit.\u001b[39;00m\n\u001b[1;32m   2207\u001b[0m     print_method \u001b[39m=\u001b[39m meth\n",
      "File \u001b[0;32m~/Documents/marine-mammal-call-classification/mammal-env/lib/python3.9/site-packages/matplotlib/_api/deprecation.py:410\u001b[0m, in \u001b[0;36mdelete_parameter.<locals>.wrapper\u001b[0;34m(*inner_args, **inner_kwargs)\u001b[0m\n\u001b[1;32m    400\u001b[0m     deprecation_addendum \u001b[39m=\u001b[39m (\n\u001b[1;32m    401\u001b[0m         \u001b[39mf\u001b[39m\u001b[39m\"\u001b[39m\u001b[39mIf any parameter follows \u001b[39m\u001b[39m{\u001b[39;00mname\u001b[39m!r}\u001b[39;00m\u001b[39m, they should be passed as \u001b[39m\u001b[39m\"\u001b[39m\n\u001b[1;32m    402\u001b[0m         \u001b[39mf\u001b[39m\u001b[39m\"\u001b[39m\u001b[39mkeyword, not positionally.\u001b[39m\u001b[39m\"\u001b[39m)\n\u001b[1;32m    403\u001b[0m     warn_deprecated(\n\u001b[1;32m    404\u001b[0m         since,\n\u001b[1;32m    405\u001b[0m         name\u001b[39m=\u001b[39m\u001b[39mrepr\u001b[39m(name),\n\u001b[0;32m   (...)\u001b[0m\n\u001b[1;32m    408\u001b[0m                  \u001b[39melse\u001b[39;00m deprecation_addendum,\n\u001b[1;32m    409\u001b[0m         \u001b[39m*\u001b[39m\u001b[39m*\u001b[39mkwargs)\n\u001b[0;32m--> 410\u001b[0m \u001b[39mreturn\u001b[39;00m func(\u001b[39m*\u001b[39;49minner_args, \u001b[39m*\u001b[39;49m\u001b[39m*\u001b[39;49minner_kwargs)\n",
      "File \u001b[0;32m~/Documents/marine-mammal-call-classification/mammal-env/lib/python3.9/site-packages/matplotlib/backends/backend_agg.py:517\u001b[0m, in \u001b[0;36mFigureCanvasAgg.print_png\u001b[0;34m(self, filename_or_obj, metadata, pil_kwargs, *args)\u001b[0m\n\u001b[1;32m    468\u001b[0m \u001b[39m@_api\u001b[39m\u001b[39m.\u001b[39mdelete_parameter(\u001b[39m\"\u001b[39m\u001b[39m3.5\u001b[39m\u001b[39m\"\u001b[39m, \u001b[39m\"\u001b[39m\u001b[39margs\u001b[39m\u001b[39m\"\u001b[39m)\n\u001b[1;32m    469\u001b[0m \u001b[39mdef\u001b[39;00m \u001b[39mprint_png\u001b[39m(\u001b[39mself\u001b[39m, filename_or_obj, \u001b[39m*\u001b[39margs,\n\u001b[1;32m    470\u001b[0m               metadata\u001b[39m=\u001b[39m\u001b[39mNone\u001b[39;00m, pil_kwargs\u001b[39m=\u001b[39m\u001b[39mNone\u001b[39;00m):\n\u001b[1;32m    471\u001b[0m     \u001b[39m\"\"\"\u001b[39;00m\n\u001b[1;32m    472\u001b[0m \u001b[39m    Write the figure to a PNG file.\u001b[39;00m\n\u001b[1;32m    473\u001b[0m \n\u001b[0;32m   (...)\u001b[0m\n\u001b[1;32m    515\u001b[0m \u001b[39m        *metadata*, including the default 'Software' key.\u001b[39;00m\n\u001b[1;32m    516\u001b[0m \u001b[39m    \"\"\"\u001b[39;00m\n\u001b[0;32m--> 517\u001b[0m     \u001b[39mself\u001b[39;49m\u001b[39m.\u001b[39;49m_print_pil(filename_or_obj, \u001b[39m\"\u001b[39;49m\u001b[39mpng\u001b[39;49m\u001b[39m\"\u001b[39;49m, pil_kwargs, metadata)\n",
      "File \u001b[0;32m~/Documents/marine-mammal-call-classification/mammal-env/lib/python3.9/site-packages/matplotlib/backends/backend_agg.py:464\u001b[0m, in \u001b[0;36mFigureCanvasAgg._print_pil\u001b[0;34m(self, filename_or_obj, fmt, pil_kwargs, metadata)\u001b[0m\n\u001b[1;32m    459\u001b[0m \u001b[39m\"\"\"\u001b[39;00m\n\u001b[1;32m    460\u001b[0m \u001b[39mDraw the canvas, then save it using `.image.imsave` (to which\u001b[39;00m\n\u001b[1;32m    461\u001b[0m \u001b[39m*pil_kwargs* and *metadata* are forwarded).\u001b[39;00m\n\u001b[1;32m    462\u001b[0m \u001b[39m\"\"\"\u001b[39;00m\n\u001b[1;32m    463\u001b[0m FigureCanvasAgg\u001b[39m.\u001b[39mdraw(\u001b[39mself\u001b[39m)\n\u001b[0;32m--> 464\u001b[0m mpl\u001b[39m.\u001b[39;49mimage\u001b[39m.\u001b[39;49mimsave(\n\u001b[1;32m    465\u001b[0m     filename_or_obj, \u001b[39mself\u001b[39;49m\u001b[39m.\u001b[39;49mbuffer_rgba(), \u001b[39mformat\u001b[39;49m\u001b[39m=\u001b[39;49mfmt, origin\u001b[39m=\u001b[39;49m\u001b[39m\"\u001b[39;49m\u001b[39mupper\u001b[39;49m\u001b[39m\"\u001b[39;49m,\n\u001b[1;32m    466\u001b[0m     dpi\u001b[39m=\u001b[39;49m\u001b[39mself\u001b[39;49m\u001b[39m.\u001b[39;49mfigure\u001b[39m.\u001b[39;49mdpi, metadata\u001b[39m=\u001b[39;49mmetadata, pil_kwargs\u001b[39m=\u001b[39;49mpil_kwargs)\n",
      "File \u001b[0;32m~/Documents/marine-mammal-call-classification/mammal-env/lib/python3.9/site-packages/matplotlib/image.py:1664\u001b[0m, in \u001b[0;36mimsave\u001b[0;34m(fname, arr, vmin, vmax, cmap, format, origin, dpi, metadata, pil_kwargs)\u001b[0m\n\u001b[1;32m   1662\u001b[0m pil_kwargs\u001b[39m.\u001b[39msetdefault(\u001b[39m\"\u001b[39m\u001b[39mformat\u001b[39m\u001b[39m\"\u001b[39m, \u001b[39mformat\u001b[39m)\n\u001b[1;32m   1663\u001b[0m pil_kwargs\u001b[39m.\u001b[39msetdefault(\u001b[39m\"\u001b[39m\u001b[39mdpi\u001b[39m\u001b[39m\"\u001b[39m, (dpi, dpi))\n\u001b[0;32m-> 1664\u001b[0m image\u001b[39m.\u001b[39;49msave(fname, \u001b[39m*\u001b[39;49m\u001b[39m*\u001b[39;49mpil_kwargs)\n",
      "File \u001b[0;32m~/Documents/marine-mammal-call-classification/mammal-env/lib/python3.9/site-packages/PIL/Image.py:2350\u001b[0m, in \u001b[0;36mImage.save\u001b[0;34m(self, fp, format, **params)\u001b[0m\n\u001b[1;32m   2348\u001b[0m         fp \u001b[39m=\u001b[39m builtins\u001b[39m.\u001b[39mopen(filename, \u001b[39m\"\u001b[39m\u001b[39mr+b\u001b[39m\u001b[39m\"\u001b[39m)\n\u001b[1;32m   2349\u001b[0m     \u001b[39melse\u001b[39;00m:\n\u001b[0;32m-> 2350\u001b[0m         fp \u001b[39m=\u001b[39m builtins\u001b[39m.\u001b[39;49mopen(filename, \u001b[39m\"\u001b[39;49m\u001b[39mw+b\u001b[39;49m\u001b[39m\"\u001b[39;49m)\n\u001b[1;32m   2352\u001b[0m \u001b[39mtry\u001b[39;00m:\n\u001b[1;32m   2353\u001b[0m     save_handler(\u001b[39mself\u001b[39m, fp, filename)\n",
      "\u001b[0;31mFileNotFoundError\u001b[0m: [Errno 2] No such file or directory: '/Users/javonnii/dolby_io/acc_loss_metrics.png'"
     ]
    },
    {
     "data": {
      "image/png": "[encoded data removed]",
      "text/plain": [
       "<Figure size 640x480 with 2 Axes>"
      ]
     },
     "metadata": {},
     "output_type": "display_data"
    }
   ],
   "source": [
    "# Train the cnn \n",
    "history = model.fit(X_train, y_train, validation_data=(X_validation, y_validation), batch_size=32, epochs=40)\n",
    "\n",
    "# plot accuracy/error for training and validation\n",
    "plot_history(history)"
   ]
  },
  {
   "cell_type": "code",
   "execution_count": 30,
   "metadata": {
    "ExecuteTime": {
     "end_time": "2021-02-21T11:23:17.005801Z",
     "start_time": "2021-02-21T11:23:16.201732Z"
    },
    "scrolled": true
   },
   "outputs": [
    {
     "name": "stdout",
     "output_type": "stream",
     "text": [
      "115/115 [==============================] - 1s 6ms/step - loss: 0.0740 - accuracy: 0.9755\n",
      "Accuracy on test set is: 0.9755101799964905\n"
     ]
    }
   ],
   "source": [
    "# evaluate the cnn on the test set\n",
    "\n",
    "test_error, test_accuracy = model.evaluate(X_test, y_test, verbose=1)\n",
    "print(\"Accuracy on test set is: {}\".format(test_accuracy))"
   ]
  },
  {
   "cell_type": "markdown",
   "metadata": {},
   "source": [
    "# Confusion Matrix"
   ]
  },
  {
   "cell_type": "code",
   "execution_count": 31,
   "metadata": {
    "ExecuteTime": {
     "end_time": "2021-02-21T11:25:21.476857Z",
     "start_time": "2021-02-21T11:23:30.671974Z"
    }
   },
   "outputs": [
    {
     "name": "stdout",
     "output_type": "stream",
     "text": [
      "[4. 3. 5. ... 3. 7. 4.]\n"
     ]
    }
   ],
   "source": [
    "# iterate each sample of X_test, predict, and store predicted index into a numpy array.\n",
    "\n",
    "ypred_array = np.array([])\n",
    "\n",
    "for i in range(len(X_test)):\n",
    "    X = X_test[i]\n",
    "    X = X[np.newaxis, ...] # to make a 4D\n",
    "    \n",
    "    # prediction\n",
    "    prediction = model.predict(X)\n",
    "    \n",
    "    # extract the index with the max value\n",
    "    predicted_index = np.argmax(prediction, axis=1)\n",
    "    ypred_array = np.append(ypred_array, predicted_index)\n",
    "\n",
    "print(ypred_array)"
   ]
  },
  {
   "cell_type": "code",
   "execution_count": 32,
   "metadata": {
    "ExecuteTime": {
     "end_time": "2021-02-21T11:25:35.000860Z",
     "start_time": "2021-02-21T11:25:33.941756Z"
    }
   },
   "outputs": [
    {
     "data": {
      "image/png": "[encoded data removed]",
      "text/plain": [
       "<Figure size 720x576 with 2 Axes>"
      ]
     },
     "metadata": {},
     "output_type": "display_data"
    }
   ],
   "source": [
    "confusion_mtx = tf.math.confusion_matrix(y_test, ypred_array) \n",
    "plt.figure(figsize=(10, 8))\n",
    "sns.heatmap(confusion_mtx, xticklabels=data['mapping'], yticklabels=data['mapping'], \n",
    "            annot=True, fmt='g')\n",
    "plt.xlabel('Prediction')\n",
    "plt.ylabel('Label')\n",
    "plt.title(\"Confusion Matrix of CNN\")\n",
    "plt.savefig('/Users/javonnii/dolby_io/finalCFcnn.png', bbox_inches='tight')\n",
    "plt.show();"
   ]
  },
  {
   "cell_type": "markdown",
   "metadata": {},
   "source": [
    "# Predict a sample"
   ]
  },
  {
   "cell_type": "code",
   "execution_count": 33,
   "metadata": {
    "ExecuteTime": {
     "end_time": "2021-02-21T11:26:33.109441Z",
     "start_time": "2021-02-21T11:26:33.106029Z"
    }
   },
   "outputs": [],
   "source": [
    "def predict(model, X, y):\n",
    "    X = X[np.newaxis, ...] # to put make a 4D\n",
    "    \n",
    "    # prediction = [ [0.1, 0.2, ...] ] result of the softmax\n",
    "    prediction = model.predict(X) # X -> (130, 13, 1) but expect 4D i.e num samples (1, 130, 13, 1)\n",
    "    \n",
    "    # extract the index with the max value\n",
    "    predicted_index = np.argmax(prediction, axis=1) # [idx] \n",
    "    print(\"Expected index: {}, Predicted index: {}\".format(y, predicted_index))\n",
    "#     print(X.shape)\n",
    "    "
   ]
  },
  {
   "cell_type": "code",
   "execution_count": 34,
   "metadata": {
    "ExecuteTime": {
     "end_time": "2021-02-21T11:26:34.589103Z",
     "start_time": "2021-02-21T11:26:34.539585Z"
    }
   },
   "outputs": [
    {
     "name": "stdout",
     "output_type": "stream",
     "text": [
      "Expected index: 0, Predicted index: [0]\n"
     ]
    }
   ],
   "source": [
    "# make a prediction on a sample\n",
    "X = X_test[65]\n",
    "y = y_test[65]\n",
    "\n",
    "predict(model, X, y)"
   ]
  },
  {
   "cell_type": "markdown",
   "metadata": {},
   "source": [
    "# Save the model"
   ]
  },
  {
   "cell_type": "code",
   "execution_count": 35,
   "metadata": {
    "ExecuteTime": {
     "end_time": "2021-02-21T11:27:01.719959Z",
     "start_time": "2021-02-21T11:27:01.533251Z"
    }
   },
   "outputs": [],
   "source": [
    "# make a directory for saved models\n",
    "# ! mkdir -p saved_model"
   ]
  },
  {
   "cell_type": "code",
   "execution_count": 38,
   "metadata": {
    "ExecuteTime": {
     "end_time": "2021-02-21T13:27:17.757211Z",
     "start_time": "2021-02-21T13:27:15.532923Z"
    }
   },
   "outputs": [
    {
     "name": "stdout",
     "output_type": "stream",
     "text": [
      "INFO:tensorflow:Assets written to: saved_model/FinalCnnModel6/assets\n"
     ]
    }
   ],
   "source": [
    "# save the entire model\n",
    "model.save('saved_model/FinalCnnModel6')"
   ]
  },
  {
   "cell_type": "code",
   "execution_count": null,
   "metadata": {},
   "outputs": [],
   "source": []
  }
 ],
 "metadata": {
  "kernelspec": {
   "display_name": "Python 3.11.0 ('mammal-env': venv)",
   "language": "python",
   "name": "python3"
  },
  "language_info": {
   "codemirror_mode": {
    "name": "ipython",
    "version": 3
   },
   "file_extension": ".py",
   "mimetype": "text/x-python",
   "name": "python",
   "nbconvert_exporter": "python",
   "pygments_lexer": "ipython3",
   "version": "3.9.6"
  },
  "varInspector": {
   "cols": {
    "lenName": 16,
    "lenType": 16,
    "lenVar": 40
   },
   "kernels_config": {
    "python": {
     "delete_cmd_postfix": "",
     "delete_cmd_prefix": "del ",
     "library": "var_list.py",
     "varRefreshCmd": "print(var_dic_list())"
    },
    "r": {
     "delete_cmd_postfix": ") ",
     "delete_cmd_prefix": "rm(",
     "library": "var_list.r",
     "varRefreshCmd": "cat(var_dic_list()) "
    }
   },
   "types_to_exclude": [
    "module",
    "function",
    "builtin_function_or_method",
    "instance",
    "_Feature"
   ],
   "window_display": false
  },
  "vscode": {
   "interpreter": {
    "hash": "34ef32b04849682084fce80155c31b950d6cde80e98fb8c6edf1d39bac8ab09b"
   }
  }
 },
 "nbformat": 4,
 "nbformat_minor": 4
}
