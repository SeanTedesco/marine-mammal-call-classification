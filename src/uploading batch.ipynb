{
 "cells": [
  {
   "cell_type": "code",
   "execution_count": null,
   "metadata": {
    "ExecuteTime": {
     "end_time": "2021-02-21T00:35:33.684975Z",
     "start_time": "2021-02-21T00:35:33.589519Z"
    }
   },
   "outputs": [],
   "source": [
    "import os\n",
    "import requests\n",
    "import math\n",
    "import json"
   ]
  },
  {
   "cell_type": "code",
   "execution_count": null,
   "metadata": {
    "ExecuteTime": {
     "end_time": "2021-02-21T03:58:27.668830Z",
     "start_time": "2021-02-21T03:58:27.666511Z"
    }
   },
   "outputs": [],
   "source": [
    "API_KEY = \"API_KEY\"\n",
    "JSON_PATH = \"/Users/javonnii/dolby_io/test.json\"\n",
    "DATASET_PATH = \"path to dataset\"\n",
    "url = \"https://api.dolby.com/media/input\" # to upload to Dolby's S3 container"
   ]
  },
  {
   "cell_type": "markdown",
   "metadata": {},
   "source": [
    "# Upload audio file to Dolby I.O"
   ]
  },
  {
   "cell_type": "code",
   "execution_count": null,
   "metadata": {
    "ExecuteTime": {
     "end_time": "2021-02-21T01:52:05.569451Z",
     "start_time": "2021-02-21T01:52:05.562552Z"
    },
    "scrolled": true
   },
   "outputs": [],
   "source": [
    "# check file path\n",
    "for files in enumerate(os.path(DATASET_PATH)):\n",
    "    print(files)"
   ]
  },
  {
   "cell_type": "markdown",
   "metadata": {},
   "source": [
    "## accumulate dolby input locations for each class"
   ]
  },
  {
   "cell_type": "code",
   "execution_count": null,
   "metadata": {
    "ExecuteTime": {
     "end_time": "2021-02-21T02:19:08.886610Z",
     "start_time": "2021-02-21T02:19:08.883783Z"
    }
   },
   "outputs": [],
   "source": [
    "# accumulators\n",
    "bowhead_whale = []\n",
    "short_finned_pilot_whale = []\n",
    "risso_dolphin = []\n",
    "white_sided_dolphin = []\n",
    "northern_right_whale = []\n",
    "false_killer_whale = []\n",
    "killer_whale = []\n",
    "humpback_whale = []\n",
    "sperm_whale = []\n",
    "bowhead_whale = []"
   ]
  },
  {
   "cell_type": "code",
   "execution_count": null,
   "metadata": {
    "ExecuteTime": {
     "end_time": "2021-02-21T02:22:00.721899Z",
     "start_time": "2021-02-21T02:22:00.716911Z"
    }
   },
   "outputs": [],
   "source": [
    "# iterate through directories and upload audio files to S3\n",
    "\n",
    "os.environ[\"PATH\"] += os.pathsep + '/usr/local/bin'\n",
    "\n",
    "\n",
    "def batch_operations(loc):\n",
    "    for f in os.listdir(DATASET_PATH):\n",
    "        if f not in (\".ipynb_checkpoints\"):\n",
    "            file_path = os.path.join(DATASET_PATH, f)\n",
    "            headers = {\n",
    "                \"x-api-key\": API_KEY,\n",
    "                \"Content-Type\": \"application/json\",\n",
    "                \"Accept\": \"application/json\",\n",
    "            }\n",
    "\n",
    "            f = f.replace(\" \", \"_\")\n",
    "\n",
    "            body = {\n",
    "                \"url\": f\"dlb://in/{f}\",\n",
    "            }\n",
    "\n",
    "            X = body.get(\"url\")\n",
    "            loc.append(X)\n",
    "\n",
    "            response = requests.post(url, json=body, headers=headers)\n",
    "            response.raise_for_status()\n",
    "            data = response.json()\n",
    "            presigned_url = data[\"url\"]\n",
    "\n",
    "            print(\"Uploading {0} to {1}\".format(file_path, presigned_url))\n",
    "            with open(file_path, \"rb\") as input_file:\n",
    "                requests.put(presigned_url, data=input_file)"
   ]
  },
  {
   "cell_type": "code",
   "execution_count": null,
   "metadata": {
    "ExecuteTime": {
     "end_time": "2021-02-21T04:18:51.077805Z",
     "start_time": "2021-02-21T03:58:39.074644Z"
    }
   },
   "outputs": [],
   "source": [
    "batch_operations(white_sided_dolphin)"
   ]
  },
  {
   "cell_type": "markdown",
   "metadata": {},
   "source": [
    "# Start Here for Processing"
   ]
  },
  {
   "cell_type": "markdown",
   "metadata": {},
   "source": [
    "# Make an Enhance Request"
   ]
  },
  {
   "cell_type": "code",
   "execution_count": null,
   "metadata": {
    "ExecuteTime": {
     "end_time": "2021-02-21T09:21:51.939004Z",
     "start_time": "2021-02-21T09:21:51.935795Z"
    }
   },
   "outputs": [],
   "source": [
    "jobs = {}\n",
    "\n",
    "for file in sperm_whale: # change animal name here\n",
    "\n",
    "    jobs[file[9:]] ={\n",
    "        'wav': file,\n",
    "        'job_id': None,\n",
    "        'status': \"Pending\",\n",
    "        'response': None,\n",
    "    }"
   ]
  },
  {
   "cell_type": "code",
   "execution_count": null,
   "metadata": {
    "ExecuteTime": {
     "end_time": "2021-02-21T09:21:52.884962Z",
     "start_time": "2021-02-21T09:21:52.878590Z"
    },
    "scrolled": false
   },
   "outputs": [],
   "source": [
    "# double checking the dolby locations to ensure proper syntax\n",
    "for k, v in jobs.items():\n",
    "    print(v['wav'])"
   ]
  },
  {
   "cell_type": "code",
   "execution_count": null,
   "metadata": {
    "ExecuteTime": {
     "end_time": "2021-02-21T09:21:59.762252Z",
     "start_time": "2021-02-21T09:21:59.759422Z"
    }
   },
   "outputs": [],
   "source": [
    "# Good\n",
    "def start_batch_processing(jobs):\n",
    "    for k, v in jobs.items():\n",
    "        print(\"Start Enhancing: {}\".format(k))\n",
    "        job_id = post_media_enhance(v['wav'])\n",
    "        print(job_id)\n",
    "        jobs[k]['job_id'] = job_id\n",
    "    \n",
    "    return jobs"
   ]
  },
  {
   "cell_type": "code",
   "execution_count": null,
   "metadata": {
    "ExecuteTime": {
     "end_time": "2021-02-21T09:22:02.963763Z",
     "start_time": "2021-02-21T09:22:02.960268Z"
    }
   },
   "outputs": [],
   "source": [
    "# Good\n",
    "# create output accumulator to recall dolby output location for downloads\n",
    "output_path = []\n",
    "\n",
    "def post_media_enhance(loc): \n",
    "#     print(loc)\n",
    "    body = {\n",
    "        \"input\" : f\"{loc}\",\n",
    "        \"output\": f\"dlb://out/{loc[9:]}.enhance.json\"\n",
    "      }\n",
    "    output_path.append(body['output'])\n",
    "\n",
    "    url = \"https://api.dolby.com/media/enhance\"\n",
    "    headers = {\n",
    "      \"x-api-key\": API_KEY,\n",
    "      \"Content-Type\": \"application/json\",\n",
    "      \"Accept\": \"application/json\"\n",
    "    }\n",
    "    response = requests.post(url, json=body, headers=headers)\n",
    "    response.raise_for_status()\n",
    "    return response.json()[\"job_id\"]"
   ]
  },
  {
   "cell_type": "code",
   "execution_count": null,
   "metadata": {
    "ExecuteTime": {
     "end_time": "2021-02-21T09:28:55.644878Z",
     "start_time": "2021-02-21T09:22:04.470808Z"
    },
    "scrolled": false
   },
   "outputs": [],
   "source": [
    "X = start_batch_processing(jobs)"
   ]
  },
  {
   "cell_type": "code",
   "execution_count": null,
   "metadata": {
    "ExecuteTime": {
     "end_time": "2021-02-21T09:30:01.831239Z",
     "start_time": "2021-02-21T09:30:01.826182Z"
    },
    "scrolled": false
   },
   "outputs": [],
   "source": [
    "#X\n",
    "# make sure the output files look right! \"dlb://out/Humpback_Whale.wav\"\n",
    "output_path"
   ]
  },
  {
   "cell_type": "markdown",
   "metadata": {},
   "source": [
    "# Track Progress"
   ]
  },
  {
   "cell_type": "code",
   "execution_count": null,
   "metadata": {
    "ExecuteTime": {
     "end_time": "2021-02-21T09:30:06.499789Z",
     "start_time": "2021-02-21T09:30:06.497755Z"
    }
   },
   "outputs": [],
   "source": [
    "def get_url():\n",
    "    return 'https://api.dolby.com/media/enhance'"
   ]
  },
  {
   "cell_type": "code",
   "execution_count": null,
   "metadata": {
    "ExecuteTime": {
     "end_time": "2021-02-21T09:30:07.012201Z",
     "start_time": "2021-02-21T09:30:07.009128Z"
    }
   },
   "outputs": [],
   "source": [
    "#Good\n",
    "\n",
    "def get_media_enhance(job_id):\n",
    "    url = get_url()\n",
    "    headers = {\n",
    "      \"x-api-key\": API_KEY,\n",
    "      \"Content-Type\": \"application/json\",\n",
    "      \"Accept\": \"application/json\"\n",
    "    }\n",
    "    params = {\"job_id\": job_id}\n",
    "\n",
    "    response = requests.get(url, params=params, headers=headers)\n",
    "    response.raise_for_status()\n",
    "    data = response.json()\n",
    "    return data"
   ]
  },
  {
   "cell_type": "code",
   "execution_count": null,
   "metadata": {
    "ExecuteTime": {
     "end_time": "2021-02-21T09:30:07.981888Z",
     "start_time": "2021-02-21T09:30:07.977888Z"
    }
   },
   "outputs": [],
   "source": [
    "#Good\n",
    "import logging\n",
    "import time\n",
    "\n",
    "def check_job_status(jobs):\n",
    "    # Check status until all jobs are complete\n",
    "    active_jobs = True\n",
    "    while active_jobs:\n",
    "        active_jobs = False\n",
    "        for name in jobs.keys():\n",
    "            # Pending and Running status indicate the job is still processing\n",
    "            status = jobs[name]['status']\n",
    "            if status in {\"Pending\", \"Running\"}:\n",
    "                # Check again to see if there has been a change since\n",
    "                # the last loop.\n",
    "                response = get_media_enhance(jobs[name]['job_id'])\n",
    "                jobs[name]['status'] = response['status']\n",
    "                if response['status'] in {\"Pending\", \"Running\"}:\n",
    "                    active_jobs = True\n",
    "                else:\n",
    "                    # The job is complete, also store the response for later\n",
    "                    logging.debug(response['status'])\n",
    "                    jobs[name]['response'] = response\n",
    "\n",
    "        # Wait a bit and then retry\n",
    "        time.sleep(5)\n",
    "\n",
    "    return jobs"
   ]
  },
  {
   "cell_type": "code",
   "execution_count": null,
   "metadata": {
    "ExecuteTime": {
     "end_time": "2021-02-21T09:30:13.919255Z",
     "start_time": "2021-02-21T09:30:08.912233Z"
    }
   },
   "outputs": [],
   "source": [
    "results = check_job_status(test)"
   ]
  },
  {
   "cell_type": "code",
   "execution_count": null,
   "metadata": {
    "ExecuteTime": {
     "end_time": "2021-02-21T09:30:15.070269Z",
     "start_time": "2021-02-21T09:30:15.033248Z"
    }
   },
   "outputs": [],
   "source": [
    "results"
   ]
  },
  {
   "cell_type": "markdown",
   "metadata": {},
   "source": [
    "# Review the Output"
   ]
  },
  {
   "cell_type": "code",
   "execution_count": null,
   "metadata": {
    "ExecuteTime": {
     "end_time": "2021-02-21T09:34:26.355071Z",
     "start_time": "2021-02-21T09:30:21.177467Z"
    }
   },
   "outputs": [],
   "source": [
    "# Change the directory and filename here!!!\n",
    "\n",
    "import shutil\n",
    "\n",
    "# OUTPUT_PATH = \"/Users/javonnii/dolby_io/enhanced/.wav\"\n",
    "\n",
    "url = \"https://api.dolby.com/media/output\"\n",
    "\n",
    "headers = {\n",
    "  \"x-api-key\": API_KEY,\n",
    "  \"Content-Type\": \"application/json\",\n",
    "  \"Accept\": \"application/json\"\n",
    "}\n",
    "\n",
    "for idx, out in enumerate(output_path):\n",
    "    OUTPUT_PATH = f\"/Users/javonnii/dolby_io/enhanced/sperm_whale/sperm_whale{idx}.wav\"\n",
    "    args = {\n",
    "    \"url\": f\"{out}\"}\n",
    "    \n",
    "    with requests.get(url, params=args, headers=headers, stream=True) as response:\n",
    "        response.raise_for_status()\n",
    "        response.raw.decode_content = True\n",
    "        print(type(response.raw))\n",
    "        print(\"Downloading from {0} into {1}\".format(response.url, OUTPUT_PATH))\n",
    "        with open(OUTPUT_PATH, \"wb\") as output_file:\n",
    "            shutil.copyfileobj(response.raw, output_file)"
   ]
  },
  {
   "cell_type": "code",
   "execution_count": null,
   "metadata": {},
   "outputs": [],
   "source": []
  }
 ],
 "metadata": {
  "kernelspec": {
   "display_name": "Python 3",
   "language": "python",
   "name": "python3"
  },
  "language_info": {
   "codemirror_mode": {
    "name": "ipython",
    "version": 3
   },
   "file_extension": ".py",
   "mimetype": "text/x-python",
   "name": "python",
   "nbconvert_exporter": "python",
   "pygments_lexer": "ipython3",
   "version": "3.8.5"
  }
 },
 "nbformat": 4,
 "nbformat_minor": 4
}
